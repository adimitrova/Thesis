{
 "cells": [
  {
   "cell_type": "markdown",
   "metadata": {},
   "source": [
    "Data is pre-processed in Java by splitting it into sentences, each on a new line, and lowering the case of all files. New files are saved as TXT with \"\\_SENTbySENT\" added at the end of the file name"
   ]
  },
  {
   "cell_type": "code",
   "execution_count": 1,
   "metadata": {},
   "outputs": [],
   "source": [
    "# Import all necesssry modules\n",
    "import os, sys, os.path\n",
    "from stat import *\n",
    "import errno\n",
    "import glob\n",
    "import csv\n",
    "import re\n",
    "import shutil\n",
    "import csv"
   ]
  },
  {
   "cell_type": "markdown",
   "metadata": {
    "heading_collapsed": true
   },
   "source": [
    "## Count collected data files "
   ]
  },
  {
   "cell_type": "code",
   "execution_count": null,
   "metadata": {
    "hidden": true,
    "scrolled": true
   },
   "outputs": [],
   "source": [
    "path = r\"C:\\Users\\ani\\Desktop\\Course data Thesis\\PROCESSED\\all coures to select from\"\n",
    "#import os\n",
    "import os.path\n",
    "\n",
    "allFiles = sum([len(files) for r, d, files in os.walk(path)])\n",
    "\n",
    "print(\"All files: \", allFiles)\n",
    "\n",
    "# ---------------\n",
    "def fileCounter(folder):    \n",
    "    count = 0\n",
    "    \n",
    "    for filename in os.listdir(folder):\n",
    "        path = os.path.join(folder, filename)\n",
    "        \n",
    "        if os.path.isfile(path):\n",
    "            if os.path.isfile(path):\n",
    "                name = os.path.basename(path)\n",
    "                if name.endswith('.txt'):\n",
    "                    count += 1\n",
    "        elif os.path.isdir(path):\n",
    "            count += fileCounter(path)\n",
    "            \n",
    "    return count\n",
    "# ---------------\n",
    "\n",
    "\"\"\"\n",
    "TXT files:  563\n",
    "SRT files:  568\n",
    "RTF files:  562\n",
    "All Files:  1693\n",
    "\"\"\"\n",
    "\n",
    "print(\"TXT files: \", fileCounter(root))"
   ]
  },
  {
   "cell_type": "markdown",
   "metadata": {
    "heading_collapsed": true
   },
   "source": [
    "## List files in directories"
   ]
  },
  {
   "cell_type": "code",
   "execution_count": null,
   "metadata": {
    "hidden": true
   },
   "outputs": [],
   "source": [
    "#files = glob.glob(root)\n",
    "\n",
    "def traverseDir(rootIn):\n",
    "# traverse root directory, and list directories as dirs and files as files\n",
    "    for rootIn, dirs, files in os.walk(\".\"):\n",
    "        path = rootIn.split(os.sep)\n",
    "        print((len(path) - 1) * '---', os.path.basename(root))\n",
    "        for file in files:\n",
    "            print(len(path) * '---', file)\n",
    "            \n",
    "traverseDir(root)"
   ]
  },
  {
   "cell_type": "markdown",
   "metadata": {},
   "source": [
    "## Count all sentences in all files"
   ]
  },
  {
   "cell_type": "markdown",
   "metadata": {},
   "source": [
    "### Sentence and labels count + printing labeled sentences\n",
    "\n",
    "## --STATS--"
   ]
  },
  {
   "cell_type": "code",
   "execution_count": 40,
   "metadata": {},
   "outputs": [
    {
     "name": "stdout",
     "output_type": "stream",
     "text": [
      "____________________________________________________________\n",
      "| FILES: 113 | SENTENCES: 8981 | FOLDERS: 0 | TUPLES: 8889 |\n",
      "| LABELED SENT: 8906 | UNLABELED SENT: 75 |\n",
      "¯¯¯¯¯¯¯¯¯¯¯¯¯¯¯¯¯¯¯¯¯¯¯¯¯¯¯¯¯¯¯¯¯¯¯¯¯¯¯¯¯¯¯¯¯¯¯¯¯¯¯¯¯¯¯¯¯¯¯¯\n",
      "____________________________________________\n",
      "|CD   |\tCM  |\tSM |\tAP  |\tEX |\tNL | \n",
      "|6583 |\t277 |\t568 |\t318 |\t557|\t507| \n",
      "¯¯¯¯¯¯¯¯¯¯¯¯¯¯¯¯¯¯¯¯¯¯¯¯¯¯¯¯¯¯¯¯¯¯¯¯¯¯¯¯¯¯¯¯\n",
      "___________________________________\n",
      "| Labeled: 99.16 % | \n",
      "| CD: 6583 | CM/SM/AP/EX/NL: 2227 |\n",
      "¯¯¯¯¯¯¯¯¯¯¯¯¯¯¯¯¯¯¯¯¯¯¯¯¯¯¯¯¯¯¯¯¯¯¯\n",
      "___________________________________________________________________________________________\n",
      "\n",
      "-------PRINTING the first 25 <<AP>> TUPLES------\n",
      "\n",
      "('AP', 'first,differentiate your function can find all the critical points ')\n",
      "('AP', \"check the end points,check the critical points,and potentially you also need to check the limiting behavior if you're working on an open interval \")\n",
      "('AP', \"yeah,the next step is to list the critical points,and also the end points if they're included \")\n",
      "('AP', \"so that's really step in this checklist,is to check the limiting or the end behavior of this function \")\n",
      "('AP', \"again we start by differentiating well of course,the derivative's the same \")\n",
      "('AP', 'what i can do is figure out the average speed of the ball during some time interval ')\n",
      "('AP', 'so instead of just calculating the average speed during this time interval to be about seven miles per hour,i could do it over a shorter time interval,all right ')\n",
      "('AP', 'but if you look at an average speed over an exceedingly small time interval,those average speeds over shorter and shorter time intervals are as close to zero as you like ')\n",
      "('AP', 'so,step is draw a picture,alright ')\n",
      "('AP', 'step,find an equation ')\n",
      "('AP', 'if you see similar triangles,use them ')\n",
      "('AP', \"but honestly,i wouldn't worry too much about how to actually think about these things and focus more on how to compute with these objects \")\n",
      "('AP', 'now,instead of writing OMITTED times sin x,i could write that as sin OMITTED OMITTED ')\n",
      "('AP', \"the trick works as long as we've got an odd power on the sine,or an odd power on the cosine \")\n",
      "('AP', \"well,that's times a NUMBER,that's equal to NUMBER but times an integral,that's the same as integrating from to times the function,right \")\n",
      "('AP', 'and this is really worth thinking about ')\n",
      "('AP', \"i mean,here i'm taking this area and multiplying it by NUMBER here,i'm calculating the area of the graph stretched in the OMITTED direction by times,right \")\n",
      "('AP', \"well,here's a task to think about \")\n",
      "('AP', 'go out,find some soup cans and check them ')\n",
      "('AP', 'are they really building soup cans in order to minimize the amount of metal that it takes to manufacture the can ')\n",
      "('AP', \"or perhaps there's other issues involved in manufacturing soup cans \")\n",
      "('AP', \"well all i've got to do is differentiate \")\n",
      "('AP', 'i can use the fundamental theorem of calculus to evaluate this integral ')\n",
      "('AP', 'we could approach this in a couple different ways ')\n",
      "('AP', 'first of all,i could just expand it out ')\n"
     ]
    }
   ],
   "source": [
    "#path = r\"C:\\Users\\ani\\Desktop\\Course data Thesis\\PROCESSED\\all coures to select from\"   #THE REST OF THE DATA\n",
    "path = r\"C:\\Users\\ani\\Desktop\\Course data Thesis\\PROCESSED\\Selected files TRAIN\"    #TRAIN / TEST\n",
    "\n",
    "\"\"\"\n",
    "TRAIN:     <<< FILES: 111 | SENTENCES: 8835 | FOLDERS: 10 | TUPLES: 8724 >>>\n",
    "THE REST:  <<< FILES: 556 | SENTENCES: 38482 | FOLDERS: 320 | TUPLES: 9 >>>\n",
    "\"\"\"\n",
    "\n",
    "sentCounter = 0\n",
    "fileCounter = 0\n",
    "folderCounter = 0\n",
    "allTuples = []\n",
    "unlabeledSent = 0\n",
    "unlabeledFiles = 0\n",
    "\n",
    "for root, subdirs, files in os.walk(path):\n",
    "\n",
    "    for curFile in os.listdir(root):\n",
    "\n",
    "        curFilePath = os.path.join(root, curFile)\n",
    "\n",
    "        if os.path.isdir(curFilePath):\n",
    "            pass\n",
    "\n",
    "        else:\n",
    "            try:\n",
    "                fileCounter += 1\n",
    "                curFile = open(curFilePath, 'r', encoding = \"ISO-8859-1\") #IMPORTANT ENCODING! UTF8 DOESN'T WORK\n",
    "\n",
    "                fcontent = curFile.read().split(\"\\n\")\n",
    "                \n",
    "                for sent in fcontent:\n",
    "                    if sent == \"[music].\" or sent == \"[music]\":\n",
    "                        pass\n",
    "                    else:\n",
    "                        sentParts = sent.split(\"|\")\n",
    "                        if len(sentParts) == 1:\n",
    "                            #PASS if sentence has no label or is an empty line\n",
    "                            pass\n",
    "                        else: \n",
    "                            sentTuple = (sentParts[0],sentParts[1])\n",
    "                            allTuples.append(sentTuple)\n",
    "                            if sentTuple[0] == '':\n",
    "                                #Add to unlabeledSent if sentence has no label, but is split in 2\n",
    "                                unlabeledSent += 1\n",
    "                            \n",
    "                        #print(sentParts[0],\"<<>>\",sentParts[1])\n",
    "                        sentCounter += 1\n",
    "                        \n",
    "            except FileNotFoundError as e:\n",
    "                print(\"SKIPPING [{}]: {}\".format(e.strerror,curFile))\n",
    "                pass\n",
    "\n",
    "print(\"____________________________________________________________\")\n",
    "print(\"| FILES: {} | SENTENCES: {} | FOLDERS: {} | TUPLES: {} |\".format(fileCounter, sentCounter, folderCounter, len(allTuples)))\n",
    "print(\"| LABELED SENT: {} | UNLABELED SENT: {} |\".format((sentCounter - unlabeledSent),unlabeledSent))\n",
    "print(\"¯¯¯¯¯¯¯¯¯¯¯¯¯¯¯¯¯¯¯¯¯¯¯¯¯¯¯¯¯¯¯¯¯¯¯¯¯¯¯¯¯¯¯¯¯¯¯¯¯¯¯¯¯¯¯¯¯¯¯¯\")\n",
    "#print(\"\\n<<< LABELED FILES: {} | UNLABELED FILES: {} >>>\".format((fileCounter - unlabeledFiles),unlabeledFiles))\n",
    "\n",
    "\n",
    "# count sentences labeled with specific label\n",
    "CDtuples = 0\n",
    "CMtuples = 0\n",
    "SMtuples = 0\n",
    "APtuples = 0\n",
    "EXtuples = 0\n",
    "NLtuples = 0\n",
    "wrongTuples = 0\n",
    "\n",
    "labels = ['CD','CM','SM','AP','EX','NL']\n",
    "\n",
    "for tup in allTuples:\n",
    "    if \"CD\" in tup: CDtuples += 1\n",
    "    if \"CM\" in tup: CMtuples += 1\n",
    "    if \"SM\" in tup: SMtuples += 1\n",
    "    if \"AP\" in tup: APtuples += 1\n",
    "    if \"EX\" in tup: EXtuples += 1\n",
    "    if \"NL\" in tup: NLtuples += 1        \n",
    "        \n",
    "print(\"____________________________________________\")\n",
    "print(\"|CD   |\\tCM  |\\tSM |\\tAP  |\\tEX |\\tNL | \\n|{} |\\t{} |\\t{} |\\t{} |\\t{}|\\t{}| \".format(CDtuples,CMtuples,SMtuples,APtuples,EXtuples,NLtuples))\n",
    "print(\"¯¯¯¯¯¯¯¯¯¯¯¯¯¯¯¯¯¯¯¯¯¯¯¯¯¯¯¯¯¯¯¯¯¯¯¯¯¯¯¯¯¯¯¯\")\n",
    "\n",
    "######## Display data in percentage for labeled / unlabeled sentences\n",
    "precentageLabeled = ((sentCounter - unlabeledSent)/sentCounter)*100\n",
    "print(\"___________________________________\")\n",
    "print(\"| Labeled: {0:.2f}\".format(precentageLabeled),\"% | \\n| CD: {} | CM/SM/AP/EX/NL: {} |\".format(CDtuples,CMtuples+SMtuples+APtuples+EXtuples+NLtuples))\n",
    "print(\"¯¯¯¯¯¯¯¯¯¯¯¯¯¯¯¯¯¯¯¯¯¯¯¯¯¯¯¯¯¯¯¯¯¯¯\")\n",
    "\n",
    "################## DISPLAY DATA FOR SPECIFIC LABEL #############\n",
    "tupType = \"ap\".upper()    #convert to Upper case otherwise it shows no res\n",
    "num = 0\n",
    "displayNum = 25\n",
    "\n",
    "print(\"___________________________________________________________________________________________\")\n",
    "print(\"\\n-------PRINTING the first {} <<{}>> TUPLES------\\n\".format(displayNum,tupType))\n",
    "for tup in allTuples:\n",
    "    if tupType in tup: \n",
    "        if num < displayNum: \n",
    "            print(tup)\n",
    "            num += 1"
   ]
  },
  {
   "cell_type": "markdown",
   "metadata": {
    "heading_collapsed": true
   },
   "source": [
    "### Select every 5th file for labeling\n",
    "\n",
    "#### Collecting files for TRAIN dataset which, on its end will be split around [70% : 30%] for Train and Test data once labeled"
   ]
  },
  {
   "cell_type": "code",
   "execution_count": null,
   "metadata": {
    "hidden": true
   },
   "outputs": [],
   "source": [
    "path = r\"C:\\Users\\ani\\Desktop\\Course data Thesis\\PROCESSED\\all coures to select from\"\n",
    "\n",
    "fileCounter = 0\n",
    "\n",
    "for root, subdirs, files in os.walk(path):\n",
    "\n",
    "    for curFile in os.listdir(root):\n",
    "\n",
    "        curFilePath = os.path.join(root, curFile)\n",
    "\n",
    "        if os.path.isdir(curFilePath):\n",
    "            pass\n",
    "\n",
    "        else:\n",
    "            fileCounter += 1\n",
    "            # get every 5th file among the 556 files, so that I have approx. equal ratio based on the files in each course\n",
    "            if fileCounter % 5 == 0 or fileCounter == 1:  \n",
    "                newDestinationRoot = r\"C:\\Users\\ani\\Desktop\\Course data Thesis\\PROCESSED\\Selected files TRAIN\"\n",
    "                curFile = open(curFilePath, 'r', encoding = \"ISO-8859-1\") #IMPORTANT ENCODING! UTF8 DOESN'T WORK\n",
    "\n",
    "                #print(\"File {} | {} \".format(fileCounter, curFile.name))\n",
    "                \n",
    "                # split the original path to parts and take the course folder name\n",
    "                # combine it with the file name and put all files in a single course folder\n",
    "                fileParts = curFile.name.split(\"\\\\\")\n",
    "                newLocation = newDestinationRoot+'\\\\'+fileParts[7]+'\\\\'+fileParts[-1]\n",
    "                \n",
    "                # get the path of the new directory to check if it exists\n",
    "                directory = newDestinationRoot+\"\\\\\"+fileParts[7]\n",
    "                print(directory)\n",
    "                \n",
    "                # if the dir doesn't exist, create it\n",
    "                if not os.path.exists(directory):\n",
    "                    os.makedirs(directory)\n",
    "                    \n",
    "                # close file otherwise throws an err\n",
    "                curFile.close()                \n",
    "                \n",
    "                # copy the files\n",
    "                #print(\"COPYING FILE #{}.. \\nSOURCE:\\t\\t {}\\nDESTINATION:\\t {} \\n\".format(fileCounter,curFile.name,newLocation))\n",
    "                ##### UNCOMMENT TO COPY FILES ##### \n",
    "                #shutil.copy(curFile.name, newLocation)\n",
    "                \n",
    "\n",
    "#print(\"\\n<<< FILES: {} | SENTENCES: {} | FOLDERS: {} >>>\".format(fileCounter, sentCounter, folderCounter))"
   ]
  },
  {
   "cell_type": "markdown",
   "metadata": {
    "heading_collapsed": true
   },
   "source": [
    "### Check for empty files"
   ]
  },
  {
   "cell_type": "code",
   "execution_count": null,
   "metadata": {
    "hidden": true
   },
   "outputs": [],
   "source": [
    "path = r\"C:\\Users\\ani\\Desktop\\Course data Thesis\\PROCESSED\\Data for Crowdsourcing - UNLABELED\"\n",
    "\n",
    "fileCounter = 0\n",
    "\n",
    "for root, subdirs, files in os.walk(path):\n",
    "\n",
    "    for curFile in os.listdir(root):\n",
    "\n",
    "        curFilePath = os.path.join(root, curFile)\n",
    "\n",
    "        if os.path.isdir(curFilePath):\n",
    "            pass\n",
    "\n",
    "        else:\n",
    "            \n",
    "            curFile = open(curFilePath, 'r', encoding = \"ISO-8859-1\") #IMPORTANT ENCODING! UTF8 DOESN'T WORK\n",
    "\n",
    "            lineCount = 0\n",
    "            \n",
    "            for line in curFile.read().split(\"\\n\"):\n",
    "                lineCount += 1\n",
    "                \n",
    "            if lineCount < 2:\n",
    "                print(\"Empty file: \", os.path.basename(curFilePath))\n",
    "            \n",
    "            curFile.close()                "
   ]
  },
  {
   "cell_type": "markdown",
   "metadata": {
    "heading_collapsed": true
   },
   "source": [
    "### Splitting into HITS of 5 files each"
   ]
  },
  {
   "cell_type": "code",
   "execution_count": null,
   "metadata": {
    "hidden": true
   },
   "outputs": [],
   "source": [
    "path = r\"C:\\Users\\ani\\Desktop\\Course data Thesis\\PROCESSED\\all coures to select from\"\n",
    "\n",
    "fileCounter = 0\n",
    "foldIndex = 0\n",
    "\n",
    "#folders = list(filter(lambda x: x%5 == 0, range[0:112])\n",
    "folderNum = range(1, range[0:112]+1)\n",
    "\n",
    "for root, subdirs, files in os.walk(path):\n",
    "\n",
    "    for curFile in os.listdir(root):\n",
    "\n",
    "        curFilePath = os.path.join(root, curFile)\n",
    "\n",
    "        if os.path.isdir(curFilePath):\n",
    "            pass\n",
    "\n",
    "        else:\n",
    "            fileCounter += 1\n",
    "            newDestinationRoot = r\"C:\\Users\\ani\\Desktop\\Course data Thesis\\PROCESSED\\Data\\Hit\"\n",
    "            \n",
    "            if not fileCounter % 5 == 0:  \n",
    "                print(newDestinationRoot)\n",
    "            elif fileCounter % 5 == 0: \n",
    "                newDestinationRoot = newDestinationRoot + folderNum(foldIndex)\n",
    "                if not folderNum == len(folderNum)+1:\n",
    "                    foldIndex += 1\n",
    "                    print(newDestinationRoot)\n",
    "\n",
    "            curFile = open(curFilePath, 'r', encoding = \"ISO-8859-1\") #IMPORTANT ENCODING! UTF8 DOESN'T WORK\n",
    "                \n",
    "            # split the original path to parts and take the course folder name\n",
    "            # combine it with the file name and put all files in a single course folder\n",
    "            newLocation = newDestinationRoot\n",
    "            print(newLocation)\n",
    "            \n",
    "            # if the dir doesn't exist, create it\n",
    "            if not os.path.exists(newDestinationRoot):\n",
    "                os.makedirs(newDestinationRoot)\n",
    "\n",
    "            # close file otherwise throws an err\n",
    "            curFile.close()                \n",
    "\n",
    "            # copy the files\n",
    "            #print(\"COPYING FILE #{}.. \\nSOURCE:\\t\\t {}\\nDESTINATION:\\t {} \\n\".format(fileCounter,curFile.name,newLocation))\n",
    "            ##### UNCOMMENT TO COPY FILES ##### \n",
    "            #shutil.copy(curFile.name, newLocation)\n",
    "                \n",
    "\n",
    "#print(\"\\n<<< FILES: {} | SENTENCES: {} | FOLDERS: {} >>>\".format(fileCounter, sentCounter, folderCounter))"
   ]
  },
  {
   "cell_type": "markdown",
   "metadata": {},
   "source": [
    "## Convert all files to CSV"
   ]
  },
  {
   "cell_type": "code",
   "execution_count": 8,
   "metadata": {},
   "outputs": [],
   "source": [
    "path = r\"C:\\Users\\ani\\Desktop\\Course data Thesis\\PROCESSED\\Data for Crowdsourcing - UNLABELED\"\n",
    "\n",
    "data = []\n",
    "\n",
    "### go over the files and convert them to CSV   \n",
    "\n",
    "for root, subdirs, files in os.walk(path):\n",
    "\n",
    "    for curFile in os.listdir(root):\n",
    "\n",
    "        curFilePath = os.path.join(root, curFile)\n",
    "\n",
    "        if os.path.isdir(curFilePath):\n",
    "            pass\n",
    "\n",
    "        else:\n",
    "            if curFilePath.endswith(\".txt\"):\n",
    "                curFile = open(curFilePath, 'r', encoding = \"ISO-8859-1\") #IMPORTANT ENCODING! UTF8 DOESN'T WORK\n",
    "                fileExtRemoved = os.path.splitext(os.path.abspath(curFilePath))[0]\n",
    "                #print(fileExtRemoved)\n",
    "                fcontent = curFile.read().split(\"\\n\")\n",
    "\n",
    "                with open(fileExtRemoved+'.csv', 'w') as OutpCSV:\n",
    "                    converter = csv.writer(OutpCSV, delimiter=',')\n",
    "                    #converter.writerow([\"---\",\"-----\"])\n",
    "                    #converter.writerow([\"LABEL\",\"SENTENCE\"])\n",
    "                    for line in fcontent:\n",
    "                        line = line.split(\"|\")\n",
    "                        if len(line) > 1:\n",
    "                            converter.writerow([\" \",line[1]])\n",
    "                        else:\n",
    "                            pass\n",
    "            else:\n",
    "                pass"
   ]
  },
  {
   "cell_type": "code",
   "execution_count": 9,
   "metadata": {},
   "outputs": [
    {
     "ename": "KeyboardInterrupt",
     "evalue": "",
     "output_type": "error",
     "traceback": [
      "\u001b[1;31m---------------------------------------------------------------------------\u001b[0m",
      "\u001b[1;31mKeyboardInterrupt\u001b[0m                         Traceback (most recent call last)",
      "\u001b[1;32m<ipython-input-9-bb5b8226b350>\u001b[0m in \u001b[0;36m<module>\u001b[1;34m()\u001b[0m\n\u001b[0;32m     19\u001b[0m                             \u001b[1;32melse\u001b[0m\u001b[1;33m:\u001b[0m\u001b[1;33m\u001b[0m\u001b[0m\n\u001b[0;32m     20\u001b[0m                                 \u001b[1;31m#print(line)\u001b[0m\u001b[1;33m\u001b[0m\u001b[1;33m\u001b[0m\u001b[0m\n\u001b[1;32m---> 21\u001b[1;33m                                 \u001b[0msingleFile\u001b[0m\u001b[1;33m.\u001b[0m\u001b[0mwrite\u001b[0m\u001b[1;33m(\u001b[0m\u001b[0mline\u001b[0m\u001b[1;33m)\u001b[0m\u001b[1;33m\u001b[0m\u001b[0m\n\u001b[0m\u001b[0;32m     22\u001b[0m                 \u001b[1;32melse\u001b[0m\u001b[1;33m:\u001b[0m\u001b[1;33m\u001b[0m\u001b[0m\n\u001b[0;32m     23\u001b[0m                     \u001b[1;32mpass\u001b[0m\u001b[1;33m\u001b[0m\u001b[0m\n",
      "\u001b[1;31mKeyboardInterrupt\u001b[0m: "
     ]
    }
   ],
   "source": [
    "path = r\"C:\\Users\\ani\\Desktop\\Course data Thesis\\PROCESSED\\Data for Crowdsourcing - UNLABELED\"\n",
    "### concatenate files into one         \n",
    "                    \n",
    "from glob import glob\n",
    "\n",
    "with open(path+'\\singleDataFile2.csv','a',encoding = \"utf-8\") as singleFile:\n",
    "    for root, subdirs, files in os.walk(path):\n",
    "        for curFile in os.listdir(root):\n",
    "            curFilePath = os.path.join(root, curFile)\n",
    "            if os.path.isdir(curFilePath):\n",
    "                pass\n",
    "            else:\n",
    "                if curFilePath.endswith(\".csv\"):\n",
    "                    with open(curFilePath, 'r', encoding = \"ISO-8859-1\") as iFile:\n",
    "                        next(iFile)\n",
    "                        for line in iFile:\n",
    "                            if len(line) == 1:\n",
    "                                pass\n",
    "                            else:\n",
    "                                #print(line)\n",
    "                                singleFile.write(line)\n",
    "                else:\n",
    "                    pass"
   ]
  }
 ],
 "metadata": {
  "kernelspec": {
   "display_name": "Python 3",
   "language": "python",
   "name": "python3"
  },
  "language_info": {
   "codemirror_mode": {
    "name": "ipython",
    "version": 3
   },
   "file_extension": ".py",
   "mimetype": "text/x-python",
   "name": "python",
   "nbconvert_exporter": "python",
   "pygments_lexer": "ipython3",
   "version": "3.6.4"
  }
 },
 "nbformat": 4,
 "nbformat_minor": 2
}
