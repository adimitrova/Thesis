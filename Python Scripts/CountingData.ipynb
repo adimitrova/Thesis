{
 "cells": [
  {
   "cell_type": "markdown",
   "metadata": {},
   "source": [
    "Data is pre-processed in Java by splitting it into sentences, each on a new line, and lowering the case of all files. New files are saved as TXT with \"\\_SENTbySENT\" added at the end of the file name"
   ]
  },
  {
   "cell_type": "code",
   "execution_count": 36,
   "metadata": {},
   "outputs": [],
   "source": [
    "# Import all necesssry modules\n",
    "import os, sys, os.path\n",
    "from stat import *\n",
    "import errno\n",
    "import glob\n",
    "import csv\n",
    "import re"
   ]
  },
  {
   "cell_type": "markdown",
   "metadata": {},
   "source": [
    "## Count collected data files "
   ]
  },
  {
   "cell_type": "code",
   "execution_count": null,
   "metadata": {
    "scrolled": true
   },
   "outputs": [
    {
     "name": "stdout",
     "output_type": "stream",
     "text": [
      "All files:  1693\n",
      "TXT files:  563\n"
     ]
    }
   ],
   "source": [
    "#import os\n",
    "import os.path\n",
    "\n",
    "root = \"/media/sf_Shared_Folder/Courses/Coursera Downloads Processed\"\n",
    "allFiles = sum([len(files) for r, d, files in os.walk(\"/media/sf_Shared_Folder/Courses/Coursera Downloads Processed\")])\n",
    "\n",
    "print(\"All files: \", allFiles)\n",
    "\n",
    "# ---------------\n",
    "def fileCounter(folder):    \n",
    "    count = 0\n",
    "    \n",
    "    for filename in os.listdir(folder):\n",
    "        path = os.path.join(folder, filename)\n",
    "        \n",
    "        if os.path.isfile(path):\n",
    "            if os.path.isfile(path):\n",
    "                name = os.path.basename(path)\n",
    "                if name.endswith('.txt'):\n",
    "                    count += 1\n",
    "        elif os.path.isdir(path):\n",
    "            count += fileCounter(path)\n",
    "            \n",
    "    return count\n",
    "# ---------------\n",
    "\n",
    "\"\"\"\n",
    "TXT files:  563\n",
    "SRT files:  568\n",
    "RTF files:  562\n",
    "All Files:  1693\n",
    "\"\"\"\n",
    "\n",
    "print(\"TXT files: \", fileCounter(root))"
   ]
  },
  {
   "cell_type": "markdown",
   "metadata": {},
   "source": [
    "## List files in directories"
   ]
  },
  {
   "cell_type": "code",
   "execution_count": 53,
   "metadata": {},
   "outputs": [
    {
     "name": "stdout",
     "output_type": "stream",
     "text": [
      " Coursera Downloads Processed\n",
      "--- TF-IDF.ipynb\n",
      "--- ofile.txt\n",
      "--- TF-IDF+NLTK+wordnet+wikipedia.ipynb\n",
      "--- File processing.ipynb\n",
      "--- Processing.ipynb\n",
      "--- ifile.txt\n",
      "--- ofileSent.csv\n",
      "--- output.csv\n",
      "--- ofileSent.txt\n",
      "--- Coursera Downloads Processed\n",
      "------ Coursera Downloads Processed\n",
      "--------- Coursera Downloads Processed\n",
      "------------ 01_what-are-the-benefits-of-sharing-data.en.txt\n",
      "------------ 02_what-are-the-drawbacks-of-sharing-data.en.txt\n",
      "--------- Coursera Downloads Processed\n",
      "------------ 02_protecting-confidentiality-part-2.en.txt\n",
      "------------ 04_access.en.txt\n",
      "------------ 03_intellectual-property-and-data-ownership.en.txt\n",
      "------------ 01_protecting-confidentiality-part-1.en.txt\n",
      "--------- Coursera Downloads Processed\n",
      "------------ 02_challenges-to-sharing.en.txt\n",
      "------------ 03_data-citations.en.txt\n",
      "------------ 01_benefits-of-sharing.en.txt\n",
      "------ Coursera Downloads Processed\n",
      "--------- Coursera Downloads Processed\n",
      "------------ 01_welcome.en.txt\n",
      "--------- Coursera Downloads Processed\n",
      "------------ 01_what-are-data.en.txt\n",
      "------------ 02_why-is-data-management-important.en.txt\n",
      "--------- Coursera Downloads Processed\n",
      "------------ 01_research-data-defined.en.txt\n",
      "------------ 02_types-of-data-and-metadata.en.txt\n",
      "------------ 03_research-data-lifecycle.en.txt\n",
      "--------- Coursera Downloads Processed\n",
      "------------ 03_data-management-across-the-research-lifecycle.en.txt\n",
      "------------ 01_why-manage-data.en.txt\n",
      "------------ 02_data-management-stakeholders.en.txt\n",
      "------ Coursera Downloads Processed\n",
      "--------- Coursera Downloads Processed\n",
      "------------ 03_data-management-plan-content.en.txt\n",
      "------------ 01_introduction-to-data-management-plans.en.srt\n",
      "------------ 02_funding-agency-requirements.en.srt\n",
      "------------ 01_introduction-to-data-management-plans.en.txt\n",
      "------------ 04_data-management-planning-tools.en.srt\n",
      "------------ 02_funding-agency-requirements.en.txt\n",
      "------------ 04_data-management-planning-tools.en.txt\n",
      "------------ 03_data-management-plan-content.en.srt\n",
      "------ Coursera Downloads Processed\n",
      "--------- Coursera Downloads Processed\n",
      "------------ 01_conclusion.en.txt\n",
      "--------- Coursera Downloads Processed\n",
      "------------ 01_why-is-archiving-data-important.en.txt\n",
      "------------ 02_why-is-digital-preservation-important.en.txt\n",
      "--------- Coursera Downloads Processed\n",
      "------------ 01_demonstrating-trustworthiness.en.txt\n",
      "------------ 02_data-curation-standards-and-best-practices-part-1.en.txt\n",
      "------------ 03_data-curation-standards-and-best-practices-part-2.en.txt\n",
      "--------- Coursera Downloads Processed\n",
      "------------ 01_why-archive-data.en.txt\n",
      "------------ 03_metadata.en.txt\n",
      "------------ 02_authenticity-and-integrity.en.txt\n",
      "------ Coursera Downloads Processed\n",
      "--------- Coursera Downloads Processed\n",
      "------------ 01_file-formats.en.txt\n",
      "------------ 02_data-transformations.en.txt\n",
      "--------- Coursera Downloads Processed\n",
      "------------ 01_storage.en.txt\n",
      "------------ 03_data-security.en.txt\n",
      "------------ 02_backup.en.txt\n",
      "------------ 04_encryption.en.txt\n",
      "--------- Coursera Downloads Processed\n",
      "------------ 01_documentation.en.txt\n",
      "------------ 02_data-citation.en.txt\n",
      "--------- Coursera Downloads Processed\n",
      "------------ 03_how-does-good-data-management-add-value-to-research.en.txt\n",
      "------------ 02_interview-shaun-bevan.en.txt\n",
      "------------ 04_do-you-think-data-sharing-helps-to-reduce-waste-and-increase-transparency-of.en.txt\n",
      "------------ 01_interview-natalia-calanzani.en.txt\n",
      "--------- Coursera Downloads Processed\n",
      "------------ 02_file-naming.en.txt\n",
      "------------ 01_good-file-management-in-research.en.txt\n",
      "------------ 03_versioning.en.txt\n",
      "--- Coursera Downloads Processed\n",
      "------ TF-IDF-checkpoint.ipynb\n",
      "------ Processing-checkpoint.ipynb\n",
      "------ File processing-checkpoint.ipynb\n",
      "------ TF-IDF+NLTK+wordnet+wikipedia-checkpoint.ipynb\n"
     ]
    }
   ],
   "source": [
    "root = \"/media/sf_Shared_Folder/Courses/Coursera Downloads Processed\"\n",
    "#files = glob.glob(root)\n",
    "\n",
    "def traverseDir(rootIn):\n",
    "# traverse root directory, and list directories as dirs and files as files\n",
    "    for rootIn, dirs, files in os.walk(\".\"):\n",
    "        path = rootIn.split(os.sep)\n",
    "        print((len(path) - 1) * '---', os.path.basename(root))\n",
    "        for file in files:\n",
    "            print(len(path) * '---', file)\n",
    "            \n",
    "traverseDir(root)"
   ]
  }
 ],
 "metadata": {
  "kernelspec": {
   "display_name": "Python 3",
   "language": "python",
   "name": "python3"
  },
  "language_info": {
   "codemirror_mode": {
    "name": "ipython",
    "version": 3
   },
   "file_extension": ".py",
   "mimetype": "text/x-python",
   "name": "python",
   "nbconvert_exporter": "python",
   "pygments_lexer": "ipython3",
   "version": "3.5.2"
  }
 },
 "nbformat": 4,
 "nbformat_minor": 2
}
