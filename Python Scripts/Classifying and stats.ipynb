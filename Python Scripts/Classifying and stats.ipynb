{
 "cells": [
  {
   "cell_type": "markdown",
   "metadata": {},
   "source": [
    "https://radimrehurek.com/data_science_python/"
   ]
  },
  {
   "cell_type": "code",
   "execution_count": 57,
   "metadata": {},
   "outputs": [],
   "source": [
    "from textblob.classifiers import NaiveBayesClassifier\n",
    "from textblob import TextBlob\n",
    "import random\n",
    "import time\n",
    "import os\n",
    "import sys\n",
    "import os.path\n",
    "import string\n",
    "\n",
    "# ---- for TF-IDF & NLTK\n",
    "import math\n",
    "from textblob import TextBlob as tb\n",
    "import nltk\n",
    "from nltk.corpus import wordnet as wn\n",
    "from nltk import word_tokenize, sent_tokenize\n",
    "from nltk.corpus import stopwords\n",
    "from nltk.stem import LancasterStemmer\n",
    "from nltk.stem import WordNetLemmatizer\n",
    "from nltk import pos_tag\n",
    "from pathlib import Path\n",
    "from beautifultable import BeautifulTable\n",
    "\n",
    "import re, string, unicodedata\n",
    "import contractions\n",
    "import inflect\n",
    "from bs4 import BeautifulSoup\n",
    "from tabulate import tabulate\n",
    "\n",
    "allRunsAccuracy = []\n",
    "\n",
    "import matplotlib.pyplot as plt\n",
    "import csv\n",
    "from textblob import TextBlob\n",
    "import pandas\n",
    "import sklearn\n",
    "import numpy as np\n",
    "from sklearn.feature_extraction.text import CountVectorizer, TfidfTransformer\n",
    "from sklearn.naive_bayes import MultinomialNB\n",
    "from sklearn.svm import SVC, LinearSVC\n",
    "from sklearn.metrics import classification_report, f1_score, accuracy_score, confusion_matrix\n",
    "from sklearn.pipeline import Pipeline\n",
    "from sklearn.grid_search import GridSearchCV\n",
    "from sklearn.cross_validation import StratifiedKFold, cross_val_score, train_test_split \n",
    "from sklearn.tree import DecisionTreeClassifier \n",
    "from sklearn.learning_curve import learning_curve"
   ]
  },
  {
   "cell_type": "code",
   "execution_count": 41,
   "metadata": {},
   "outputs": [
    {
     "name": "stdout",
     "output_type": "stream",
     "text": [
      "  Label                                           Sentence\n",
      "0    CD  provided some conditions are satisfied,the ext...\n",
      "1    CD  but how am i supposed to find those maximum an...\n",
      "2    CD  we've actually alreaOMITTED done this in some ...\n",
      "3    CD                       here's a frour-step process \n",
      "4    AP  first,differentiate your function can find all...\n"
     ]
    }
   ],
   "source": [
    "sentences = pandas.read_csv(r'C:\\Users\\a.dimitrova\\Dropbox\\Stuff\\university\\data\\allMergedNoNL.csv', sep='|', quoting=csv.QUOTE_NONE,\n",
    "                           names=[\"Label\", \"Sentence\"], encoding = \"ISO-8859-1\")\n",
    "print(sentences[:5]) "
   ]
  },
  {
   "cell_type": "code",
   "execution_count": 21,
   "metadata": {},
   "outputs": [
    {
     "data": {
      "text/html": [
       "<div>\n",
       "<style scoped>\n",
       "    .dataframe tbody tr th:only-of-type {\n",
       "        vertical-align: middle;\n",
       "    }\n",
       "\n",
       "    .dataframe tbody tr th {\n",
       "        vertical-align: top;\n",
       "    }\n",
       "\n",
       "    .dataframe thead tr th {\n",
       "        text-align: left;\n",
       "    }\n",
       "\n",
       "    .dataframe thead tr:last-of-type th {\n",
       "        text-align: right;\n",
       "    }\n",
       "</style>\n",
       "<table border=\"1\" class=\"dataframe\">\n",
       "  <thead>\n",
       "    <tr>\n",
       "      <th></th>\n",
       "      <th colspan=\"4\" halign=\"left\">Sentence</th>\n",
       "    </tr>\n",
       "    <tr>\n",
       "      <th></th>\n",
       "      <th>count</th>\n",
       "      <th>unique</th>\n",
       "      <th>top</th>\n",
       "      <th>freq</th>\n",
       "    </tr>\n",
       "    <tr>\n",
       "      <th>Label</th>\n",
       "      <th></th>\n",
       "      <th></th>\n",
       "      <th></th>\n",
       "      <th></th>\n",
       "    </tr>\n",
       "  </thead>\n",
       "  <tbody>\n",
       "    <tr>\n",
       "      <th>AP</th>\n",
       "      <td>317</td>\n",
       "      <td>317</td>\n",
       "      <td>also,if the robot get into an unsafe distance ...</td>\n",
       "      <td>1</td>\n",
       "    </tr>\n",
       "    <tr>\n",
       "      <th>CD</th>\n",
       "      <td>6652</td>\n",
       "      <td>6639</td>\n",
       "      <td>so i can't satisfy the constraint</td>\n",
       "      <td>2</td>\n",
       "    </tr>\n",
       "    <tr>\n",
       "      <th>CM</th>\n",
       "      <td>277</td>\n",
       "      <td>277</td>\n",
       "      <td>okay so that's a brief description of the syst...</td>\n",
       "      <td>1</td>\n",
       "    </tr>\n",
       "    <tr>\n",
       "      <th>EX</th>\n",
       "      <td>562</td>\n",
       "      <td>561</td>\n",
       "      <td>so let me show you a demo</td>\n",
       "      <td>2</td>\n",
       "    </tr>\n",
       "    <tr>\n",
       "      <th>SM</th>\n",
       "      <td>570</td>\n",
       "      <td>570</td>\n",
       "      <td>and similar technique that he's trying to grad...</td>\n",
       "      <td>1</td>\n",
       "    </tr>\n",
       "  </tbody>\n",
       "</table>\n",
       "</div>"
      ],
      "text/plain": [
       "      Sentence                                                               \n",
       "         count unique                                                top freq\n",
       "Label                                                                        \n",
       "AP         317    317  also,if the robot get into an unsafe distance ...    1\n",
       "CD        6652   6639                 so i can't satisfy the constraint     2\n",
       "CM         277    277  okay so that's a brief description of the syst...    1\n",
       "EX         562    561                         so let me show you a demo     2\n",
       "SM         570    570  and similar technique that he's trying to grad...    1"
      ]
     },
     "execution_count": 21,
     "metadata": {},
     "output_type": "execute_result"
    }
   ],
   "source": [
    "sentences.groupby('Label').describe()"
   ]
  },
  {
   "cell_type": "code",
   "execution_count": 40,
   "metadata": {},
   "outputs": [
    {
     "name": "stdout",
     "output_type": "stream",
     "text": [
      "  Label                                           Sentence  length\n",
      "0    CD  provided some conditions are satisfied,the ext...     119\n",
      "1    CD  but how am i supposed to find those maximum an...      63\n",
      "2    CD  we've actually alreaOMITTED done this in some ...     131\n",
      "3    CD                       here's a frour-step process       28\n",
      "4    AP  first,differentiate your function can find all...      67\n",
      "\n",
      "\n",
      "[\"and i'm labeling these points OMITTED sub i,so my left hand OMITTED point is OMITTED sub and my right hand OMITTED point is OMITTED sub n,and my cut points in between where i'm cutting up to partition are i over n. so,the first one here,or the one after the of anyway,is over n. the next one is over n,the next one is over n,and each of those subintervals has the same width,over n. now,i also have to choose points to sample the function at,and i'm just going to choose the right hand end point here \", \"some epsilon bigger than zero,a corresponding value of delta is going to be epsilon over NUMBER and then,i verify that if OMITTED is within NUMBER,is within delta of NUMBER,then NUMBER is within epsilon of NUMBER and that's exactly what it means to say that the limit of NUMBER is NUMBER as OMITTED approaches NUMBER for every epsilon,there's some delta so that whenever OMITTED is within delta of NUMBER,then the function NUMBER is within epsilon of you can imagine trying to do this with other functions,right \", \"they end up meeting in same location and one way of doing this is to assume you have a rain sensor disk around you and then when you see other robots in that disk instead of thinking of them as obsticles we think of them as buddies so what we are going to do is each robot is going to aim toward the center of gravity of all it's neighboors so everyone that is in that disk,disk,and because of the disk assumption or disk abstraction we just talked about,we can actually compute where the center of gravi ty is of our neighbors \", \"and the fourth one is if you do get around the obstacle there will be a point where you're going to start making progress again toward the goal location and you will probably no lee,no longer need to slide along the wall in order to make progress,so if those both tho,both of those conditions are,end up being true,then you can go ahead and switch back to your goal-seeking behavior,so which is either go to goal,or what i usually like do to is if,if i'm close to an obstacle,which i typically am because of the follow all behavior i first switch into avoid obstacles and go to goal before i switch into pure go to goal behavior \"]\n"
     ]
    },
    {
     "data": {
      "text/plain": [
       "Text(0,0.5,'Quantity')"
      ]
     },
     "execution_count": 40,
     "metadata": {},
     "output_type": "execute_result"
    },
    {
     "data": {
      "image/png": "[encoded data removed]",
      "text/plain": [
       "<matplotlib.figure.Figure at 0x128b0d29080>"
      ]
     },
     "metadata": {},
     "output_type": "display_data"
    },
    {
     "data": {
      "image/png": "[encoded data removed]",
      "text/plain": [
       "<matplotlib.figure.Figure at 0x128b0e3a2b0>"
      ]
     },
     "metadata": {},
     "output_type": "display_data"
    }
   ],
   "source": [
    "sentences['length'] = sentences['Sentence'].map(lambda text: len(text))\n",
    "print(sentences.head())\n",
    "\n",
    "sentences.length.plot(bins=20, kind='hist')\n",
    "\n",
    "print(\"\\n\")\n",
    "sentences.length.describe()\n",
    "print(list(sentences.Sentence[sentences.length > 500]))\n",
    "\n",
    "sentences.hist(column='length', by='Label', bins='auto',figsize=(10, 15), color=\"c\")\n",
    "plt.xlabel('Length')\n",
    "plt.ylabel('Quantity')"
   ]
  },
  {
   "cell_type": "code",
   "execution_count": 42,
   "metadata": {},
   "outputs": [
    {
     "data": {
      "text/plain": [
       "0    [provided, some, conditions, are, satisfied, t...\n",
       "1    [but, how, am, i, supposed, to, find, those, m...\n",
       "2    [we, 've, actually, alreaOMITTED, done, this, ...\n",
       "3                   [here, 's, a, frour-step, process]\n",
       "4    [first, differentiate, your, function, can, fi...\n",
       "Name: Sentence, dtype: object"
      ]
     },
     "execution_count": 42,
     "metadata": {},
     "output_type": "execute_result"
    }
   ],
   "source": [
    "#split a sent into its individual words\n",
    "def split_into_tokens(sent):\n",
    "    #sent = unicode(sent, 'utf8')  # convert bytes into proper unicode\n",
    "    return TextBlob(sent).words\n",
    "\n",
    "sentences.Sentence.head().apply(split_into_tokens)"
   ]
  },
  {
   "cell_type": "code",
   "execution_count": 46,
   "metadata": {},
   "outputs": [
    {
     "data": {
      "text/plain": [
       "0    [provided, some, condition, are, satisfied, th...\n",
       "1    [but, how, am, i, supposed, to, find, those, m...\n",
       "2    [we, 've, actually, alreaOMITTED, done, this, ...\n",
       "3                   [here, 's, a, frour-step, process]\n",
       "4    [first, differentiate, your, function, can, fi...\n",
       "Name: Sentence, dtype: object"
      ]
     },
     "execution_count": 46,
     "metadata": {},
     "output_type": "execute_result"
    }
   ],
   "source": [
    "# pre-processing\n",
    "\n",
    "def split_into_lemmas(sent):\n",
    "    words = TextBlob(sent).words\n",
    "    # for each word, take its \"base form\" = lemma \n",
    "    return [word.lemma for word in words]\n",
    "\n",
    "sentences.Sentence.head().apply(split_into_lemmas)"
   ]
  },
  {
   "cell_type": "code",
   "execution_count": 47,
   "metadata": {},
   "outputs": [
    {
     "name": "stdout",
     "output_type": "stream",
     "text": [
      "5657\n"
     ]
    }
   ],
   "source": [
    "# Data to vectors\n",
    "\n",
    "# convert each message, represented as a list of tokens (lemmas) above, \n",
    "# into a vector that machine learning models can understand\n",
    "\n",
    "bow_transformer = CountVectorizer(analyzer=split_into_lemmas).fit(sentences['Sentence'])\n",
    "print(len(bow_transformer.vocabulary_))"
   ]
  },
  {
   "cell_type": "code",
   "execution_count": 66,
   "metadata": {},
   "outputs": [
    {
     "name": "stdout",
     "output_type": "stream",
     "text": [
      "but it's important to point out that i needed to know the sign,the OMITTED i OMITTED OMITTED of the derivative on that entire interval \n",
      "  (0, 7)\t1\n",
      "  (0, 33)\t3\n",
      "  (0, 673)\t1\n",
      "  (0, 1339)\t1\n",
      "  (0, 1725)\t1\n",
      "  (0, 2413)\t2\n",
      "  (0, 2477)\t1\n",
      "  (0, 2656)\t1\n",
      "  (0, 2704)\t1\n",
      "  (0, 2781)\t1\n",
      "  (0, 3290)\t1\n",
      "  (0, 3429)\t1\n",
      "  (0, 3450)\t1\n",
      "  (0, 3518)\t1\n",
      "  (0, 3757)\t1\n",
      "  (0, 4555)\t1\n",
      "  (0, 5045)\t2\n",
      "  (0, 5048)\t3\n",
      "  (0, 5128)\t2\n",
      "(1, 5657)\n",
      "OMITTED appears 3 times, i appears twice etc\n",
      "5657\n",
      "5421\n"
     ]
    }
   ],
   "source": [
    "message1451 = sentences['Sentence'][1450]\n",
    "print(message1451)\n",
    "\n",
    "bow1451 = bow_transformer.transform([message1451])\n",
    "print(bow1451)\n",
    "print(bow1451.shape)\n",
    "print(\"OMITTED appears 3 times, i appears twice etc\")\n",
    "\n",
    "featureList = bow_transformer.get_feature_names()\n",
    "finalFeatureList = []\n",
    "\n",
    "def removeNumsFromFeatureList(featureList):\n",
    "    isNum = re.compile(\"[0-9]\")\n",
    "    hasApostrophe = re.compile(\"'\\w+\")\n",
    "        \n",
    "    for feat in featureList:\n",
    "        if isNum.match(feat): pass\n",
    "        elif hasApostrophe.match(feat): pass\n",
    "        elif \"OMITTED\" in feat.upper(): pass\n",
    "        elif \"NUMBER\" in feat.upper(): pass\n",
    "        elif (\"-\" or \"+\") in feat.upper(): pass\n",
    "        else: finalFeatureList.append(feat)\n",
    "\n",
    "print(len(featureList))\n",
    "removeNumsFromFeatureList(featureList)\n",
    "print(len(finalFeatureList))"
   ]
  },
  {
   "cell_type": "code",
   "execution_count": 71,
   "metadata": {
    "scrolled": true
   },
   "outputs": [
    {
     "name": "stdout",
     "output_type": "stream",
     "text": [
      "sparse matrix shape: (8380, 5657)\n",
      "number of non-zeros: 117146\n",
      "sparsity: 0.25%\n",
      "  (0, 5128)\t0.18059602960539448\n",
      "  (0, 5048)\t0.21770164080495286\n",
      "  (0, 5045)\t0.20484176112956304\n",
      "  (0, 4555)\t0.288772373747758\n",
      "  (0, 3757)\t0.19053891711268278\n",
      "  (0, 3518)\t0.1989708942777719\n",
      "  (0, 3450)\t0.16497841207627764\n",
      "  (0, 3429)\t0.09589385749044702\n",
      "  (0, 3290)\t0.3299226610856066\n",
      "  (0, 2781)\t0.18445968425414208\n",
      "  (0, 2704)\t0.11548491695907176\n",
      "  (0, 2656)\t0.25370065429869365\n",
      "  (0, 2477)\t0.2581535616060853\n",
      "  (0, 2413)\t0.2382535026414437\n",
      "  (0, 1725)\t0.3108934252297795\n",
      "  (0, 1339)\t0.18746229621521754\n",
      "  (0, 673)\t0.15870587922218607\n",
      "  (0, 33)\t0.41072514772463686\n",
      "  (0, 7)\t0.11256455442255478\n",
      "(8380, 5657)\n"
     ]
    }
   ],
   "source": [
    "sentences_bow = bow_transformer.transform(sentences['Sentence'])\n",
    "print('sparse matrix shape:', sentences_bow.shape)\n",
    "print('number of non-zeros:', sentences_bow.nnz)\n",
    "print('sparsity: %.2f%%' % (100.0 * sentences_bow.nnz / (sentences_bow.shape[0] * sentences_bow.shape[1])))\n",
    "\n",
    "#after the counting, the term weighting and normalization can be done with TF-IDF, using scikit-learn's TfidfTransformer\n",
    "tfidf_transformer = TfidfTransformer().fit(sentences_bow)\n",
    "tfidf1451 = tfidf_transformer.transform(bow1451)\n",
    "print(tfidf1451)\n",
    "\n",
    "# To transform the entire bag-of-words corpus into TF-IDF corpus at once:\n",
    "sentences_tfidf = tfidf_transformer.transform(sentences_bow)\n",
    "print(sentences_tfidf.shape)"
   ]
  },
  {
   "cell_type": "markdown",
   "metadata": {},
   "source": [
    "#### RUN THE CLASSIFIER!\n",
    "# TIME CONSUMING!"
   ]
  },
  {
   "cell_type": "code",
   "execution_count": 77,
   "metadata": {},
   "outputs": [
    {
     "name": "stdout",
     "output_type": "stream",
     "text": [
      "Wall time: 35.1 s\n"
     ]
    }
   ],
   "source": [
    "# Using Multinomial Naive Bayes classifier\n",
    "%time label_classifier = MultinomialNB().fit(sentences_tfidf, sentences['Sentence'])"
   ]
  }
 ],
 "metadata": {
  "kernelspec": {
   "display_name": "Python 3",
   "language": "python",
   "name": "python3"
  },
  "language_info": {
   "codemirror_mode": {
    "name": "ipython",
    "version": 3
   },
   "file_extension": ".py",
   "mimetype": "text/x-python",
   "name": "python",
   "nbconvert_exporter": "python",
   "pygments_lexer": "ipython3",
   "version": "3.6.4"
  }
 },
 "nbformat": 4,
 "nbformat_minor": 2
}
