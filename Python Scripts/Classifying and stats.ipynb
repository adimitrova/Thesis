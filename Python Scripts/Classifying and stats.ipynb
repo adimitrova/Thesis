{
 "cells": [
  {
   "cell_type": "markdown",
   "metadata": {},
   "source": [
    "https://radimrehurek.com/data_science_python/"
   ]
  },
  {
   "cell_type": "markdown",
   "metadata": {
    "heading_collapsed": true
   },
   "source": [
    "#### Import modules"
   ]
  },
  {
   "cell_type": "code",
   "execution_count": 268,
   "metadata": {
    "hidden": true
   },
   "outputs": [],
   "source": [
    "from textblob.classifiers import NaiveBayesClassifier\n",
    "from textblob import TextBlob\n",
    "import random\n",
    "import time\n",
    "import os\n",
    "import sys\n",
    "import os.path\n",
    "import string\n",
    "\n",
    "# ---- for TF-IDF & NLTK\n",
    "import math\n",
    "from textblob import TextBlob as tb\n",
    "import nltk\n",
    "from nltk.corpus import wordnet as wn\n",
    "from nltk import word_tokenize, sent_tokenize\n",
    "from nltk.corpus import stopwords\n",
    "from nltk.stem import LancasterStemmer\n",
    "from nltk.stem import WordNetLemmatizer\n",
    "from nltk import pos_tag\n",
    "from pathlib import Path\n",
    "from beautifultable import BeautifulTable\n",
    "\n",
    "import re, string, unicodedata\n",
    "import contractions\n",
    "import inflect\n",
    "from bs4 import BeautifulSoup\n",
    "from tabulate import tabulate\n",
    "\n",
    "allRunsAccuracy = []\n",
    "\n",
    "import matplotlib.pyplot as plt\n",
    "import csv\n",
    "from textblob import TextBlob\n",
    "import pandas\n",
    "import sklearn\n",
    "import numpy as np\n",
    "from sklearn.feature_extraction.text import CountVectorizer, TfidfTransformer\n",
    "from sklearn.naive_bayes import MultinomialNB\n",
    "from sklearn.svm import SVC, LinearSVC\n",
    "from sklearn.metrics import classification_report, f1_score, accuracy_score, confusion_matrix\n",
    "from sklearn.pipeline import Pipeline\n",
    "from sklearn.grid_search import GridSearchCV\n",
    "from sklearn.cross_validation import StratifiedKFold, cross_val_score, train_test_split \n",
    "from sklearn.tree import DecisionTreeClassifier \n",
    "from sklearn.learning_curve import learning_curve"
   ]
  },
  {
   "cell_type": "markdown",
   "metadata": {},
   "source": [
    "#### The rest"
   ]
  },
  {
   "cell_type": "markdown",
   "metadata": {},
   "source": [
    "#### First, randomize the dataset by getting 200 out of the 250 values per class which is equal to 1/5th of the dataset, every time it is different so we can output different results and get average performance values"
   ]
  },
  {
   "cell_type": "code",
   "execution_count": 269,
   "metadata": {},
   "outputs": [
    {
     "name": "stdout",
     "output_type": "stream",
     "text": [
      "1250\n",
      "249\n",
      "201 \t 201 \t 198 \t 201 \t 200\n"
     ]
    }
   ],
   "source": [
    "file = open(r\"C:\\Users\\ani\\Dropbox\\Stuff\\university\\data\\250PerClass.txt\", 'r', encoding = \"ISO-8859-1\")\n",
    "sentences = file.read().split('\\n')\n",
    "\n",
    "CD,CM,AP,SM,EX = 0,0,0,0,0\n",
    "print(len(sentences))\n",
    "\n",
    "with open(r\"C:\\Users\\ani\\Dropbox\\Stuff\\university\\data\\200RandomPerClass.csv\", 'w', encoding = \"ISO-8859-1\") as oFile:\n",
    "    while len(sentences) >= 250:\n",
    "        curLine = random.choice(sentences)\n",
    "        curLineParts = curLine.split(\"|\")\n",
    "\n",
    "        if curLineParts[0] == \"CD\" and CD <= 200:\n",
    "            sentences.remove(curLine)\n",
    "            oFile.write(curLineParts[0]+\"|\"+curLineParts[1]+\"\\n\")\n",
    "            CD += 1\n",
    "        elif curLineParts[0] == \"CM\" and CM <= 200:\n",
    "            sentences.remove(curLine)\n",
    "            oFile.write(curLineParts[0]+\"|\"+curLineParts[1]+\"\\n\")\n",
    "            CM += 1\n",
    "        elif curLineParts[0] == \"AP\" and AP <= 200:\n",
    "            sentences.remove(curLine)\n",
    "            oFile.write(curLineParts[0]+\"|\"+curLineParts[1]+\"\\n\")\n",
    "            AP += 1\n",
    "        elif curLineParts[0] == \"SM\" and SM <= 200:\n",
    "            sentences.remove(curLine)\n",
    "            oFile.write(curLineParts[0]+\"|\"+curLineParts[1]+\"\\n\")\n",
    "            SM += 1\n",
    "        elif curLineParts[0] == \"EX\" and EX <= 200:\n",
    "            sentences.remove(curLine)\n",
    "            oFile.write(curLineParts[0]+\"|\"+curLineParts[1]+\"\\n\")\n",
    "            EX += 1\n",
    "                \n",
    "print(len(sentences))\n",
    "print(CD,\"\\t\",CM,\"\\t\",AP,\"\\t\",SM,\"\\t\",EX)"
   ]
  },
  {
   "cell_type": "markdown",
   "metadata": {},
   "source": [
    "#### Now off to the rest"
   ]
  },
  {
   "cell_type": "code",
   "execution_count": 270,
   "metadata": {},
   "outputs": [
    {
     "name": "stdout",
     "output_type": "stream",
     "text": [
      "  Label                                           Sentence\n",
      "0    CM         however,let's talk about the inputs first \n",
      "1    SM        that's the fundamental theorem of calculus \n",
      "2    EX  these are two places where the derivative is e...\n",
      "3    CM                               let's get rid of it \n",
      "4    AP  you can use OMITTED it's always smooth,if you ...\n",
      "5    EX                      the graph is always wiggling \n",
      "6    EX  if we knew where those degrees were granted,sa...\n",
      "7    CM  a processing element is a digital device,which...\n",
      "8    CM  let's examine the minimum ram and rom required...\n",
      "9    CM                       what happens at the bounces \n"
     ]
    }
   ],
   "source": [
    "# ADD THE FILE THAT IS NOT PREPROCESSED YET\n",
    "prefix = r\"C:\\Users\\ani\"\n",
    "sentences = pandas.read_csv(prefix + r'\\Dropbox\\Stuff\\university\\data\\200RandomPerClass.csv', sep='|', quoting=csv.QUOTE_NONE,\n",
    "                           names=[\"Label\", \"Sentence\"], encoding = \"ISO-8859-1\")\n",
    "print(sentences[:10]) "
   ]
  },
  {
   "cell_type": "code",
   "execution_count": 271,
   "metadata": {},
   "outputs": [
    {
     "data": {
      "text/html": [
       "<div>\n",
       "<style scoped>\n",
       "    .dataframe tbody tr th:only-of-type {\n",
       "        vertical-align: middle;\n",
       "    }\n",
       "\n",
       "    .dataframe tbody tr th {\n",
       "        vertical-align: top;\n",
       "    }\n",
       "\n",
       "    .dataframe thead tr th {\n",
       "        text-align: left;\n",
       "    }\n",
       "\n",
       "    .dataframe thead tr:last-of-type th {\n",
       "        text-align: right;\n",
       "    }\n",
       "</style>\n",
       "<table border=\"1\" class=\"dataframe\">\n",
       "  <thead>\n",
       "    <tr>\n",
       "      <th></th>\n",
       "      <th colspan=\"4\" halign=\"left\">Sentence</th>\n",
       "    </tr>\n",
       "    <tr>\n",
       "      <th></th>\n",
       "      <th>count</th>\n",
       "      <th>unique</th>\n",
       "      <th>top</th>\n",
       "      <th>freq</th>\n",
       "    </tr>\n",
       "    <tr>\n",
       "      <th>Label</th>\n",
       "      <th></th>\n",
       "      <th></th>\n",
       "      <th></th>\n",
       "      <th></th>\n",
       "    </tr>\n",
       "  </thead>\n",
       "  <tbody>\n",
       "    <tr>\n",
       "      <th>AP</th>\n",
       "      <td>198</td>\n",
       "      <td>198</td>\n",
       "      <td>we could also change the release and the attack</td>\n",
       "      <td>1</td>\n",
       "    </tr>\n",
       "    <tr>\n",
       "      <th>CD</th>\n",
       "      <td>201</td>\n",
       "      <td>201</td>\n",
       "      <td>this is a graph of a function the input to thi...</td>\n",
       "      <td>1</td>\n",
       "    </tr>\n",
       "    <tr>\n",
       "      <th>CM</th>\n",
       "      <td>201</td>\n",
       "      <td>201</td>\n",
       "      <td>so,we would like the height to be less than or...</td>\n",
       "      <td>1</td>\n",
       "    </tr>\n",
       "    <tr>\n",
       "      <th>EX</th>\n",
       "      <td>200</td>\n",
       "      <td>200</td>\n",
       "      <td>what are the critical points of this function</td>\n",
       "      <td>1</td>\n",
       "    </tr>\n",
       "    <tr>\n",
       "      <th>SM</th>\n",
       "      <td>201</td>\n",
       "      <td>201</td>\n",
       "      <td>the input change by some factor</td>\n",
       "      <td>1</td>\n",
       "    </tr>\n",
       "  </tbody>\n",
       "</table>\n",
       "</div>"
      ],
      "text/plain": [
       "      Sentence                                                               \n",
       "         count unique                                                top freq\n",
       "Label                                                                        \n",
       "AP         198    198   we could also change the release and the attack     1\n",
       "CD         201    201  this is a graph of a function the input to thi...    1\n",
       "CM         201    201  so,we would like the height to be less than or...    1\n",
       "EX         200    200     what are the critical points of this function     1\n",
       "SM         201    201                   the input change by some factor     1"
      ]
     },
     "execution_count": 271,
     "metadata": {},
     "output_type": "execute_result"
    }
   ],
   "source": [
    "sentences.groupby('Label').describe()"
   ]
  },
  {
   "cell_type": "code",
   "execution_count": 272,
   "metadata": {},
   "outputs": [
    {
     "name": "stdout",
     "output_type": "stream",
     "text": [
      "  Label                                           Sentence  length\n",
      "0    CM         however,let's talk about the inputs first       42\n",
      "1    SM        that's the fundamental theorem of calculus       43\n",
      "2    EX  these are two places where the derivative is e...      59\n",
      "3    CM                               let's get rid of it       20\n",
      "4    AP  you can use OMITTED it's always smooth,if you ...     107\n",
      "\n",
      "\n",
      "[]\n"
     ]
    },
    {
     "data": {
      "text/plain": [
       "Text(0,0.5,'Quantity')"
      ]
     },
     "execution_count": 272,
     "metadata": {},
     "output_type": "execute_result"
    },
    {
     "data": {
      "image/png": "[encoded data removed]",
      "text/plain": [
       "<matplotlib.figure.Figure at 0x162a1d292b0>"
      ]
     },
     "metadata": {},
     "output_type": "display_data"
    }
   ],
   "source": [
    "sentences['length'] = sentences['Sentence'].map(lambda text: len(text))\n",
    "print(sentences.head())\n",
    "\n",
    "sentences.length.plot(bins=20, kind='hist')\n",
    "\n",
    "print(\"\\n\")\n",
    "sentences.length.describe()\n",
    "print(list(sentences.Sentence[sentences.length > 500]))\n",
    "\n",
    "#sentences.hist(column='length', by='Label', bins='auto',figsize=(10, 15), color=\"c\")\n",
    "plt.xlabel('Length')\n",
    "plt.ylabel('Quantity')"
   ]
  },
  {
   "cell_type": "code",
   "execution_count": 273,
   "metadata": {},
   "outputs": [
    {
     "data": {
      "text/plain": [
       "0       [however, let, 's, talk, about, the, inputs, f...\n",
       "1       [that, 's, the, fundamental, theorem, of, calc...\n",
       "2       [these, are, two, places, where, the, derivati...\n",
       "3                             [let, 's, get, rid, of, it]\n",
       "4       [you, can, use, OMITTED, it, 's, always, smoot...\n",
       "5                      [the, graph, is, always, wiggling]\n",
       "6       [if, we, knew, where, those, degrees, were, gr...\n",
       "7       [a, processing, element, is, a, digital, devic...\n",
       "8       [let, 's, examine, the, minimum, ram, and, rom...\n",
       "9                       [what, happens, at, the, bounces]\n",
       "10      [but, maybe, it, 's, not, a, trick, because, i...\n",
       "11      [music, we, 've, seen, df/OMITTED, and, we, 'v...\n",
       "12      [that, 's, the, sense, in, which, the, instant...\n",
       "13      [and, then, you, have, to, figure, out, the, p...\n",
       "14      [when, the, ball, leaves, my, hand, it, 's, go...\n",
       "15      [this, means, that, the, data, should, be, in,...\n",
       "16      [finally, it, 's, just, a, matter, of, evaluat...\n",
       "17      [all, i, can, really, do, is, figure, out, the...\n",
       "18      [week, six, has, got, a, bunch, of, small, tes...\n",
       "19      [and, that, 's, just, when, OMITTED, is, equal...\n",
       "20      [so, the, first, thing, we, need, to, learn, i...\n",
       "21      [when, it, 's, just, to, the, top, of, its, tr...\n",
       "22      [then, this, formula, would, be, telling, you,...\n",
       "23      [finally, the, system, may, have, some, applic...\n",
       "24      [you, not, only, have, to, pick, a, u, but, yo...\n",
       "25                    [let, 's, find, an, antiderivative]\n",
       "26      [we, want, to, fill, the, array, which, is, NU...\n",
       "27      [what, we, need, to, do, is, to, read, those, ...\n",
       "28      [you, also, need, to, describe, the, standards...\n",
       "29      [we, 've, also, had, the, sudden, change, of, ...\n",
       "                              ...                        \n",
       "971     [if, you, do, n't, know, or, remember, why, co...\n",
       "972               [and, then, it, started, slowing, down]\n",
       "973     [we, 're, using, the, idea, of, limits, to, co...\n",
       "974     [but, instead, of, using, map, i, 'm, just, do...\n",
       "975     [it, 's, called, waveform, and, we, 're, writi...\n",
       "976     [so, let, 's, start, with, what, 's, called, a...\n",
       "977     [so, we, working, on, the, interval, from, to,...\n",
       "978     [but, not, just, play, them, as, they, are, we...\n",
       "979     [i, hope, to, see, you, in, the, next, videos,...\n",
       "980     [by, using, this, bisection, method, and, an, ...\n",
       "981     [let, 's, evaluate, the, integral, of, NUMBER,...\n",
       "982     [next, we, have, protected, health, informatio...\n",
       "983     [then, what, we, 're, also, going, to, test, i...\n",
       "984     [at, the, end, of, this, whole, process, the, ...\n",
       "985     [here, in, this, example, the, function, 's, d...\n",
       "986     [and, i, sort, of, know, that, i, must, be, st...\n",
       "987     [our, first, inclination, might, be, to, try, ...\n",
       "988     [to, answer, this, question, you, should, desc...\n",
       "989     [from, planning, a, project, to, collecting, y...\n",
       "990     [NUMBER, squared, say, is, NUMBER, alright, so...\n",
       "991                                    [so, let, 's, see]\n",
       "992     [yeah, the, next, step, is, to, list, the, cri...\n",
       "993     [the, bigger, the, community, is, the, more, l...\n",
       "994                          [and, here, 's, an, example]\n",
       "995     [let, 's, first, think, about, when, the, deri...\n",
       "996     [pdf, for, example, has, become, the, de, fact...\n",
       "997     [and, i, know, the, function, 's, got, a, loca...\n",
       "998     [again, if, privacy, concerns, affect, your, a...\n",
       "999     [well, i, 'm, going, to, draw, a, little, tiny...\n",
       "1000    [i, know, the, function, 's, decreasing, here,...\n",
       "Name: Sentence, Length: 1001, dtype: object"
      ]
     },
     "execution_count": 273,
     "metadata": {},
     "output_type": "execute_result"
    }
   ],
   "source": [
    "#split a sent into its individual words\n",
    "def split_into_tokens(sent):\n",
    "    #sent = unicode(sent, 'utf8')  # convert bytes into proper unicode\n",
    "    return TextBlob(sent).words\n",
    "\n",
    "sentences.Sentence.apply(split_into_tokens)"
   ]
  },
  {
   "cell_type": "code",
   "execution_count": 274,
   "metadata": {},
   "outputs": [
    {
     "data": {
      "text/plain": [
       "0    [however, let, 's, talk, about, the, input, fi...\n",
       "1    [that, 's, the, fundamental, theorem, of, calc...\n",
       "2    [these, are, two, place, where, the, derivativ...\n",
       "3                          [let, 's, get, rid, of, it]\n",
       "4    [you, can, use, OMITTED, it, 's, always, smoot...\n",
       "Name: Sentence, dtype: object"
      ]
     },
     "execution_count": 274,
     "metadata": {},
     "output_type": "execute_result"
    }
   ],
   "source": [
    "# pre-processing\n",
    "def split_into_lemmas(sent):\n",
    "    words = TextBlob(sent).words\n",
    "    # for each word, take its \"base form\" = lemma \n",
    "    return [word.lemma for word in words]\n",
    "\n",
    "sentences.Sentence.head().apply(split_into_lemmas)"
   ]
  },
  {
   "cell_type": "code",
   "execution_count": 275,
   "metadata": {},
   "outputs": [
    {
     "name": "stdout",
     "output_type": "stream",
     "text": [
      "1938\n"
     ]
    }
   ],
   "source": [
    "# Data to vectors\n",
    "\n",
    "# convert each message, represented as a list of tokens (lemmas) above, \n",
    "# into a vector that machine learning models can understand\n",
    "\n",
    "bow_transformer = CountVectorizer(analyzer=split_into_lemmas).fit(sentences['Sentence'])\n",
    "print(len(bow_transformer.vocabulary_))"
   ]
  },
  {
   "cell_type": "code",
   "execution_count": 276,
   "metadata": {},
   "outputs": [
    {
     "name": "stdout",
     "output_type": "stream",
     "text": [
      "Nr of features:  1938\n",
      "Nr of features after cleaning:  1889\n"
     ]
    }
   ],
   "source": [
    "#message1000 = sentences['Sentence'][999]\n",
    "#print(message1000)\n",
    "#\n",
    "#bow1000 = bow_transformer.transform([message1000])\n",
    "#print(bow1000)\n",
    "#print(bow1000.shape)\n",
    "#print(\"OMITTED appears 3 times, i appears twice etc\")\n",
    "\n",
    "featureList = bow_transformer.get_feature_names()\n",
    "finalFeatureList = []\n",
    "\n",
    "def removeNumsFromFeatureList(featureList):\n",
    "    isNum = re.compile(\"[0-9]\")\n",
    "    hasApostrophe = re.compile(\"'\\w+\")\n",
    "        \n",
    "    for feat in featureList:\n",
    "        if isNum.match(feat): pass\n",
    "        elif hasApostrophe.match(feat): pass\n",
    "        elif \"OMITTED\" in feat.upper(): pass\n",
    "        elif \"NUMBER\" in feat.upper(): pass\n",
    "        elif (\"-\" or \"+\") in feat.upper(): pass\n",
    "        else: finalFeatureList.append(feat)\n",
    "\n",
    "print(\"Nr of features: \",len(featureList))\n",
    "removeNumsFromFeatureList(featureList)\n",
    "print(\"Nr of features after cleaning: \",len(finalFeatureList))\n",
    "\n",
    "#print(bow_transformer.get_feature_names()[5214])"
   ]
  },
  {
   "cell_type": "code",
   "execution_count": 277,
   "metadata": {
    "scrolled": true
   },
   "outputs": [
    {
     "name": "stdout",
     "output_type": "stream",
     "text": [
      "sparse matrix shape: (1001, 1938)\n",
      "number of non-zeros: 14731\n",
      "sparsity: 0.76%\n",
      "(1001, 1938)\n"
     ]
    }
   ],
   "source": [
    "sentences_bow = bow_transformer.transform(sentences['Sentence'])\n",
    "print('sparse matrix shape:', sentences_bow.shape)\n",
    "print('number of non-zeros:', sentences_bow.nnz)\n",
    "print('sparsity: %.2f%%' % (100.0 * sentences_bow.nnz / (sentences_bow.shape[0] * sentences_bow.shape[1])))\n",
    "\n",
    "#after the counting, the term weighting and normalization can be done with TF-IDF, using scikit-learn's TfidfTransformer\n",
    "tfidf_transformer = TfidfTransformer().fit(sentences_bow)\n",
    "#tfidf1000 = tfidf_transformer.transform(bow1000)\n",
    "#print(tfidf1451)\n",
    "\n",
    "# To transform the entire bag-of-words corpus into TF-IDF corpus at once:\n",
    "sentences_tfidf = tfidf_transformer.transform(sentences_bow)\n",
    "print(sentences_tfidf.shape)"
   ]
  },
  {
   "cell_type": "markdown",
   "metadata": {},
   "source": [
    "### RUN THE CLASSIFIER!"
   ]
  },
  {
   "cell_type": "code",
   "execution_count": 278,
   "metadata": {},
   "outputs": [
    {
     "name": "stdout",
     "output_type": "stream",
     "text": [
      "Wall time: 7.99 ms\n"
     ]
    }
   ],
   "source": [
    "# Using Multinomial Naive Bayes classifier\n",
    "%time label_classifier = MultinomialNB().fit(sentences_tfidf, sentences['Label'].fillna(\"\"))"
   ]
  },
  {
   "cell_type": "code",
   "execution_count": 279,
   "metadata": {},
   "outputs": [],
   "source": [
    "#print('Predicted:', label_classifier.predict(tfidf1000)[0])\n",
    "#print('Actual:', sentences.Label[999])"
   ]
  },
  {
   "cell_type": "code",
   "execution_count": 280,
   "metadata": {},
   "outputs": [
    {
     "name": "stdout",
     "output_type": "stream",
     "text": [
      "\n",
      "========Confusion matrix=========\n",
      " [[163  11   2  13   9]\n",
      " [  0 178   0  16   7]\n",
      " [ 10  14 155   7  15]\n",
      " [  6  14   0 174   6]\n",
      " [  4   7   1  12 177]]\n",
      "(row=Actual, col=Predicted)\n",
      "\n",
      "_______________Multinomial Naive Bayes________________\n",
      "\n",
      "             precision    recall  f1-score   support\n",
      "\n",
      "         AP       0.89      0.82      0.86       198\n",
      "         CD       0.79      0.89      0.84       201\n",
      "         CM       0.98      0.77      0.86       201\n",
      "         EX       0.78      0.87      0.82       200\n",
      "         SM       0.83      0.88      0.85       201\n",
      "\n",
      "avg / total       0.86      0.85      0.85      1001\n",
      "\n",
      "Accuracy:\t 0.85\n",
      "______________________________________________________\n",
      "\n"
     ]
    }
   ],
   "source": [
    "all_predictions = label_classifier.predict(sentences_tfidf)\n",
    "#print(all_predictions)\n",
    "\n",
    "print('\\n========Confusion matrix=========\\n', confusion_matrix(sentences['Label'].fillna(\"\"), all_predictions))\n",
    "print('(row=Actual, col=Predicted)')\n",
    "\n",
    "print(\"\\n_______________Multinomial Naive Bayes________________\\n\")\n",
    "print(classification_report(sentences['Label'].fillna(\"\"), all_predictions))\n",
    "print('Accuracy:\\t {0:.2f}'.format(accuracy_score(sentences['Label'].fillna(\"\"), all_predictions)))\n",
    "print(\"______________________________________________________\\n\")"
   ]
  }
 ],
 "metadata": {
  "kernelspec": {
   "display_name": "Python 3",
   "language": "python",
   "name": "python3"
  },
  "language_info": {
   "codemirror_mode": {
    "name": "ipython",
    "version": 3
   },
   "file_extension": ".py",
   "mimetype": "text/x-python",
   "name": "python",
   "nbconvert_exporter": "python",
   "pygments_lexer": "ipython3",
   "version": "3.6.4"
  }
 },
 "nbformat": 4,
 "nbformat_minor": 2
}
