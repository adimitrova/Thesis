{
 "cells": [
  {
   "cell_type": "markdown",
   "metadata": {},
   "source": [
    "### Data from TUD Library"
   ]
  },
  {
   "cell_type": "markdown",
   "metadata": {},
   "source": [
    "__From Manuel:__\n",
    "\n",
    "- The metadata I got from their OAI site\n",
    "http://oai.tudelft.nl/ir/\n",
    "\n",
    "- Sickle Documentation - http://sickle.readthedocs.io/en/latest/"
   ]
  },
  {
   "cell_type": "markdown",
   "metadata": {},
   "source": [
    " ### Theory OAI‐PMH (Open Archives Initiative Protocol for Metadata Harvesting)\n",
    "\n",
    "Currently, the basis of most interoperability efforts in the learning object repositories field, OAI‐PMH is a protocol for transferring over the web metadata about any material stored in electronic form. Compared with similar initiatives such as Z39.50 (which addresses issues such as session management, management of result sets and specification of predicates to filter out results), OAI was intentionally designed simple to reduce implementation complexity and therefore costs, facilitating its adoption. Nonetheless, this new protocol was designed for transferring large amounts of metadata, and thus provides a reasonable solution for clients that need to aggregate or index metadata\n",
    "\n",
    "Paper **Interlinking educational resources and the web of data : A survey of challenges and approaches**\n",
    "\n",
    "Alternatives\n",
    "- https://gist.github.com/lawlesst/1323535\n",
    "- https://pypi.org/project/oaiharvest/\n",
    "- https://github.com/infrae/pyoai\n",
    "\n",
    "Set the IOPub data rate limit: https://github.com/jupyter/notebook/issues/2287\n",
    "\n",
    "run `jupyter notebook --NotebookApp.iopub_data_rate_limit=10000000000`\n",
    "\n",
    "To change this limit, set the config variable\n",
    "`--NotebookApp.iopub_data_rate_limit`.\n",
    "\n",
    "Current values:\n",
    "\n",
    "NotebookApp.iopub_data_rate_limit=1000000.0 (bytes/sec)\n",
    "\n",
    "NotebookApp.rate_limit_window=3.0 (secs)"
   ]
  },
  {
   "cell_type": "code",
   "execution_count": 2,
   "metadata": {},
   "outputs": [],
   "source": [
    "from sickle import Sickle"
   ]
  },
  {
   "cell_type": "code",
   "execution_count": 4,
   "metadata": {},
   "outputs": [],
   "source": [
    "sickle = Sickle('http://oai.tudelft.nl/ir')\n",
    "records = sickle.ListRecords( **{'metadataPrefix': 'oai_dc', 'ignore_deleted': 'True'})\n",
    "\n",
    "oFilePath = r\"C:\\Users\\a.dimitrova\\Desktop\\Course data Thesis\\TUDelftLibMetadataPART.xml\"\n",
    "\n",
    "with open(oFilePath, 'w', encoding = \"utf-8\") as oFile:\n",
    "    for i,rec in enumerate(records):\n",
    "        #print(rec.header)\n",
    "        # extract only 1/3rd of the data as the file is too big otherwise (150 mb)\n",
    "        if i % 3 == 0:\n",
    "            oFile.write(str(rec))"
   ]
  },
  {
   "cell_type": "code",
   "execution_count": null,
   "metadata": {},
   "outputs": [
    {
     "name": "stdout",
     "output_type": "stream",
     "text": [
      "Processing metadata\n"
     ]
    }
   ],
   "source": [
    "items = {}\n",
    "\n",
    "sickle = Sickle('http://oai.tudelft.nl/ir')\n",
    "records = sickle.ListRecords( **{'metadataPrefix': 'oai_dc', 'ignore_deleted': 'True'})\n",
    "\n",
    "print('Processing metadata')\n",
    "\n",
    "for r in records:\n",
    "    uuid = ''\n",
    "    uuid = r.metadata['identifier'][0][32:]\n",
    "    items[uuid] = r.metadata\n",
    "\n",
    "print(len(items))\n",
    "print(items)"
   ]
  },
  {
   "cell_type": "code",
   "execution_count": null,
   "metadata": {},
   "outputs": [],
   "source": [
    "from oaipmh.client import Client\n",
    "from oaipmh.metadata import MetadataRegistry, oai_dc_reader\n",
    "\n",
    "URL = 'http://oai.tudelft.nl/ir'\n",
    "\n",
    "registry = MetadataRegistry()\n",
    "registry.registerReader('oai_dc', oai_dc_reader)\n",
    "client = Client(URL, registry)\n",
    "\n",
    "for record in client.listRecords(metadataPrefix='oai_dc'):\n",
    "   print(record)"
   ]
  },
  {
   "cell_type": "markdown",
   "metadata": {},
   "source": [
    "## TU Delft Library Metadata 1 Record\n",
    "\n",
    "` <record xmlns=\"http://www.openarchives.org/OAI/2.0/\" xmlns:xsi=\"http://www.w3.org/2001/XMLSchema-instance\">\n",
    "\t<header>\n",
    "\t<identifier>oai:tudelft.nl:uuid:00036dbe-54d3-432a-a78f-83cd66211b5e</identifier>\n",
    "\t<datestamp>2017-10-18T22:57:59Z</datestamp>\n",
    "\t<setSpec>A-set</setSpec>\n",
    "\t</header>\n",
    "\n",
    "\t<metadata>\n",
    "\t\t<oai_dc:dc xmlns:oai_dc=\"http://www.openarchives.org/OAI/2.0/oai_dc/\" xmlns:dc=\"http://purl.org/dc/elements/1.1/\" xmlns:xsi=\"http://www.w3.org/2001/XMLSchema-instance\" xsi:schemaLocation=\"http://www.openarchives.org/OAI/2.0/oai_dc/ http://www.openarchives.org/OAI/2.0/oai_dc.xsd\">\n",
    "\t\t<dc:title>Een exploratief onderzoek naar arbeidsmigranten en veiligheid in drie Europese landen</dc:title><dc:creator>Guldenmund, F.W. (author)\n",
    "\t\t</dc:creator><dc:creator>Cleal, B. (author)</dc:creator>\n",
    "\t\t<dc:creator>Mearns, K. (author)</dc:creator>\n",
    "\t\t<dc:description>Het aantal ongevallen met verzuim van arbeidsmigranten of ‘nieuwkomers’ stijgt de laatste jaren. Onder andere naar aanleiding hiervan is er in opdracht van het Ministerie van Sociale Zaken en Werkgelegenheid een studie uitgevoerd naar de arbeidsveiligheid van deze groep. Drie Europese landen (Denemarken, Verenigd Koninkrijk, Nederland) namen deel aan de studie. Speciale aandacht ging uit naar de relatie tussen veiligheid en de nationaliteit van de migranten. Met behulp van vierenveertig interviews, een vragenlijstonderzoek in elf landen en Deense ongevalsdata wordt een beeld geschetst van de situatie van arbeidsmigranten in de drie landen. Hoewel nog veel materiaal anekdotisch is, kan geconcludeerd worden dat het om een kwetsbare groep gaat. Zo lang veel migranten ongeregistreerd aan het werk gaan in het buitenland, en de nationale ongevallen databases niet uitgebreider en systematischer gecodeerd worden, blijft echter de omvang van het probleem vooralsnog onduidelijk.</dc:description>\n",
    "\t\t<dc:description>Values and Technology</dc:description>\n",
    "\t\t<dc:description>Technology, Policy and Management</dc:description>\n",
    "\t\t<dc:publisher>Nederlandse Vereniging voor Arbeidshygiene</dc:publisher>\n",
    "\t\t<dc:date>2012-06-01</dc:date>\n",
    "\t\t<dc:type>journal article</dc:type>\n",
    "\t\t<dc:type>Text</dc:type>\n",
    "\t\t<dc:identifier>http://resolver.tudelft.nl/uuid:00036dbe-54d3-432a-a78f-83cd66211b5e</dc:identifier>\n",
    "\t\t<dc:language>nl</dc:language>\n",
    "\t\t<dc:relation>Tijdschrift voor Toegepaste Arbowetenschappen, 26 (3/4), 2012--0923-618X</dc:relation>\n",
    "\t\t<dc:rights>(c) 2012 Auteurs</dc:rights></oai_dc:dc>\n",
    "\t</metadata>\n",
    "</record> `"
   ]
  },
  {
   "cell_type": "markdown",
   "metadata": {},
   "source": [
    "## DC Elements\n",
    "\n",
    "- title\n",
    "- location\n",
    "- creator\n",
    "- description\n",
    "- publisher\n",
    "- date\n",
    "- type\n",
    "- identifier\n",
    "- language\n",
    "- relation\n",
    "- rights"
   ]
  }
 ],
 "metadata": {
  "kernelspec": {
   "display_name": "Python 3",
   "language": "python",
   "name": "python3"
  },
  "language_info": {
   "codemirror_mode": {
    "name": "ipython",
    "version": 3
   },
   "file_extension": ".py",
   "mimetype": "text/x-python",
   "name": "python",
   "nbconvert_exporter": "python",
   "pygments_lexer": "ipython3",
   "version": "3.6.4"
  }
 },
 "nbformat": 4,
 "nbformat_minor": 2
}
