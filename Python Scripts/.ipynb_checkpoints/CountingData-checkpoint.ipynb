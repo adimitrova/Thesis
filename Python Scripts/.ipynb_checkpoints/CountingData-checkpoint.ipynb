{
 "cells": [
  {
   "cell_type": "markdown",
   "metadata": {},
   "source": [
    "Data is pre-processed in Java by splitting it into sentences, each on a new line, and lowering the case of all files. New files are saved as TXT with \"\\_SENTbySENT\" added at the end of the file name"
   ]
  },
  {
   "cell_type": "code",
   "execution_count": 18,
   "metadata": {},
   "outputs": [],
   "source": [
    "# Import all necesssry modules\n",
    "import os, sys, os.path\n",
    "from stat import *\n",
    "import errno\n",
    "import glob\n",
    "import csv\n",
    "import re\n",
    "import shutil"
   ]
  },
  {
   "cell_type": "markdown",
   "metadata": {},
   "source": [
    "## Count collected data files "
   ]
  },
  {
   "cell_type": "code",
   "execution_count": 24,
   "metadata": {
    "scrolled": true
   },
   "outputs": [
    {
     "name": "stdout",
     "output_type": "stream",
     "text": [
      "All files:  556\n",
      "TXT files:  556\n"
     ]
    }
   ],
   "source": [
    "path = r\"C:\\Users\\ani\\Desktop\\Course data Thesis\\PROCESSED\\all coures to select from\"\n",
    "#import os\n",
    "import os.path\n",
    "\n",
    "allFiles = sum([len(files) for r, d, files in os.walk(path)])\n",
    "\n",
    "print(\"All files: \", allFiles)\n",
    "\n",
    "# ---------------\n",
    "def fileCounter(folder):    \n",
    "    count = 0\n",
    "    \n",
    "    for filename in os.listdir(folder):\n",
    "        path = os.path.join(folder, filename)\n",
    "        \n",
    "        if os.path.isfile(path):\n",
    "            if os.path.isfile(path):\n",
    "                name = os.path.basename(path)\n",
    "                if name.endswith('.txt'):\n",
    "                    count += 1\n",
    "        elif os.path.isdir(path):\n",
    "            count += fileCounter(path)\n",
    "            \n",
    "    return count\n",
    "# ---------------\n",
    "\n",
    "\"\"\"\n",
    "TXT files:  563\n",
    "SRT files:  568\n",
    "RTF files:  562\n",
    "All Files:  1693\n",
    "\"\"\"\n",
    "\n",
    "print(\"TXT files: \", fileCounter(root))"
   ]
  },
  {
   "cell_type": "markdown",
   "metadata": {},
   "source": [
    "## List files in directories"
   ]
  },
  {
   "cell_type": "code",
   "execution_count": 10,
   "metadata": {},
   "outputs": [
    {
     "name": "stdout",
     "output_type": "stream",
     "text": [
      " Selected files TRAIN\n",
      "--- CountingData.ipynb\n",
      "--- Data Analysis.ipynb\n",
      "--- Dictionary and N-Grams.ipynb\n",
      "--- FullPreprocessing.ipynb\n",
      "--- playground.ipynb\n",
      "--- Text classification (dummy).ipynb\n",
      "--- Text clustering.ipynb\n",
      "--- TF-IDF+NLTK+wordnet+wikipedia.ipynb\n",
      "--- TUD Lubrary data.ipynb\n",
      "--- Selected files TRAIN\n",
      "------ CountingData-checkpoint.ipynb\n",
      "------ Data Analysis-checkpoint.ipynb\n",
      "------ Dictionary and N-Grams-checkpoint.ipynb\n",
      "------ FullPreprocessing-checkpoint.ipynb\n",
      "------ playground-checkpoint.ipynb\n",
      "------ Text classification (dummy)-checkpoint.ipynb\n",
      "------ Text clustering-checkpoint.ipynb\n",
      "------ TUD Lubrary data-checkpoint.ipynb\n"
     ]
    }
   ],
   "source": [
    "#files = glob.glob(root)\n",
    "\n",
    "def traverseDir(rootIn):\n",
    "# traverse root directory, and list directories as dirs and files as files\n",
    "    for rootIn, dirs, files in os.walk(\".\"):\n",
    "        path = rootIn.split(os.sep)\n",
    "        print((len(path) - 1) * '---', os.path.basename(root))\n",
    "        for file in files:\n",
    "            print(len(path) * '---', file)\n",
    "            \n",
    "traverseDir(root)"
   ]
  },
  {
   "cell_type": "markdown",
   "metadata": {},
   "source": [
    "## Count all sentences in all files"
   ]
  },
  {
   "cell_type": "code",
   "execution_count": 51,
   "metadata": {},
   "outputs": [
    {
     "name": "stdout",
     "output_type": "stream",
     "text": [
      "\n",
      "<<< FILES: 111 | SENTENCES: 8835 | FOLDERS: 10 | TUPLES: 8724 >>>\n",
      "__________________________________________\n",
      "CD |\tCM |\tSM |\tAP |\tEX |\tNL \n",
      "843|\t27 |\t51 |\t22 |\t119|\t55 \n",
      "------------------------------------------\n"
     ]
    }
   ],
   "source": [
    "#path = r\"C:\\Users\\ani\\Desktop\\Course data Thesis\\PROCESSED\\all coures to select from\"   #THE REST OF THE DATA\n",
    "path = r\"C:\\Users\\ani\\Desktop\\Course data Thesis\\PROCESSED\\Selected files TRAIN\"    #TRAIN / TEST\n",
    "\n",
    "\"\"\"\n",
    "TRAIN:     <<< FILES: 111 | SENTENCES: 8835 | FOLDERS: 10 | TUPLES: 8724 >>>\n",
    "THE REST:  <<< FILES: 556 | SENTENCES: 38482 | FOLDERS: 320 | TUPLES: 9 >>>\n",
    "\"\"\"\n",
    "\n",
    "sentCounter = 0\n",
    "fileCounter = 0\n",
    "folderCounter = 0\n",
    "allTuples = []\n",
    "\n",
    "for root, subdirs, files in os.walk(path):\n",
    "\n",
    "    for curFile in os.listdir(root):\n",
    "\n",
    "        curFilePath = os.path.join(root, curFile)\n",
    "\n",
    "        if os.path.isdir(curFilePath):\n",
    "            folderCounter += 1\n",
    "            pass\n",
    "\n",
    "        else:\n",
    "            try:\n",
    "                fileCounter += 1\n",
    "                curFile = open(curFilePath, 'r', encoding = \"ISO-8859-1\") #IMPORTANT ENCODING! UTF8 DOESN'T WORK\n",
    "\n",
    "                fcontent = curFile.read().split(\"\\n\")\n",
    "                \n",
    "                for sent in fcontent:\n",
    "                    if sent == \"[music].\" or sent == \"[music]\":\n",
    "                        pass\n",
    "                    else:\n",
    "                        sentParts = sent.split(\"|\")\n",
    "                        if len(sentParts) == 1:\n",
    "                            pass\n",
    "                        else: \n",
    "                            sentTuple = (sentParts[0],sentParts[1])\n",
    "                            allTuples.append(sentTuple)\n",
    "                            \n",
    "                        #print(sentParts[0],\"<<>>\",sentParts[1])\n",
    "                        sentCounter += 1\n",
    "                        \n",
    "            except FileNotFoundError as e:\n",
    "                print(\"SKIPPING [{}]: {}\".format(e.strerror,curFile))\n",
    "                pass\n",
    "\n",
    "print(\"\\n<<< FILES: {} | SENTENCES: {} | FOLDERS: {} | TUPLES: {} >>>\".format(fileCounter, sentCounter, folderCounter, len(allTuples)))\n",
    "\n",
    "\n",
    "# count sentences labeled with specific label\n",
    "CDtuples = 0\n",
    "CMtuples = 0\n",
    "SMtuples = 0\n",
    "APtuples = 0\n",
    "EXtuples = 0\n",
    "NLtuples = 0\n",
    "\n",
    "\n",
    "for tup in allTuples:\n",
    "    if \"CD\" in tup:\n",
    "        CDtuples += 1\n",
    "    if \"CM\" in tup:\n",
    "        CMtuples += 1\n",
    "    if \"SM\" in tup:\n",
    "        SMtuples += 1\n",
    "    if \"AP\" in tup:\n",
    "        APtuples += 1\n",
    "    if \"EX\" in tup:\n",
    "        EXtuples += 1\n",
    "    if \"NL\" in tup:\n",
    "        NLtuples += 1\n",
    "        \n",
    "print(\"__________________________________________\")\n",
    "print(\"CD |\\tCM |\\tSM |\\tAP |\\tEX |\\tNL \\n{}|\\t{} |\\t{} |\\t{} |\\t{}|\\t{} \".format(CDtuples,CMtuples,SMtuples,APtuples,EXtuples,NLtuples))\n",
    "print(\"------------------------------------------\")"
   ]
  },
  {
   "cell_type": "markdown",
   "metadata": {},
   "source": [
    "### Select every 5th file for labeling\n",
    "\n",
    "#### Collecting files for TRAIN dataset which, on its end will be split around [70% : 30%] for Train and Test data once labeled"
   ]
  },
  {
   "cell_type": "code",
   "execution_count": null,
   "metadata": {},
   "outputs": [],
   "source": [
    "path = r\"C:\\Users\\ani\\Desktop\\Course data Thesis\\PROCESSED\\all coures to select from\"\n",
    "\n",
    "fileCounter = 0\n",
    "\n",
    "for root, subdirs, files in os.walk(path):\n",
    "\n",
    "    for curFile in os.listdir(root):\n",
    "\n",
    "        curFilePath = os.path.join(root, curFile)\n",
    "\n",
    "        if os.path.isdir(curFilePath):\n",
    "            pass\n",
    "\n",
    "        else:\n",
    "            fileCounter += 1\n",
    "            # get every 5th file among the 556 files, so that I have approx. equal ratio based on the files in each course\n",
    "            if fileCounter % 5 == 0 or fileCounter == 1:  \n",
    "                newDestinationRoot = r\"C:\\Users\\ani\\Desktop\\Course data Thesis\\PROCESSED\\Selected files TRAIN\"\n",
    "                curFile = open(curFilePath, 'r', encoding = \"ISO-8859-1\") #IMPORTANT ENCODING! UTF8 DOESN'T WORK\n",
    "\n",
    "                #print(\"File {} | {} \".format(fileCounter, curFile.name))\n",
    "                \n",
    "                # split the original path to parts and take the course folder name\n",
    "                # combine it with the file name and put all files in a single course folder\n",
    "                fileParts = curFile.name.split(\"\\\\\")\n",
    "                newLocation = newDestinationRoot+'\\\\'+fileParts[7]+'\\\\'+fileParts[-1]\n",
    "                \n",
    "                # get the path of the new directory to check if it exists\n",
    "                directory = newDestinationRoot+\"\\\\\"+fileParts[7]\n",
    "                print(directory)\n",
    "                \n",
    "                # if the dir doesn't exist, create it\n",
    "                if not os.path.exists(directory):\n",
    "                    os.makedirs(directory)\n",
    "                    \n",
    "                # close file otherwise throws an err\n",
    "                curFile.close()                \n",
    "                \n",
    "                # copy the files\n",
    "                #print(\"COPYING FILE #{}.. \\nSOURCE:\\t\\t {}\\nDESTINATION:\\t {} \\n\".format(fileCounter,curFile.name,newLocation))\n",
    "                ##### UNCOMMENT TO COPY FILES ##### \n",
    "                #shutil.copy(curFile.name, newLocation)\n",
    "                \n",
    "\n",
    "#print(\"\\n<<< FILES: {} | SENTENCES: {} | FOLDERS: {} >>>\".format(fileCounter, sentCounter, folderCounter))"
   ]
  }
 ],
 "metadata": {
  "kernelspec": {
   "display_name": "Python 3",
   "language": "python",
   "name": "python3"
  },
  "language_info": {
   "codemirror_mode": {
    "name": "ipython",
    "version": 3
   },
   "file_extension": ".py",
   "mimetype": "text/x-python",
   "name": "python",
   "nbconvert_exporter": "python",
   "pygments_lexer": "ipython3",
   "version": "3.6.4"
  }
 },
 "nbformat": 4,
 "nbformat_minor": 2
}
