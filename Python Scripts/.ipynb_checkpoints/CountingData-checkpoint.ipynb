{
 "cells": [
  {
   "cell_type": "markdown",
   "metadata": {},
   "source": [
    "Data is pre-processed in Java by splitting it into sentences, each on a new line, and lowering the case of all files. New files are saved as TXT with \"\\_SENTbySENT\" added at the end of the file name"
   ]
  },
  {
   "cell_type": "code",
   "execution_count": 1,
   "metadata": {},
   "outputs": [],
   "source": [
    "# Import all necesssry modules\n",
    "import os, sys, os.path\n",
    "from stat import *\n",
    "import errno\n",
    "import glob\n",
    "import csv\n",
    "import re\n",
    "import shutil\n",
    "import csv"
   ]
  },
  {
   "cell_type": "markdown",
   "metadata": {
    "heading_collapsed": true
   },
   "source": [
    "## Count collected data files "
   ]
  },
  {
   "cell_type": "code",
   "execution_count": null,
   "metadata": {
    "hidden": true,
    "scrolled": true
   },
   "outputs": [],
   "source": [
    "path = r\"C:\\Users\\ani\\Desktop\\Course data Thesis\\PROCESSED\\all coures to select from\"\n",
    "#import os\n",
    "import os.path\n",
    "\n",
    "allFiles = sum([len(files) for r, d, files in os.walk(path)])\n",
    "\n",
    "print(\"All files: \", allFiles)\n",
    "\n",
    "# ---------------\n",
    "def fileCounter(folder):    \n",
    "    count = 0\n",
    "    \n",
    "    for filename in os.listdir(folder):\n",
    "        path = os.path.join(folder, filename)\n",
    "        \n",
    "        if os.path.isfile(path):\n",
    "            if os.path.isfile(path):\n",
    "                name = os.path.basename(path)\n",
    "                if name.endswith('.txt'):\n",
    "                    count += 1\n",
    "        elif os.path.isdir(path):\n",
    "            count += fileCounter(path)\n",
    "            \n",
    "    return count\n",
    "# ---------------\n",
    "\n",
    "\"\"\"\n",
    "TXT files:  563\n",
    "SRT files:  568\n",
    "RTF files:  562\n",
    "All Files:  1693\n",
    "\"\"\"\n",
    "\n",
    "print(\"TXT files: \", fileCounter(root))"
   ]
  },
  {
   "cell_type": "markdown",
   "metadata": {
    "heading_collapsed": true
   },
   "source": [
    "## List files in directories"
   ]
  },
  {
   "cell_type": "code",
   "execution_count": null,
   "metadata": {
    "hidden": true
   },
   "outputs": [],
   "source": [
    "#files = glob.glob(root)\n",
    "\n",
    "def traverseDir(rootIn):\n",
    "# traverse root directory, and list directories as dirs and files as files\n",
    "    for rootIn, dirs, files in os.walk(\".\"):\n",
    "        path = rootIn.split(os.sep)\n",
    "        print((len(path) - 1) * '---', os.path.basename(root))\n",
    "        for file in files:\n",
    "            print(len(path) * '---', file)\n",
    "            \n",
    "traverseDir(root)"
   ]
  },
  {
   "cell_type": "markdown",
   "metadata": {},
   "source": [
    "## Count all sentences in all files"
   ]
  },
  {
   "cell_type": "markdown",
   "metadata": {},
   "source": [
    "### Sentence and labels count"
   ]
  },
  {
   "cell_type": "code",
   "execution_count": 3,
   "metadata": {},
   "outputs": [
    {
     "name": "stdout",
     "output_type": "stream",
     "text": [
      "\n",
      "<<< FILES: 111 | SENTENCES: 8835 | FOLDERS: 0 | TUPLES: 8724 >>>\n",
      "<<< LABELED SENT: 1605 | UNLABELED SENT: 7230 >>>\n",
      "___________________________________________\n",
      "|CD  |\tCM |\tSM |\tAP |\tEX |\tNL| \n",
      "|1131|\t37 |\t71 |\t32 |\t147|\t76| \n",
      "-------------------------------------------\n"
     ]
    }
   ],
   "source": [
    "#path = r\"C:\\Users\\ani\\Desktop\\Course data Thesis\\PROCESSED\\all coures to select from\"   #THE REST OF THE DATA\n",
    "path = r\"C:\\Users\\ani\\Desktop\\Course data Thesis\\PROCESSED\\Selected files TRAIN\"    #TRAIN / TEST\n",
    "\n",
    "\"\"\"\n",
    "TRAIN:     <<< FILES: 111 | SENTENCES: 8835 | FOLDERS: 10 | TUPLES: 8724 >>>\n",
    "THE REST:  <<< FILES: 556 | SENTENCES: 38482 | FOLDERS: 320 | TUPLES: 9 >>>\n",
    "\"\"\"\n",
    "\n",
    "sentCounter = 0\n",
    "fileCounter = 0\n",
    "folderCounter = 0\n",
    "allTuples = []\n",
    "unlabeledSent = 0\n",
    "unlabeledFiles = 0\n",
    "\n",
    "for root, subdirs, files in os.walk(path):\n",
    "\n",
    "    for curFile in os.listdir(root):\n",
    "\n",
    "        curFilePath = os.path.join(root, curFile)\n",
    "\n",
    "        if os.path.isdir(curFilePath):\n",
    "            pass\n",
    "\n",
    "        else:\n",
    "            try:\n",
    "                fileCounter += 1\n",
    "                curFile = open(curFilePath, 'r', encoding = \"ISO-8859-1\") #IMPORTANT ENCODING! UTF8 DOESN'T WORK\n",
    "\n",
    "                fcontent = curFile.read().split(\"\\n\")\n",
    "                \n",
    "                for sent in fcontent:\n",
    "                    if sent == \"[music].\" or sent == \"[music]\":\n",
    "                        pass\n",
    "                    else:\n",
    "                        sentParts = sent.split(\"|\")\n",
    "                        if len(sentParts) == 1:\n",
    "                            pass\n",
    "                        else: \n",
    "                            sentTuple = (sentParts[0],sentParts[1])\n",
    "                            allTuples.append(sentTuple)\n",
    "                            if sentTuple[0] == '':\n",
    "                                unlabeledSent += 1\n",
    "                            \n",
    "                        #print(sentParts[0],\"<<>>\",sentParts[1])\n",
    "                        sentCounter += 1\n",
    "                        \n",
    "            except FileNotFoundError as e:\n",
    "                print(\"SKIPPING [{}]: {}\".format(e.strerror,curFile))\n",
    "                pass\n",
    "\n",
    "print(\"\\n<<< FILES: {} | SENTENCES: {} | FOLDERS: {} | TUPLES: {} >>>\".format(fileCounter, sentCounter, folderCounter, len(allTuples)))\n",
    "print(\"<<< LABELED SENT: {} | UNLABELED SENT: {} >>>\".format((sentCounter - unlabeledSent),unlabeledSent))\n",
    "#print(\"\\n<<< LABELED FILES: {} | UNLABELED FILES: {} >>>\".format((fileCounter - unlabeledFiles),unlabeledFiles))\n",
    "\n",
    "\n",
    "# count sentences labeled with specific label\n",
    "CDtuples = 0\n",
    "CMtuples = 0\n",
    "SMtuples = 0\n",
    "APtuples = 0\n",
    "EXtuples = 0\n",
    "NLtuples = 0\n",
    "\n",
    "\n",
    "for tup in allTuples:\n",
    "    if \"CD\" in tup: CDtuples += 1\n",
    "    if \"CM\" in tup: CMtuples += 1\n",
    "    if \"SM\" in tup: SMtuples += 1\n",
    "    if \"AP\" in tup: APtuples += 1\n",
    "    if \"EX\" in tup: EXtuples += 1\n",
    "    if \"NL\" in tup: NLtuples += 1\n",
    "        \n",
    "print(\"___________________________________________\")\n",
    "print(\"|CD  |\\tCM |\\tSM |\\tAP |\\tEX |\\tNL| \\n|{}|\\t{} |\\t{} |\\t{} |\\t{}|\\t{}| \".format(CDtuples,CMtuples,SMtuples,APtuples,EXtuples,NLtuples))\n",
    "print(\"-------------------------------------------\")"
   ]
  },
  {
   "cell_type": "markdown",
   "metadata": {
    "heading_collapsed": true
   },
   "source": [
    "### Select every 5th file for labeling\n",
    "\n",
    "#### Collecting files for TRAIN dataset which, on its end will be split around [70% : 30%] for Train and Test data once labeled"
   ]
  },
  {
   "cell_type": "code",
   "execution_count": null,
   "metadata": {
    "hidden": true
   },
   "outputs": [],
   "source": [
    "path = r\"C:\\Users\\ani\\Desktop\\Course data Thesis\\PROCESSED\\all coures to select from\"\n",
    "\n",
    "fileCounter = 0\n",
    "\n",
    "for root, subdirs, files in os.walk(path):\n",
    "\n",
    "    for curFile in os.listdir(root):\n",
    "\n",
    "        curFilePath = os.path.join(root, curFile)\n",
    "\n",
    "        if os.path.isdir(curFilePath):\n",
    "            pass\n",
    "\n",
    "        else:\n",
    "            fileCounter += 1\n",
    "            # get every 5th file among the 556 files, so that I have approx. equal ratio based on the files in each course\n",
    "            if fileCounter % 5 == 0 or fileCounter == 1:  \n",
    "                newDestinationRoot = r\"C:\\Users\\ani\\Desktop\\Course data Thesis\\PROCESSED\\Selected files TRAIN\"\n",
    "                curFile = open(curFilePath, 'r', encoding = \"ISO-8859-1\") #IMPORTANT ENCODING! UTF8 DOESN'T WORK\n",
    "\n",
    "                #print(\"File {} | {} \".format(fileCounter, curFile.name))\n",
    "                \n",
    "                # split the original path to parts and take the course folder name\n",
    "                # combine it with the file name and put all files in a single course folder\n",
    "                fileParts = curFile.name.split(\"\\\\\")\n",
    "                newLocation = newDestinationRoot+'\\\\'+fileParts[7]+'\\\\'+fileParts[-1]\n",
    "                \n",
    "                # get the path of the new directory to check if it exists\n",
    "                directory = newDestinationRoot+\"\\\\\"+fileParts[7]\n",
    "                print(directory)\n",
    "                \n",
    "                # if the dir doesn't exist, create it\n",
    "                if not os.path.exists(directory):\n",
    "                    os.makedirs(directory)\n",
    "                    \n",
    "                # close file otherwise throws an err\n",
    "                curFile.close()                \n",
    "                \n",
    "                # copy the files\n",
    "                #print(\"COPYING FILE #{}.. \\nSOURCE:\\t\\t {}\\nDESTINATION:\\t {} \\n\".format(fileCounter,curFile.name,newLocation))\n",
    "                ##### UNCOMMENT TO COPY FILES ##### \n",
    "                #shutil.copy(curFile.name, newLocation)\n",
    "                \n",
    "\n",
    "#print(\"\\n<<< FILES: {} | SENTENCES: {} | FOLDERS: {} >>>\".format(fileCounter, sentCounter, folderCounter))"
   ]
  },
  {
   "cell_type": "markdown",
   "metadata": {
    "heading_collapsed": true
   },
   "source": [
    "### Check for empty files"
   ]
  },
  {
   "cell_type": "code",
   "execution_count": null,
   "metadata": {
    "hidden": true
   },
   "outputs": [],
   "source": [
    "path = r\"C:\\Users\\ani\\Desktop\\Course data Thesis\\PROCESSED\\Data for Crowdsourcing - UNLABELED\"\n",
    "\n",
    "fileCounter = 0\n",
    "\n",
    "for root, subdirs, files in os.walk(path):\n",
    "\n",
    "    for curFile in os.listdir(root):\n",
    "\n",
    "        curFilePath = os.path.join(root, curFile)\n",
    "\n",
    "        if os.path.isdir(curFilePath):\n",
    "            pass\n",
    "\n",
    "        else:\n",
    "            \n",
    "            curFile = open(curFilePath, 'r', encoding = \"ISO-8859-1\") #IMPORTANT ENCODING! UTF8 DOESN'T WORK\n",
    "\n",
    "            lineCount = 0\n",
    "            \n",
    "            for line in curFile.read().split(\"\\n\"):\n",
    "                lineCount += 1\n",
    "                \n",
    "            if lineCount < 2:\n",
    "                print(\"Empty file: \", os.path.basename(curFilePath))\n",
    "            \n",
    "            curFile.close()                "
   ]
  },
  {
   "cell_type": "markdown",
   "metadata": {
    "heading_collapsed": true
   },
   "source": [
    "### Splitting into HITS of 5 files each"
   ]
  },
  {
   "cell_type": "code",
   "execution_count": null,
   "metadata": {
    "hidden": true
   },
   "outputs": [],
   "source": [
    "path = r\"C:\\Users\\ani\\Desktop\\Course data Thesis\\PROCESSED\\all coures to select from\"\n",
    "\n",
    "fileCounter = 0\n",
    "foldIndex = 0\n",
    "\n",
    "#folders = list(filter(lambda x: x%5 == 0, range[0:112])\n",
    "folderNum = range(1, range[0:112]+1)\n",
    "\n",
    "for root, subdirs, files in os.walk(path):\n",
    "\n",
    "    for curFile in os.listdir(root):\n",
    "\n",
    "        curFilePath = os.path.join(root, curFile)\n",
    "\n",
    "        if os.path.isdir(curFilePath):\n",
    "            pass\n",
    "\n",
    "        else:\n",
    "            fileCounter += 1\n",
    "            newDestinationRoot = r\"C:\\Users\\ani\\Desktop\\Course data Thesis\\PROCESSED\\Data\\Hit\"\n",
    "            \n",
    "            if not fileCounter % 5 == 0:  \n",
    "                print(newDestinationRoot)\n",
    "            elif fileCounter % 5 == 0: \n",
    "                newDestinationRoot = newDestinationRoot + folderNum(foldIndex)\n",
    "                if not folderNum == len(folderNum)+1:\n",
    "                    foldIndex += 1\n",
    "                    print(newDestinationRoot)\n",
    "\n",
    "            curFile = open(curFilePath, 'r', encoding = \"ISO-8859-1\") #IMPORTANT ENCODING! UTF8 DOESN'T WORK\n",
    "                \n",
    "            # split the original path to parts and take the course folder name\n",
    "            # combine it with the file name and put all files in a single course folder\n",
    "            newLocation = newDestinationRoot\n",
    "            print(newLocation)\n",
    "            \n",
    "            # if the dir doesn't exist, create it\n",
    "            if not os.path.exists(newDestinationRoot):\n",
    "                os.makedirs(newDestinationRoot)\n",
    "\n",
    "            # close file otherwise throws an err\n",
    "            curFile.close()                \n",
    "\n",
    "            # copy the files\n",
    "            #print(\"COPYING FILE #{}.. \\nSOURCE:\\t\\t {}\\nDESTINATION:\\t {} \\n\".format(fileCounter,curFile.name,newLocation))\n",
    "            ##### UNCOMMENT TO COPY FILES ##### \n",
    "            #shutil.copy(curFile.name, newLocation)\n",
    "                \n",
    "\n",
    "#print(\"\\n<<< FILES: {} | SENTENCES: {} | FOLDERS: {} >>>\".format(fileCounter, sentCounter, folderCounter))"
   ]
  },
  {
   "cell_type": "markdown",
   "metadata": {},
   "source": [
    "## Convert all files to CSV"
   ]
  },
  {
   "cell_type": "code",
   "execution_count": 3,
   "metadata": {},
   "outputs": [],
   "source": [
    "path = r\"C:\\Users\\ani\\Desktop\\Course data Thesis\\PROCESSED\\Data for Crowdsourcing - UNLABELED\"\n",
    "\n",
    "data = []\n",
    "\n",
    "### go over the files and convert them to CSV   \n",
    "\n",
    "for root, subdirs, files in os.walk(path):\n",
    "\n",
    "    for curFile in os.listdir(root):\n",
    "\n",
    "        curFilePath = os.path.join(root, curFile)\n",
    "\n",
    "        if os.path.isdir(curFilePath):\n",
    "            pass\n",
    "\n",
    "        else:\n",
    "            if curFilePath.endswith(\".txt\"):\n",
    "                curFile = open(curFilePath, 'r', encoding = \"ISO-8859-1\") #IMPORTANT ENCODING! UTF8 DOESN'T WORK\n",
    "                fileExtRemoved = os.path.splitext(os.path.abspath(curFilePath))[0]\n",
    "                #print(fileExtRemoved)\n",
    "                fcontent = curFile.read().split(\"\\n\")\n",
    "\n",
    "                with open(fileExtRemoved+'.csv', 'w') as OutpCSV:\n",
    "                    converter = csv.writer(OutpCSV, delimiter=',')\n",
    "                    #converter.writerow([\"LABEL\",\"SENTENCE\"])\n",
    "                    for line in fcontent:\n",
    "                        line = line.split(\"|\")\n",
    "                        if len(line) > 1:\n",
    "                            converter.writerow([line[1]])\n",
    "                        else:\n",
    "                            pass\n",
    "            else:\n",
    "                pass"
   ]
  },
  {
   "cell_type": "code",
   "execution_count": 5,
   "metadata": {},
   "outputs": [],
   "source": [
    "path = r\"C:\\Users\\ani\\Desktop\\Course data Thesis\\PROCESSED\\Data for Crowdsourcing - UNLABELED\"\n",
    "### concatenate files into one         \n",
    "                    \n",
    "from glob import glob\n",
    "\n",
    "with open(path+'\\singleDataFile.csv','a',encoding = \"utf-8\") as singleFile:\n",
    "    for root, subdirs, files in os.walk(path):\n",
    "        for curFile in os.listdir(root):\n",
    "            curFilePath = os.path.join(root, curFile)\n",
    "            if os.path.isdir(curFilePath):\n",
    "                pass\n",
    "            else:\n",
    "                if curFilePath.endswith(\".csv\"):\n",
    "                    with open(curFilePath, 'r', encoding = \"ISO-8859-1\") as iFile:\n",
    "#                        next(iFile)\n",
    "                        for line in iFile:\n",
    "                            if len(line) == 1:\n",
    "                                pass\n",
    "                            else:\n",
    "                                #print(line)\n",
    "                                singleFile.write(line)\n",
    "                else:\n",
    "                    pass"
   ]
  }
 ],
 "metadata": {
  "kernelspec": {
   "display_name": "Python 3",
   "language": "python",
   "name": "python3"
  },
  "language_info": {
   "codemirror_mode": {
    "name": "ipython",
    "version": 3
   },
   "file_extension": ".py",
   "mimetype": "text/x-python",
   "name": "python",
   "nbconvert_exporter": "python",
   "pygments_lexer": "ipython3",
   "version": "3.6.4"
  }
 },
 "nbformat": 4,
 "nbformat_minor": 2
}
