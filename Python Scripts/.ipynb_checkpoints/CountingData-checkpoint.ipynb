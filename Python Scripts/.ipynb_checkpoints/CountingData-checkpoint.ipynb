{
 "cells": [
  {
   "cell_type": "markdown",
   "metadata": {},
   "source": [
    "Data is pre-processed in Java by splitting it into sentences, each on a new line, and lowering the case of all files. New files are saved as TXT with \"\\_SENTbySENT\" added at the end of the file name"
   ]
  },
  {
   "cell_type": "code",
   "execution_count": 1,
   "metadata": {},
   "outputs": [],
   "source": [
    "# Import all necesssry modules\n",
    "import os, sys, os.path\n",
    "from stat import *\n",
    "import errno\n",
    "import glob\n",
    "import csv\n",
    "import re\n",
    "import shutil\n",
    "import csv"
   ]
  },
  {
   "cell_type": "markdown",
   "metadata": {},
   "source": [
    "## Count collected data files "
   ]
  },
  {
   "cell_type": "code",
   "execution_count": 2,
   "metadata": {
    "scrolled": true
   },
   "outputs": [
    {
     "name": "stdout",
     "output_type": "stream",
     "text": [
      "All files:  113\n"
     ]
    },
    {
     "ename": "NameError",
     "evalue": "name 'root' is not defined",
     "output_type": "error",
     "traceback": [
      "\u001b[1;31m---------------------------------------------------------------------------\u001b[0m",
      "\u001b[1;31mNameError\u001b[0m                                 Traceback (most recent call last)",
      "\u001b[1;32m<ipython-input-2-8aefd72ca039>\u001b[0m in \u001b[0;36m<module>\u001b[1;34m()\u001b[0m\n\u001b[0;32m     33\u001b[0m \"\"\"\n\u001b[0;32m     34\u001b[0m \u001b[1;33m\u001b[0m\u001b[0m\n\u001b[1;32m---> 35\u001b[1;33m \u001b[0mprint\u001b[0m\u001b[1;33m(\u001b[0m\u001b[1;34m\"TXT files: \"\u001b[0m\u001b[1;33m,\u001b[0m \u001b[0mfileCounter\u001b[0m\u001b[1;33m(\u001b[0m\u001b[0mroot\u001b[0m\u001b[1;33m)\u001b[0m\u001b[1;33m)\u001b[0m\u001b[1;33m\u001b[0m\u001b[0m\n\u001b[0m",
      "\u001b[1;31mNameError\u001b[0m: name 'root' is not defined"
     ]
    }
   ],
   "source": [
    "#path = r\"C:\\Users\\ani\\Desktop\\Course data Thesis\\PROCESSED\\all coures to select from\"   # home laptop\n",
    "path = r\"C:\\Users\\a.dimitrova\\Desktop\\Course data Thesis\\PROCESSED\\Selected files TRAIN\"   # toshiba laptop\n",
    "#import os\n",
    "import os.path\n",
    "\n",
    "allFiles = sum([len(files) for r, d, files in os.walk(path)])\n",
    "\n",
    "print(\"All files: \", allFiles)\n",
    "\n",
    "# ---------------\n",
    "def fileCounter(folder):    \n",
    "    count = 0\n",
    "    \n",
    "    for filename in os.listdir(folder):\n",
    "        path = os.path.join(folder, filename)\n",
    "        \n",
    "        if os.path.isfile(path):\n",
    "            if os.path.isfile(path):\n",
    "                name = os.path.basename(path)\n",
    "                if name.endswith('.txt'):\n",
    "                    count += 1\n",
    "        elif os.path.isdir(path):\n",
    "            count += fileCounter(path)\n",
    "            \n",
    "    return count\n",
    "# ---------------\n",
    "\n",
    "\"\"\"\n",
    "TXT files:  563\n",
    "SRT files:  568\n",
    "RTF files:  562\n",
    "All Files:  1693\n",
    "\"\"\"\n",
    "\n",
    "print(\"TXT files: \", fileCounter(root))"
   ]
  },
  {
   "cell_type": "markdown",
   "metadata": {
    "heading_collapsed": true
   },
   "source": [
    "## List files in directories"
   ]
  },
  {
   "cell_type": "code",
   "execution_count": null,
   "metadata": {
    "hidden": true
   },
   "outputs": [],
   "source": [
    "#files = glob.glob(root)\n",
    "\n",
    "def traverseDir(rootIn):\n",
    "# traverse root directory, and list directories as dirs and files as files\n",
    "    for rootIn, dirs, files in os.walk(\".\"):\n",
    "        path = rootIn.split(os.sep)\n",
    "        print((len(path) - 1) * '---', os.path.basename(root))\n",
    "        for file in files:\n",
    "            print(len(path) * '---', file)\n",
    "            \n",
    "traverseDir(root)"
   ]
  },
  {
   "cell_type": "markdown",
   "metadata": {},
   "source": [
    "## Count all sentences in all files"
   ]
  },
  {
   "cell_type": "markdown",
   "metadata": {},
   "source": [
    "### Sentence and labels count + printing labeled sentences\n",
    "\n",
    "## --STATS--"
   ]
  },
  {
   "cell_type": "code",
   "execution_count": 53,
   "metadata": {},
   "outputs": [
    {
     "name": "stdout",
     "output_type": "stream",
     "text": [
      "____________________________________________\n",
      "|CD     |CM    |SM    |AP    |EX    |NL    | \n",
      "|6621   |304   |570   |318   |566   |0   | \n",
      "|78.99% |3.63% |6.80% |3.79% |6.75% |0.00% |\n",
      "¯¯¯¯¯¯¯¯¯¯¯¯¯¯¯¯¯¯¯¯¯¯¯¯¯¯¯¯¯¯¯¯¯¯¯¯¯¯¯¯¯¯¯¯\n",
      "_____________________________________________\n",
      "| FILES: 111 |\n",
      "| SENTENCES_АLL: 8960 | SENTENCES_REL: 8382 |\n",
      "| LABELED SENT: 8958 | UNLABELED SENT: 2 |\n",
      "¯¯¯¯¯¯¯¯¯¯¯¯¯¯¯¯¯¯¯¯¯¯¯¯¯¯¯¯¯¯¯¯¯¯¯¯¯¯¯¯¯¯¯¯¯\n",
      "____________________________________\n",
      "|CD     |CM    |SM    |AP    |EX    | \n",
      "|6621   |304   |570   |318   |566   | \n",
      "|78.99% |3.63% |6.80% |3.79% |6.75% |\n",
      "¯¯¯¯¯¯¯¯¯¯¯¯¯¯¯¯¯¯¯¯¯¯¯¯¯¯¯¯¯¯¯¯¯¯¯¯\n",
      "___________________________________________________________________________________________\n",
      "\n",
      "-------PRINTING the first 5 <<CM>> TUPLES------\n",
      "\n",
      "('CM', 'this is the average speed of the ball ')\n",
      "('CM', \"speed is how far you've traveled over how long it took you so if i divide these this is the speed of the ball the average speed of the ball between point four and point five seconds and this works out to be NUMBER centimeters per second i mean i'm dividing by this very nice number point one \")\n",
      "('CM', 'music here is a classic related rates problem ')\n",
      "('CM', 'this sort of object is called a differential ')\n",
      "('CM', \"it's called a differential \")\n"
     ]
    }
   ],
   "source": [
    "#path = r\"C:\\Users\\ani\\Desktop\\Course data Thesis\\PROCESSED\\all coures to select from\"   #THE REST OF THE DATA\n",
    "#path = r\"C:\\Users\\ani\\Desktop\\Course data Thesis\\PROCESSED\\Selected files TRAIN\"    #TRAIN / TEST\n",
    "#path = r\"C:\\Users\\ani\\Desktop\\Course data Thesis\\PROCESSED\\Selected files TRAIN\"   # toshiba laptop\n",
    "path = r\"C:\\Users\\ani\\Desktop\\Course data Thesis\\Intent Mining ALL files\"\n",
    "\n",
    "fileExtention = \"_labels.txt\"\n",
    "\n",
    "\"\"\"\n",
    "TRAIN:     <<< FILES: 111 | SENTENCES: 8835 | FOLDERS: 10 | TUPLES: 8724 >>>\n",
    "THE REST:  <<< FILES: 556 | SENTENCES: 38482 | FOLDERS: 320 | TUPLES: 9 >>>\n",
    "\"\"\"\n",
    "\n",
    "sentCounter = 0\n",
    "finalSentCounter = 0  # to be used for sentences WITHOUT counting the NL ones\n",
    "fileCounter = 0\n",
    "folderCounter = 0\n",
    "allTuples = []   # holds tuples with LABEL | SENTENCE for all valid labelled sentences while the rest is removed, so this is\n",
    "# more accurate metric for totalsentence number AND IGNORES THE NL sentences\n",
    "unlabeledSent = 0\n",
    "unlabeledFiles = 0\n",
    "\n",
    "curFilePath = \"\"\n",
    "\n",
    "for root, subdirs, files in os.walk(path):\n",
    "\n",
    "    for curFile in os.listdir(root):\n",
    "\n",
    "        curFilePath = os.path.join(root, curFile)\n",
    "\n",
    "        if os.path.isdir(curFilePath):\n",
    "            folderCounter += 1\n",
    "            pass\n",
    "\n",
    "        elif curFilePath.endswith(fileExtention):\n",
    "            try:\n",
    "                fileCounter += 1\n",
    "                curFile = open(curFilePath, 'r', encoding = \"ISO-8859-1\") #IMPORTANT ENCODING! UTF8 DOESN'T WORK\n",
    "\n",
    "                fcontent = curFile.read().split(\"\\n\")\n",
    "                \n",
    "                for sent in fcontent:\n",
    "                    if sent == \"[music].\" or sent == \"[music]\":\n",
    "                        pass\n",
    "                    else:\n",
    "                        sentParts = sent.split(\"|\")\n",
    "                        if len(sentParts) == 1:\n",
    "                            #PASS if sentence has no label or is an empty line\n",
    "                            pass\n",
    "                        else: \n",
    "                            sentTuple = (sentParts[0],sentParts[1])\n",
    "                            if sentParts[0] != \"NL\":\n",
    "                                allTuples.append(sentTuple)\n",
    "                            if sentTuple[0] == '':\n",
    "                                #Add to unlabeledSent if sentence has no label, but is split in 2\n",
    "                                unlabeledSent += 1\n",
    "                            \n",
    "                        #print(sentParts[0],\"<<>>\",sentParts[1])\n",
    "                        sentCounter += 1\n",
    "                        \n",
    "            except FileNotFoundError as e:\n",
    "                print(\"SKIPPING [{}]: {}\".format(e.strerror,curFile))\n",
    "                pass\n",
    "            \n",
    "        else:\n",
    "            pass\n",
    "\n",
    "        \n",
    "finalSentCounter = sentCounter - NLtuples   #without considering the NL tuples\n",
    "        \n",
    "       \n",
    "# count sentences labeled with specific label\n",
    "CDtuples = 0\n",
    "CMtuples = 0\n",
    "SMtuples = 0\n",
    "APtuples = 0\n",
    "EXtuples = 0\n",
    "NLtuples = 0\n",
    "wrongTuples = 0\n",
    "\n",
    "labels = ['CD','CM','SM','AP','EX','NL']\n",
    "\n",
    "for tup in allTuples:\n",
    "    if \"CD\" in tup: CDtuples += 1\n",
    "    if \"CM\" in tup: CMtuples += 1\n",
    "    if \"SM\" in tup: SMtuples += 1\n",
    "    if \"AP\" in tup: APtuples += 1\n",
    "    if \"EX\" in tup: EXtuples += 1\n",
    "    if \"NL\" in tup: NLtuples += 1     \n",
    "        \n",
    "percentCD = (CDtuples / len(allTuples)) * 100\n",
    "percentCM = (CMtuples / len(allTuples)) * 100\n",
    "percentAP = (APtuples / len(allTuples)) * 100\n",
    "percentEX = (EXtuples / len(allTuples)) * 100\n",
    "percentSM = (SMtuples / len(allTuples)) * 100\n",
    "#percentNL = (NLtuples / len(allTuples-NLtuples)) * 100\n",
    "\n",
    "print(\"____________________________________________\")\n",
    "print(\"|CD     |CM    |SM    |AP    |EX    |NL    | \\n|{}   |{}   |{}   |{}   |{}   |{}   | \".format(CDtuples,CMtuples,SMtuples,APtuples,EXtuples,NLtuples))\n",
    "print(\"|{0:.2f}% |{1:.2f}% |{2:.2f}% |{3:.2f}% |{4:.2f}% |{5:.2f}% |\".format(percentCD,percentCM,percentSM,percentAP,percentEX,percentNL))\n",
    "print(\"¯¯¯¯¯¯¯¯¯¯¯¯¯¯¯¯¯¯¯¯¯¯¯¯¯¯¯¯¯¯¯¯¯¯¯¯¯¯¯¯¯¯¯¯\")\n",
    "\n",
    "print(\"_____________________________________________\")\n",
    "print(\"| FILES: {} |\\n| SENTENCES_АLL: {} | SENTENCES_REL: {} |\".format(fileCounter, finalSentCounter, len(allTuples)))\n",
    "print(\"| LABELED SENT: {} | UNLABELED SENT: {} |\".format((finalSentCounter - unlabeledSent),unlabeledSent))\n",
    "print(\"¯¯¯¯¯¯¯¯¯¯¯¯¯¯¯¯¯¯¯¯¯¯¯¯¯¯¯¯¯¯¯¯¯¯¯¯¯¯¯¯¯¯¯¯¯\")\n",
    "\n",
    "print(\"____________________________________\")\n",
    "print(\"|CD     |CM    |SM    |AP    |EX    | \\n|{}   |{}   |{}   |{}   |{}   | \".format(CDtuples,CMtuples,SMtuples,APtuples,EXtuples))\n",
    "print(\"|{0:.2f}% |{1:.2f}% |{2:.2f}% |{3:.2f}% |{4:.2f}% |\".format(percentCD,percentCM,percentSM,percentAP,percentEX))\n",
    "print(\"¯¯¯¯¯¯¯¯¯¯¯¯¯¯¯¯¯¯¯¯¯¯¯¯¯¯¯¯¯¯¯¯¯¯¯¯\")\n",
    "\n",
    "\n",
    "\n",
    "################## DISPLAY DATA FOR SPECIFIC LABEL #############\n",
    "tupType = \"cm\".upper()    #convert to Upper case otherwise it shows no res\n",
    "num = 0\n",
    "displayNum = 5\n",
    "\n",
    "print(\"___________________________________________________________________________________________\")\n",
    "print(\"\\n-------PRINTING the first {} <<{}>> TUPLES------\\n\".format(displayNum,tupType))\n",
    "for tup in allTuples:\n",
    "    if tupType in tup: \n",
    "        if num < displayNum: \n",
    "            print(tup)\n",
    "            num += 1"
   ]
  },
  {
   "cell_type": "markdown",
   "metadata": {
    "heading_collapsed": true
   },
   "source": [
    "### Select every 5th file for labeling\n",
    "\n",
    "#### Collecting files for TRAIN dataset which, on its end will be split around [70% : 30%] for Train and Test data once labeled"
   ]
  },
  {
   "cell_type": "code",
   "execution_count": null,
   "metadata": {
    "hidden": true
   },
   "outputs": [],
   "source": [
    "path = r\"C:\\Users\\ani\\Desktop\\Course data Thesis\\PROCESSED\\all coures to select from\"\n",
    "\n",
    "fileCounter = 0\n",
    "\n",
    "for root, subdirs, files in os.walk(path):\n",
    "\n",
    "    for curFile in os.listdir(root):\n",
    "\n",
    "        curFilePath = os.path.join(root, curFile)\n",
    "\n",
    "        if os.path.isdir(curFilePath):\n",
    "            pass\n",
    "\n",
    "        else:\n",
    "            fileCounter += 1\n",
    "            # get every 5th file among the 556 files, so that I have approx. equal ratio based on the files in each course\n",
    "            if fileCounter % 5 == 0 or fileCounter == 1:  \n",
    "                newDestinationRoot = r\"C:\\Users\\ani\\Desktop\\Course data Thesis\\PROCESSED\\Selected files TRAIN\"\n",
    "                curFile = open(curFilePath, 'r', encoding = \"ISO-8859-1\") #IMPORTANT ENCODING! UTF8 DOESN'T WORK\n",
    "\n",
    "                #print(\"File {} | {} \".format(fileCounter, curFile.name))\n",
    "                \n",
    "                # split the original path to parts and take the course folder name\n",
    "                # combine it with the file name and put all files in a single course folder\n",
    "                fileParts = curFile.name.split(\"\\\\\")\n",
    "                newLocation = newDestinationRoot+'\\\\'+fileParts[7]+'\\\\'+fileParts[-1]\n",
    "                \n",
    "                # get the path of the new directory to check if it exists\n",
    "                directory = newDestinationRoot+\"\\\\\"+fileParts[7]\n",
    "                print(directory)\n",
    "                \n",
    "                # if the dir doesn't exist, create it\n",
    "                if not os.path.exists(directory):\n",
    "                    os.makedirs(directory)\n",
    "                    \n",
    "                # close file otherwise throws an err\n",
    "                curFile.close()                \n",
    "                \n",
    "                # copy the files\n",
    "                #print(\"COPYING FILE #{}.. \\nSOURCE:\\t\\t {}\\nDESTINATION:\\t {} \\n\".format(fileCounter,curFile.name,newLocation))\n",
    "                ##### UNCOMMENT TO COPY FILES ##### \n",
    "                #shutil.copy(curFile.name, newLocation)\n",
    "                \n",
    "\n",
    "#print(\"\\n<<< FILES: {} | SENTENCES: {} | FOLDERS: {} >>>\".format(fileCounter, sentCounter, folderCounter))"
   ]
  },
  {
   "cell_type": "markdown",
   "metadata": {
    "heading_collapsed": true
   },
   "source": [
    "### Check for empty files"
   ]
  },
  {
   "cell_type": "code",
   "execution_count": null,
   "metadata": {
    "hidden": true
   },
   "outputs": [],
   "source": [
    "path = r\"C:\\Users\\ani\\Desktop\\Course data Thesis\\PROCESSED\\Data for Crowdsourcing - UNLABELED\"\n",
    "\n",
    "fileCounter = 0\n",
    "\n",
    "for root, subdirs, files in os.walk(path):\n",
    "\n",
    "    for curFile in os.listdir(root):\n",
    "\n",
    "        curFilePath = os.path.join(root, curFile)\n",
    "\n",
    "        if os.path.isdir(curFilePath):\n",
    "            pass\n",
    "\n",
    "        else:\n",
    "            \n",
    "            curFile = open(curFilePath, 'r', encoding = \"ISO-8859-1\") #IMPORTANT ENCODING! UTF8 DOESN'T WORK\n",
    "\n",
    "            lineCount = 0\n",
    "            \n",
    "            for line in curFile.read().split(\"\\n\"):\n",
    "                lineCount += 1\n",
    "                \n",
    "            if lineCount < 2:\n",
    "                print(\"Empty file: \", os.path.basename(curFilePath))\n",
    "            \n",
    "            curFile.close()                "
   ]
  },
  {
   "cell_type": "markdown",
   "metadata": {
    "heading_collapsed": true
   },
   "source": [
    "### Splitting into HITS of 5 files each"
   ]
  },
  {
   "cell_type": "code",
   "execution_count": null,
   "metadata": {
    "hidden": true
   },
   "outputs": [],
   "source": [
    "path = r\"C:\\Users\\ani\\Desktop\\Course data Thesis\\PROCESSED\\all coures to select from\"\n",
    "\n",
    "fileCounter = 0\n",
    "foldIndex = 0\n",
    "\n",
    "#folders = list(filter(lambda x: x%5 == 0, range[0:112])\n",
    "folderNum = range(1, range[0:112]+1)\n",
    "\n",
    "for root, subdirs, files in os.walk(path):\n",
    "\n",
    "    for curFile in os.listdir(root):\n",
    "\n",
    "        curFilePath = os.path.join(root, curFile)\n",
    "\n",
    "        if os.path.isdir(curFilePath):\n",
    "            pass\n",
    "\n",
    "        else:\n",
    "            fileCounter += 1\n",
    "            newDestinationRoot = r\"C:\\Users\\ani\\Desktop\\Course data Thesis\\PROCESSED\\Data\\Hit\"\n",
    "            \n",
    "            if not fileCounter % 5 == 0:  \n",
    "                print(newDestinationRoot)\n",
    "            elif fileCounter % 5 == 0: \n",
    "                newDestinationRoot = newDestinationRoot + folderNum(foldIndex)\n",
    "                if not folderNum == len(folderNum)+1:\n",
    "                    foldIndex += 1\n",
    "                    print(newDestinationRoot)\n",
    "\n",
    "            curFile = open(curFilePath, 'r', encoding = \"ISO-8859-1\") #IMPORTANT ENCODING! UTF8 DOESN'T WORK\n",
    "                \n",
    "            # split the original path to parts and take the course folder name\n",
    "            # combine it with the file name and put all files in a single course folder\n",
    "            newLocation = newDestinationRoot\n",
    "            print(newLocation)\n",
    "            \n",
    "            # if the dir doesn't exist, create it\n",
    "            if not os.path.exists(newDestinationRoot):\n",
    "                os.makedirs(newDestinationRoot)\n",
    "\n",
    "            # close file otherwise throws an err\n",
    "            curFile.close()                \n",
    "\n",
    "            # copy the files\n",
    "            #print(\"COPYING FILE #{}.. \\nSOURCE:\\t\\t {}\\nDESTINATION:\\t {} \\n\".format(fileCounter,curFile.name,newLocation))\n",
    "            ##### UNCOMMENT TO COPY FILES ##### \n",
    "            #shutil.copy(curFile.name, newLocation)\n",
    "                \n",
    "\n",
    "#print(\"\\n<<< FILES: {} | SENTENCES: {} | FOLDERS: {} >>>\".format(fileCounter, sentCounter, folderCounter))"
   ]
  },
  {
   "cell_type": "markdown",
   "metadata": {},
   "source": [
    "## Convert all files to CSV"
   ]
  },
  {
   "cell_type": "code",
   "execution_count": 8,
   "metadata": {},
   "outputs": [],
   "source": [
    "path = r\"C:\\Users\\ani\\Desktop\\Course data Thesis\\PROCESSED\\Data for Crowdsourcing - UNLABELED\"\n",
    "\n",
    "data = []\n",
    "\n",
    "### go over the files and convert them to CSV   \n",
    "\n",
    "for root, subdirs, files in os.walk(path):\n",
    "\n",
    "    for curFile in os.listdir(root):\n",
    "\n",
    "        curFilePath = os.path.join(root, curFile)\n",
    "\n",
    "        if os.path.isdir(curFilePath):\n",
    "            pass\n",
    "\n",
    "        else:\n",
    "            if curFilePath.endswith(\".txt\"):\n",
    "                curFile = open(curFilePath, 'r', encoding = \"ISO-8859-1\") #IMPORTANT ENCODING! UTF8 DOESN'T WORK\n",
    "                fileExtRemoved = os.path.splitext(os.path.abspath(curFilePath))[0]\n",
    "                #print(fileExtRemoved)\n",
    "                fcontent = curFile.read().split(\"\\n\")\n",
    "\n",
    "                with open(fileExtRemoved+'.csv', 'w') as OutpCSV:\n",
    "                    converter = csv.writer(OutpCSV, delimiter=',')\n",
    "                    #converter.writerow([\"---\",\"-----\"])\n",
    "                    #converter.writerow([\"LABEL\",\"SENTENCE\"])\n",
    "                    for line in fcontent:\n",
    "                        line = line.split(\"|\")\n",
    "                        if len(line) > 1:\n",
    "                            converter.writerow([\" \",line[1]])\n",
    "                        else:\n",
    "                            pass\n",
    "            else:\n",
    "                pass"
   ]
  },
  {
   "cell_type": "code",
   "execution_count": 9,
   "metadata": {
    "scrolled": true
   },
   "outputs": [
    {
     "ename": "KeyboardInterrupt",
     "evalue": "",
     "output_type": "error",
     "traceback": [
      "\u001b[1;31m---------------------------------------------------------------------------\u001b[0m",
      "\u001b[1;31mKeyboardInterrupt\u001b[0m                         Traceback (most recent call last)",
      "\u001b[1;32m<ipython-input-9-bb5b8226b350>\u001b[0m in \u001b[0;36m<module>\u001b[1;34m()\u001b[0m\n\u001b[0;32m     19\u001b[0m                             \u001b[1;32melse\u001b[0m\u001b[1;33m:\u001b[0m\u001b[1;33m\u001b[0m\u001b[0m\n\u001b[0;32m     20\u001b[0m                                 \u001b[1;31m#print(line)\u001b[0m\u001b[1;33m\u001b[0m\u001b[1;33m\u001b[0m\u001b[0m\n\u001b[1;32m---> 21\u001b[1;33m                                 \u001b[0msingleFile\u001b[0m\u001b[1;33m.\u001b[0m\u001b[0mwrite\u001b[0m\u001b[1;33m(\u001b[0m\u001b[0mline\u001b[0m\u001b[1;33m)\u001b[0m\u001b[1;33m\u001b[0m\u001b[0m\n\u001b[0m\u001b[0;32m     22\u001b[0m                 \u001b[1;32melse\u001b[0m\u001b[1;33m:\u001b[0m\u001b[1;33m\u001b[0m\u001b[0m\n\u001b[0;32m     23\u001b[0m                     \u001b[1;32mpass\u001b[0m\u001b[1;33m\u001b[0m\u001b[0m\n",
      "\u001b[1;31mKeyboardInterrupt\u001b[0m: "
     ]
    }
   ],
   "source": [
    "path = r\"C:\\Users\\ani\\Desktop\\Course data Thesis\\PROCESSED\\Data for Crowdsourcing - UNLABELED\"\n",
    "### concatenate files into one         \n",
    "                    \n",
    "from glob import glob\n",
    "\n",
    "with open(path+'\\singleDataFile2.csv','a',encoding = \"utf-8\") as singleFile:\n",
    "    for root, subdirs, files in os.walk(path):\n",
    "        for curFile in os.listdir(root):\n",
    "            curFilePath = os.path.join(root, curFile)\n",
    "            if os.path.isdir(curFilePath):\n",
    "                pass\n",
    "            else:\n",
    "                if curFilePath.endswith(\".csv\"):\n",
    "                    with open(curFilePath, 'r', encoding = \"ISO-8859-1\") as iFile:\n",
    "                        next(iFile)\n",
    "                        for line in iFile:\n",
    "                            if len(line) == 1:\n",
    "                                pass\n",
    "                            else:\n",
    "                                #print(line)\n",
    "                                singleFile.write(line)\n",
    "                else:\n",
    "                    pass"
   ]
  },
  {
   "cell_type": "code",
   "execution_count": 4,
   "metadata": {},
   "outputs": [],
   "source": [
    "path = r\"C:\\Users\\ani\\Desktop\\Course data Thesis\\Intent Mining ALL files\"\n",
    "\n",
    "data = []\n",
    "\n",
    "### go over the files and convert them to CSV   \n",
    "\n",
    "text = \"\"\n",
    "\n",
    "with open(r\"C:\\Users\\ani\\Desktop\\Course data Thesis\\INTENT MINING\\allMergedLabeled.txt\", \"w\", encoding = \"utf-8\") as oFile:\n",
    "    for root, subdirs, files in os.walk(path):\n",
    "\n",
    "        for curFile in os.listdir(root):\n",
    "\n",
    "            curFilePath = os.path.join(root, curFile)\n",
    "\n",
    "            if os.path.isdir(curFilePath):\n",
    "                pass\n",
    "\n",
    "            else:\n",
    "                if curFilePath.endswith(\".txt\"):\n",
    "                    if not curFilePath.endswith(\"_AutoRuleLabels.txt\"):\n",
    "                        continue\n",
    "                    else:\n",
    "                        iFile = open(curFilePath, 'r', encoding = \"ISO-8859-1\")\n",
    "                        sentList = iFile.read().split('\\n')\n",
    "\n",
    "                        for sent in sentList:\n",
    "                            if len(sent) > 0:\n",
    "                                oFile.write(sent+\"\\n\")\n",
    "                            else:\n",
    "                                continue\n",
    "                else:\n",
    "                    continue\n",
    "\n",
    "#with open(r'C:\\Users\\ani\\Desktop\\Course data Thesis\\Intent Mining ALL files\\allMerged.txt', 'w') as oFile:\n",
    "    \n",
    "textsent = text.split(\"\\n\")"
   ]
  }
 ],
 "metadata": {
  "kernelspec": {
   "display_name": "Python 3",
   "language": "python",
   "name": "python3"
  },
  "language_info": {
   "codemirror_mode": {
    "name": "ipython",
    "version": 3
   },
   "file_extension": ".py",
   "mimetype": "text/x-python",
   "name": "python",
   "nbconvert_exporter": "python",
   "pygments_lexer": "ipython3",
   "version": "3.6.4"
  }
 },
 "nbformat": 4,
 "nbformat_minor": 2
}
