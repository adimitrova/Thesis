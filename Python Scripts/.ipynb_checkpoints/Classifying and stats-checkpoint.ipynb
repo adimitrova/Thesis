{
 "cells": [
  {
   "cell_type": "markdown",
   "metadata": {},
   "source": [
    "https://radimrehurek.com/data_science_python/"
   ]
  },
  {
   "cell_type": "markdown",
   "metadata": {},
   "source": [
    "#### Import modules"
   ]
  },
  {
   "cell_type": "code",
   "execution_count": 193,
   "metadata": {},
   "outputs": [],
   "source": [
    "from textblob.classifiers import NaiveBayesClassifier\n",
    "from textblob import TextBlob\n",
    "import random\n",
    "import time\n",
    "import os\n",
    "import sys\n",
    "import os.path\n",
    "import string\n",
    "\n",
    "# ---- for TF-IDF & NLTK\n",
    "import math\n",
    "from textblob import TextBlob as tb\n",
    "import nltk\n",
    "from nltk.corpus import wordnet as wn\n",
    "from nltk import word_tokenize, sent_tokenize\n",
    "from nltk.corpus import stopwords\n",
    "from nltk.stem import LancasterStemmer\n",
    "from nltk.stem import WordNetLemmatizer\n",
    "from nltk import pos_tag\n",
    "from pathlib import Path\n",
    "from beautifultable import BeautifulTable\n",
    "\n",
    "import re, string, unicodedata\n",
    "import contractions\n",
    "import inflect\n",
    "from bs4 import BeautifulSoup\n",
    "from tabulate import tabulate\n",
    "\n",
    "allRunsAccuracy = []\n",
    "\n",
    "import matplotlib.pyplot as plt\n",
    "import csv\n",
    "from textblob import TextBlob\n",
    "import pandas\n",
    "import sklearn\n",
    "import numpy as np\n",
    "import metrics\n",
    "from sklearn.feature_extraction.text import CountVectorizer, TfidfTransformer\n",
    "from sklearn.naive_bayes import MultinomialNB\n",
    "from sklearn.svm import SVC, LinearSVC\n",
    "from sklearn.metrics import classification_report, f1_score, accuracy_score, confusion_matrix\n",
    "from sklearn.pipeline import Pipeline\n",
    "from sklearn.grid_search import GridSearchCV\n",
    "from sklearn.cross_validation import StratifiedKFold, cross_val_score, train_test_split \n",
    "from sklearn.tree import DecisionTreeClassifier \n",
    "from sklearn.learning_curve import learning_curve"
   ]
  },
  {
   "cell_type": "markdown",
   "metadata": {},
   "source": [
    "#### The rest"
   ]
  },
  {
   "cell_type": "markdown",
   "metadata": {},
   "source": [
    "#### First, randomize the dataset by getting 200 out of the 250 values per class which is equal to 1/5th of the dataset, every time it is different so we can output different results and get average performance values"
   ]
  },
  {
   "cell_type": "code",
   "execution_count": 194,
   "metadata": {},
   "outputs": [
    {
     "name": "stdout",
     "output_type": "stream",
     "text": [
      "1250\n",
      "249\n",
      "201 \t 197 \t 201 \t 201 \t 201\n"
     ]
    }
   ],
   "source": [
    "file = open(r\"C:\\Users\\ani\\Dropbox\\Stuff\\university\\data\\250PerClass.txt\", 'r', encoding = \"ISO-8859-1\")\n",
    "sentences = file.read().split('\\n')\n",
    "\n",
    "CD,CM,AP,SM,EX = 0,0,0,0,0\n",
    "print(len(sentences))\n",
    "\n",
    "with open(r\"C:\\Users\\ani\\Dropbox\\Stuff\\university\\data\\200RandomPerClass.csv\", 'w', encoding = \"ISO-8859-1\") as oFile:\n",
    "    while len(sentences) >= 250:\n",
    "        curLine = random.choice(sentences)\n",
    "        curLineParts = curLine.split(\"|\")\n",
    "\n",
    "        if curLineParts[0] == \"CD\" and CD <= 200:\n",
    "            sentences.remove(curLine)\n",
    "            oFile.write(curLineParts[0]+\"|\"+curLineParts[1]+\"\\n\")\n",
    "            CD += 1\n",
    "        elif curLineParts[0] == \"CM\" and CM <= 200:\n",
    "            sentences.remove(curLine)\n",
    "            oFile.write(curLineParts[0]+\"|\"+curLineParts[1]+\"\\n\")\n",
    "            CM += 1\n",
    "        elif curLineParts[0] == \"AP\" and AP <= 200:\n",
    "            sentences.remove(curLine)\n",
    "            oFile.write(curLineParts[0]+\"|\"+curLineParts[1]+\"\\n\")\n",
    "            AP += 1\n",
    "        elif curLineParts[0] == \"SM\" and SM <= 200:\n",
    "            sentences.remove(curLine)\n",
    "            oFile.write(curLineParts[0]+\"|\"+curLineParts[1]+\"\\n\")\n",
    "            SM += 1\n",
    "        elif curLineParts[0] == \"EX\" and EX <= 200:\n",
    "            sentences.remove(curLine)\n",
    "            oFile.write(curLineParts[0]+\"|\"+curLineParts[1]+\"\\n\")\n",
    "            EX += 1\n",
    "                \n",
    "print(len(sentences))\n",
    "print(CD,\"\\t\",CM,\"\\t\",AP,\"\\t\",SM,\"\\t\",EX)"
   ]
  },
  {
   "cell_type": "markdown",
   "metadata": {},
   "source": [
    "#### Now off to the rest"
   ]
  },
  {
   "cell_type": "code",
   "execution_count": 195,
   "metadata": {},
   "outputs": [
    {
     "name": "stdout",
     "output_type": "stream",
     "text": [
      "  Label                                           Sentence\n",
      "0    CD  however if we only consider the first NUMBER s...\n",
      "1    EX  if i think about how far i traveled over a sho...\n",
      "2    CD  you know,the average speed here worked out to ...\n",
      "3    CD  that's when the ball was at the top of its tra...\n",
      "4    EX  you know,a calculus course and this course,int...\n",
      "5    CM  the first transform is translate,which is a ba...\n",
      "6    AP   we could also change the release and the attack \n",
      "7    EX  for example,what if i wanted to anti-different...\n",
      "8    EX                      but let's try it with shells \n",
      "9    SM                   time times velocity is distance \n"
     ]
    }
   ],
   "source": [
    "# ADD THE FILE THAT IS NOT PREPROCESSED YET\n",
    "prefix = r\"C:\\Users\\ani\"\n",
    "sentences = pandas.read_csv(prefix + r'\\Dropbox\\Stuff\\university\\data\\200RandomPerClass.csv', sep='|', quoting=csv.QUOTE_NONE,\n",
    "                           names=[\"Label\", \"Sentence\"], encoding = \"ISO-8859-1\")\n",
    "print(sentences[:10]) "
   ]
  },
  {
   "cell_type": "code",
   "execution_count": 196,
   "metadata": {},
   "outputs": [
    {
     "data": {
      "text/html": [
       "<div>\n",
       "<style scoped>\n",
       "    .dataframe tbody tr th:only-of-type {\n",
       "        vertical-align: middle;\n",
       "    }\n",
       "\n",
       "    .dataframe tbody tr th {\n",
       "        vertical-align: top;\n",
       "    }\n",
       "\n",
       "    .dataframe thead tr th {\n",
       "        text-align: left;\n",
       "    }\n",
       "\n",
       "    .dataframe thead tr:last-of-type th {\n",
       "        text-align: right;\n",
       "    }\n",
       "</style>\n",
       "<table border=\"1\" class=\"dataframe\">\n",
       "  <thead>\n",
       "    <tr>\n",
       "      <th></th>\n",
       "      <th colspan=\"4\" halign=\"left\">Sentence</th>\n",
       "    </tr>\n",
       "    <tr>\n",
       "      <th></th>\n",
       "      <th>count</th>\n",
       "      <th>unique</th>\n",
       "      <th>top</th>\n",
       "      <th>freq</th>\n",
       "    </tr>\n",
       "    <tr>\n",
       "      <th>Label</th>\n",
       "      <th></th>\n",
       "      <th></th>\n",
       "      <th></th>\n",
       "      <th></th>\n",
       "    </tr>\n",
       "  </thead>\n",
       "  <tbody>\n",
       "    <tr>\n",
       "      <th>AP</th>\n",
       "      <td>201</td>\n",
       "      <td>201</td>\n",
       "      <td>to answer this question,you should provide a d...</td>\n",
       "      <td>1</td>\n",
       "    </tr>\n",
       "    <tr>\n",
       "      <th>CD</th>\n",
       "      <td>201</td>\n",
       "      <td>200</td>\n",
       "      <td>and how far did the ball move during that time...</td>\n",
       "      <td>2</td>\n",
       "    </tr>\n",
       "    <tr>\n",
       "      <th>CM</th>\n",
       "      <td>197</td>\n",
       "      <td>197</td>\n",
       "      <td>so,this is not a good guard</td>\n",
       "      <td>1</td>\n",
       "    </tr>\n",
       "    <tr>\n",
       "      <th>EX</th>\n",
       "      <td>201</td>\n",
       "      <td>201</td>\n",
       "      <td>alright,i'm going to imagine cutting it up int...</td>\n",
       "      <td>1</td>\n",
       "    </tr>\n",
       "    <tr>\n",
       "      <th>SM</th>\n",
       "      <td>201</td>\n",
       "      <td>201</td>\n",
       "      <td>explain how it works</td>\n",
       "      <td>1</td>\n",
       "    </tr>\n",
       "  </tbody>\n",
       "</table>\n",
       "</div>"
      ],
      "text/plain": [
       "      Sentence                                                               \n",
       "         count unique                                                top freq\n",
       "Label                                                                        \n",
       "AP         201    201  to answer this question,you should provide a d...    1\n",
       "CD         201    200  and how far did the ball move during that time...    2\n",
       "CM         197    197                       so,this is not a good guard     1\n",
       "EX         201    201  alright,i'm going to imagine cutting it up int...    1\n",
       "SM         201    201                              explain how it works     1"
      ]
     },
     "execution_count": 196,
     "metadata": {},
     "output_type": "execute_result"
    }
   ],
   "source": [
    "sentences.groupby('Label').describe()"
   ]
  },
  {
   "cell_type": "code",
   "execution_count": 197,
   "metadata": {},
   "outputs": [
    {
     "name": "stdout",
     "output_type": "stream",
     "text": [
      "  Label                                           Sentence  length\n",
      "0    CD  however if we only consider the first NUMBER s...     244\n",
      "1    EX  if i think about how far i traveled over a sho...     130\n",
      "2    CD  you know,the average speed here worked out to ...     102\n",
      "3    CD  that's when the ball was at the top of its tra...      54\n",
      "4    EX  you know,a calculus course and this course,int...     159\n",
      "\n",
      "\n",
      "[]\n"
     ]
    },
    {
     "data": {
      "text/plain": [
       "Text(0,0.5,'Quantity')"
      ]
     },
     "execution_count": 197,
     "metadata": {},
     "output_type": "execute_result"
    },
    {
     "data": {
      "image/png": "[encoded data removed]",
      "text/plain": [
       "<matplotlib.figure.Figure at 0x233820eda20>"
      ]
     },
     "metadata": {},
     "output_type": "display_data"
    }
   ],
   "source": [
    "sentences['length'] = sentences['Sentence'].map(lambda text: len(text))\n",
    "print(sentences.head())\n",
    "\n",
    "sentences.length.plot(bins=20, kind='hist')\n",
    "\n",
    "print(\"\\n\")\n",
    "sentences.length.describe()\n",
    "print(list(sentences.Sentence[sentences.length > 500]))\n",
    "\n",
    "#sentences.hist(column='length', by='Label', bins='auto',figsize=(10, 15), color=\"c\")\n",
    "plt.xlabel('Length')\n",
    "plt.ylabel('Quantity')"
   ]
  },
  {
   "cell_type": "code",
   "execution_count": 198,
   "metadata": {},
   "outputs": [
    {
     "data": {
      "text/plain": [
       "0       [however, if, we, only, consider, the, first, ...\n",
       "1       [if, i, think, about, how, far, i, traveled, o...\n",
       "2       [you, know, the, average, speed, here, worked,...\n",
       "3       [that, 's, when, the, ball, was, at, the, top,...\n",
       "4       [you, know, a, calculus, course, and, this, co...\n",
       "5       [the, first, transform, is, translate, which, ...\n",
       "6       [we, could, also, change, the, release, and, t...\n",
       "7       [for, example, what, if, i, wanted, to, anti-d...\n",
       "8                   [but, let, 's, try, it, with, shells]\n",
       "9                   [time, times, velocity, is, distance]\n",
       "10      [also, the, system, should, always, be, protec...\n",
       "11      [in, light, of, the, difficulties, of, antidif...\n",
       "12      [and, in, that, case, OMITTED, OMITTED, is, OM...\n",
       "13      [most, software, packages, allow, export, and,...\n",
       "14      [and, in, a, sense, a, grid, or, concentric, c...\n",
       "15      [you, 'll, also, be, able, to, use, the, conte...\n",
       "16      [this, week, in, week, nine, we, 're, still, d...\n",
       "17      [what, happens, when, OMITTED, is, near, negat...\n",
       "18      [these, are, some, of, the, details, that, sho...\n",
       "19      [later, on, in, the, course, you, 'll, be, ser...\n",
       "20      [and, the, other, thing, you, want, to, see, i...\n",
       "21      [here, we, divide, power, consumption, into, t...\n",
       "22      [and, rigid-body, simulation, if, you, now, wa...\n",
       "23      [there, are, of, course, more, platforms, avai...\n",
       "24      [if, we, were, to, take, just, the, people, wh...\n",
       "25      [in, the, first, case, i, 'm, finding, the, an...\n",
       "26      [so, its, sound, is, made, up, of, lots, and, ...\n",
       "27      [in, other, words, from, the, picture, we, lea...\n",
       "28         [as, an, example, let, 's, take, this, region]\n",
       "29      [well, that, occurred, exactly, when, the, num...\n",
       "                              ...                        \n",
       "971                [how, will, you, back, up, your, data]\n",
       "972                   [but, what, does, that, even, mean]\n",
       "973      [and, this, function, is, called, the, residual]\n",
       "974               [our, next, topic, is, garment, design]\n",
       "975     [during, the, data, collection, phase, primary...\n",
       "976     [both, of, these, triangles, have, a, right, a...\n",
       "977                  [which, is, about, miles, per, hour]\n",
       "978         [if, you, have, n't, done, that, do, it, now]\n",
       "979     [regarding, the, protection, of, human, subjects]\n",
       "980     [as, i, 'm, doing, them, i, 'm, going, to, bri...\n",
       "981     [so, the, function, 's, going, down, and, then...\n",
       "982     [and, what, we, introduce, here, is, called, f...\n",
       "983     [music, you, 've, alreaOMITTED, seen, some, ex...\n",
       "984     [as, we, know, technology, is, not, always, a,...\n",
       "985     [you, also, need, to, describe, the, standards...\n",
       "986     [we, covered, a, lot, of, data, management, to...\n",
       "987     [so, in, the, first, week, we, talked, about, ...\n",
       "988                           [we, call, it, meta-design]\n",
       "989     [and, here, 's, some, change, in, x, which, i,...\n",
       "990     [now, that, we, have, that, let, 's, figure, o...\n",
       "991     [you, need, to, identify, the, owner, of, the,...\n",
       "992     [these, are, all, questions, that, the, resear...\n",
       "993     [quite, simply, you, need, to, identify, by, n...\n",
       "994     [but, you, 're, free, to, design, the, state, ...\n",
       "995     [we, should, n't, have, to, weigh, everyone, a...\n",
       "996     [however, system, does, not, understand, these...\n",
       "997     [a, bunch, of, concentric, circles, a, set, of...\n",
       "998     [in, a, mesh, topology, each, device, is, conn...\n",
       "999                       [i, talked, about, progression]\n",
       "1000    [how, does, good, data, development, add, valu...\n",
       "Name: Sentence, Length: 1001, dtype: object"
      ]
     },
     "execution_count": 198,
     "metadata": {},
     "output_type": "execute_result"
    }
   ],
   "source": [
    "#split a sent into its individual words\n",
    "def split_into_tokens(sent):\n",
    "    #sent = unicode(sent, 'utf8')  # convert bytes into proper unicode\n",
    "    return TextBlob(sent).words\n",
    "\n",
    "sentences.Sentence.apply(split_into_tokens)"
   ]
  },
  {
   "cell_type": "code",
   "execution_count": 199,
   "metadata": {},
   "outputs": [
    {
     "data": {
      "text/plain": [
       "0    [however, if, we, only, consider, the, first, ...\n",
       "1    [if, i, think, about, how, far, i, traveled, o...\n",
       "2    [you, know, the, average, speed, here, worked,...\n",
       "3    [that, 's, when, the, ball, wa, at, the, top, ...\n",
       "4    [you, know, a, calculus, course, and, this, co...\n",
       "Name: Sentence, dtype: object"
      ]
     },
     "execution_count": 199,
     "metadata": {},
     "output_type": "execute_result"
    }
   ],
   "source": [
    "# pre-processing\n",
    "def split_into_lemmas(sent):\n",
    "    words = TextBlob(sent).words\n",
    "    # for each word, take its \"base form\" = lemma \n",
    "    return [word.lemma for word in words]\n",
    "\n",
    "sentences.Sentence.head().apply(split_into_lemmas)"
   ]
  },
  {
   "cell_type": "code",
   "execution_count": 200,
   "metadata": {},
   "outputs": [
    {
     "name": "stdout",
     "output_type": "stream",
     "text": [
      "1966\n"
     ]
    }
   ],
   "source": [
    "# Data to vectors\n",
    "\n",
    "# convert each message, represented as a list of tokens (lemmas) above, \n",
    "# into a vector that machine learning models can understand\n",
    "\n",
    "bow_transformer = CountVectorizer(analyzer=split_into_lemmas).fit(sentences['Sentence'])\n",
    "print(len(bow_transformer.vocabulary_))"
   ]
  },
  {
   "cell_type": "code",
   "execution_count": 201,
   "metadata": {},
   "outputs": [
    {
     "name": "stdout",
     "output_type": "stream",
     "text": [
      "Nr of features:  1966\n",
      "Nr of features after cleaning:  1915\n"
     ]
    }
   ],
   "source": [
    "#message1000 = sentences['Sentence'][999]\n",
    "#print(message1000)\n",
    "#\n",
    "#bow1000 = bow_transformer.transform([message1000])\n",
    "#print(bow1000)\n",
    "#print(bow1000.shape)\n",
    "#print(\"OMITTED appears 3 times, i appears twice etc\")\n",
    "\n",
    "featureList = bow_transformer.get_feature_names()\n",
    "finalFeatureList = []\n",
    "\n",
    "def removeNumsFromFeatureList(featureList):\n",
    "    isNum = re.compile(\"[0-9]\")\n",
    "    hasApostrophe = re.compile(\"'\\w+\")\n",
    "        \n",
    "    for feat in featureList:\n",
    "        if isNum.match(feat): pass\n",
    "        elif hasApostrophe.match(feat): pass\n",
    "        elif \"OMITTED\" in feat.upper(): pass\n",
    "        elif \"NUMBER\" in feat.upper(): pass\n",
    "        elif (\"-\" or \"+\") in feat.upper(): pass\n",
    "        else: finalFeatureList.append(feat)\n",
    "\n",
    "print(\"Nr of features: \",len(featureList))\n",
    "removeNumsFromFeatureList(featureList)\n",
    "print(\"Nr of features after cleaning: \",len(finalFeatureList))\n",
    "\n",
    "#print(bow_transformer.get_feature_names()[5214])"
   ]
  },
  {
   "cell_type": "code",
   "execution_count": 202,
   "metadata": {
    "scrolled": true
   },
   "outputs": [
    {
     "name": "stdout",
     "output_type": "stream",
     "text": [
      "sparse matrix shape: (1001, 1966)\n",
      "number of non-zeros: 14683\n",
      "sparsity: 0.75%\n",
      "(1001, 1966)\n"
     ]
    }
   ],
   "source": [
    "sentences_bow = bow_transformer.transform(sentences['Sentence'])\n",
    "print('sparse matrix shape:', sentences_bow.shape)\n",
    "print('number of non-zeros:', sentences_bow.nnz)\n",
    "print('sparsity: %.2f%%' % (100.0 * sentences_bow.nnz / (sentences_bow.shape[0] * sentences_bow.shape[1])))\n",
    "\n",
    "#after the counting, the term weighting and normalization can be done with TF-IDF, using scikit-learn's TfidfTransformer\n",
    "tfidf_transformer = TfidfTransformer().fit(sentences_bow)\n",
    "#tfidf1000 = tfidf_transformer.transform(bow1000)\n",
    "#print(tfidf1451)\n",
    "\n",
    "# To transform the entire bag-of-words corpus into TF-IDF corpus at once:\n",
    "sentences_tfidf = tfidf_transformer.transform(sentences_bow)\n",
    "print(sentences_tfidf.shape)"
   ]
  },
  {
   "cell_type": "markdown",
   "metadata": {},
   "source": [
    "### RUN THE CLASSIFIER!"
   ]
  },
  {
   "cell_type": "code",
   "execution_count": 203,
   "metadata": {},
   "outputs": [
    {
     "name": "stdout",
     "output_type": "stream",
     "text": [
      "Wall time: 7.5 ms\n"
     ]
    }
   ],
   "source": [
    "# Using Multinomial Naive Bayes classifier\n",
    "%time label_classifier = MultinomialNB().fit(sentences_tfidf, sentences['Label'].fillna(\"\"))"
   ]
  },
  {
   "cell_type": "code",
   "execution_count": 204,
   "metadata": {},
   "outputs": [],
   "source": [
    "#print('Predicted:', label_classifier.predict(tfidf1000)[0])\n",
    "#print('Actual:', sentences.Label[999])"
   ]
  },
  {
   "cell_type": "code",
   "execution_count": 205,
   "metadata": {},
   "outputs": [
    {
     "name": "stdout",
     "output_type": "stream",
     "text": [
      "[[165  16   1   8  11]\n",
      " [  2 183   1  10   5]\n",
      " [ 10  14 151   9  13]\n",
      " [  7  18   0 172   4]\n",
      " [  3   8   3   9 178]]\n",
      "(row=Actual, col=Predicted)\n",
      "\n",
      "_______________Multinomial Naive Bayes________________\n",
      "\n",
      "             precision    recall  f1-score   support\n",
      "\n",
      "         AP       0.88      0.82      0.85       201\n",
      "         CD       0.77      0.91      0.83       201\n",
      "         CM       0.97      0.77      0.86       197\n",
      "         EX       0.83      0.86      0.84       201\n",
      "         SM       0.84      0.89      0.86       201\n",
      "\n",
      "avg / total       0.86      0.85      0.85      1001\n",
      "\n",
      "Accuracy:\t 0.85\n",
      "______________________________________________________\n",
      "\n"
     ]
    }
   ],
   "source": [
    "all_predictions = label_classifier.predict(sentences_tfidf)\n",
    "#print(all_predictions)\n",
    "\n",
    "ConfMatrix = confusion_matrix(sentences['Label'].fillna(\"\"), all_predictions)\n",
    "\n",
    "print(ConfMatrix)\n",
    "print('(row=Actual, col=Predicted)')\n",
    "\n",
    "print(\"\\n_______________Multinomial Naive Bayes________________\\n\")\n",
    "print(classification_report(sentences['Label'].fillna(\"\"), all_predictions))\n",
    "print('Accuracy:\\t {0:.2f}'.format(accuracy_score(sentences['Label'].fillna(\"\"), all_predictions)))\n",
    "print(\"______________________________________________________\\n\")"
   ]
  },
  {
   "cell_type": "code",
   "execution_count": 206,
   "metadata": {},
   "outputs": [
    {
     "data": {
      "image/png": "[encoded data removed]",
      "text/plain": [
       "<matplotlib.figure.Figure at 0x233820ed978>"
      ]
     },
     "metadata": {},
     "output_type": "display_data"
    }
   ],
   "source": [
    "import pandas_ml as pdml\n",
    "import sklearn.datasets as datasets\n",
    "from sklearn.metrics import confusion_matrix\n",
    "\n",
    "y_true = sentences['Label'].fillna(\"\")\n",
    "y_pred = all_predictions\n",
    "labels = ['AP', 'CD', 'CM', 'EX', 'SM']\n",
    "cm = confusion_matrix(sentences['Label'].fillna(\"\"), all_predictions, labels)\n",
    "\n",
    "#print(labels)\n",
    "#print(cm)\n",
    "\n",
    "fig = plt.figure(figsize=(10,10))\n",
    "ax = fig.add_subplot(111)\n",
    "cax = ax.matshow(ConfMatrix)\n",
    "plt.title('Confusion matrix of Naive Bayes', size=25)\n",
    "fig.colorbar(cax)\n",
    "ax.set_xticklabels([''] + labels, size=15)\n",
    "ax.set_yticklabels([''] + labels, size=15)\n",
    "plt.xlabel('Predicted', size=20)\n",
    "plt.ylabel('True', size=20)\n",
    "plt.show()"
   ]
  },
  {
   "cell_type": "code",
   "execution_count": 207,
   "metadata": {},
   "outputs": [
    {
     "name": "stdout",
     "output_type": "stream",
     "text": [
      "\n",
      "_______________Multinomial Naive Bayes________________\n",
      "\n",
      "             precision    recall  f1-score   support\n",
      "\n",
      "         AP       0.88      0.82      0.85       201\n",
      "         CD       0.77      0.91      0.83       201\n",
      "         CM       0.97      0.77      0.86       197\n",
      "         EX       0.83      0.86      0.84       201\n",
      "         SM       0.84      0.89      0.86       201\n",
      "\n",
      "avg / total       0.86      0.85      0.85      1001\n",
      "\n",
      "Accuracy:\t 0.85\n",
      "______________________________________________________\n",
      "\n",
      "Confusion Matrix:\n",
      "\n",
      "Predicted   AP   CD   CM   EX   SM  __all__\n",
      "Actual                                     \n",
      "AP         165   16    1    8   11      201\n",
      "CD           2  183    1   10    5      201\n",
      "CM          10   14  151    9   13      197\n",
      "EX           7   18    0  172    4      201\n",
      "SM           3    8    3    9  178      201\n",
      "__all__    187  239  156  208  211     1001\n",
      "\n",
      "\n",
      "Overall Statistics:\n",
      "\n",
      "Accuracy: 0.8481518481518482\n",
      "95% CI: (0.8244006512408991, 0.8698334942461408)\n",
      "No Information Rate: ToDo\n",
      "P-Value [Acc > NIR]: 0.0\n",
      "Kappa: 0.8101479366727226\n",
      "Mcnemar's Test P-Value: ToDo\n",
      "\n",
      "\n",
      "Class Statistics:\n",
      "\n",
      "Classes                                      AP         CD          CM  \\\n",
      "Population                                 1001       1001        1001   \n",
      "P: Condition positive                       201        201         197   \n",
      "N: Condition negative                       800        800         804   \n",
      "Test outcome positive                       187        239         156   \n",
      "Test outcome negative                       814        762         845   \n",
      "TP: True Positive                           165        183         151   \n",
      "TN: True Negative                           778        744         799   \n",
      "FP: False Positive                           22         56           5   \n",
      "FN: False Negative                           36         18          46   \n",
      "TPR: (Sensitivity, hit rate, recall)   0.820896   0.910448    0.766497   \n",
      "TNR=SPC: (Specificity)                   0.9725       0.93    0.993781   \n",
      "PPV: Pos Pred Value (Precision)        0.882353    0.76569    0.967949   \n",
      "NPV: Neg Pred Value                    0.955774   0.976378    0.945562   \n",
      "FPR: False-out                           0.0275       0.07  0.00621891   \n",
      "FDR: False Discovery Rate              0.117647    0.23431   0.0320513   \n",
      "FNR: Miss Rate                         0.179104  0.0895522    0.233503   \n",
      "ACC: Accuracy                          0.942058   0.926074    0.949051   \n",
      "F1 score                               0.850515   0.831818    0.855524   \n",
      "MCC: Matthews correlation coefficient  0.815455   0.789728     0.83338   \n",
      "Informedness                           0.793396   0.840448    0.760279   \n",
      "Markedness                             0.838127   0.742068    0.913511   \n",
      "Prevalence                             0.200799   0.200799    0.196803   \n",
      "LR+: Positive likelihood ratio          29.8507    13.0064     123.253   \n",
      "LR-: Negative likelihood ratio         0.184169  0.0962927    0.234964   \n",
      "DOR: Diagnostic odds ratio              162.083    135.071     524.561   \n",
      "FOR: False omission rate               0.044226   0.023622   0.0544379   \n",
      "\n",
      "Classes                                      EX         SM  \n",
      "Population                                 1001       1001  \n",
      "P: Condition positive                       201        201  \n",
      "N: Condition negative                       800        800  \n",
      "Test outcome positive                       208        211  \n",
      "Test outcome negative                       793        790  \n",
      "TP: True Positive                           172        178  \n",
      "TN: True Negative                           764        767  \n",
      "FP: False Positive                           36         33  \n",
      "FN: False Negative                           29         23  \n",
      "TPR: (Sensitivity, hit rate, recall)   0.855721   0.885572  \n",
      "TNR=SPC: (Specificity)                    0.955    0.95875  \n",
      "PPV: Pos Pred Value (Precision)        0.826923   0.843602  \n",
      "NPV: Neg Pred Value                     0.96343   0.970886  \n",
      "FPR: False-out                            0.045    0.04125  \n",
      "FDR: False Discovery Rate              0.173077   0.156398  \n",
      "FNR: Miss Rate                         0.144279   0.114428  \n",
      "ACC: Accuracy                          0.935065   0.944056  \n",
      "F1 score                               0.841076   0.864078  \n",
      "MCC: Matthews correlation coefficient  0.800472   0.829271  \n",
      "Informedness                           0.810721   0.844322  \n",
      "Markedness                             0.790353   0.814488  \n",
      "Prevalence                             0.200799   0.200799  \n",
      "LR+: Positive likelihood ratio           19.016    21.4684  \n",
      "LR-: Negative likelihood ratio         0.151077   0.119351  \n",
      "DOR: Diagnostic odds ratio               125.87    179.876  \n",
      "FOR: False omission rate                0.03657  0.0291139  \n"
     ]
    }
   ],
   "source": [
    "labels = ['AP', 'CD', 'CM', 'EX', 'SM']\n",
    "cmat = pdml.ConfusionMatrix(y_true,y_pred)\n",
    "\n",
    "print(\"\\n_______________Multinomial Naive Bayes________________\\n\")\n",
    "print(classification_report(y_true, y_pred))\n",
    "print('Accuracy:\\t {0:.2f}'.format(accuracy_score(sentences['Label'].fillna(\"\"), all_predictions)))\n",
    "print(\"______________________________________________________\\n\")\n",
    "\n",
    "\n",
    "cmat.print_stats()"
   ]
  }
 ],
 "metadata": {
  "kernelspec": {
   "display_name": "Python 3",
   "language": "python",
   "name": "python3"
  },
  "language_info": {
   "codemirror_mode": {
    "name": "ipython",
    "version": 3
   },
   "file_extension": ".py",
   "mimetype": "text/x-python",
   "name": "python",
   "nbconvert_exporter": "python",
   "pygments_lexer": "ipython3",
   "version": "3.6.4"
  }
 },
 "nbformat": 4,
 "nbformat_minor": 2
}
