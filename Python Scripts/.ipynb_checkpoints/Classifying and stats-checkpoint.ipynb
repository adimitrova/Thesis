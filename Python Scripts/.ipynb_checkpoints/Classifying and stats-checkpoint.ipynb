{
 "cells": [
  {
   "cell_type": "markdown",
   "metadata": {},
   "source": [
    "https://radimrehurek.com/data_science_python/"
   ]
  },
  {
   "cell_type": "markdown",
   "metadata": {
    "heading_collapsed": true
   },
   "source": [
    "#### Import modules"
   ]
  },
  {
   "cell_type": "code",
   "execution_count": 84,
   "metadata": {
    "hidden": true
   },
   "outputs": [],
   "source": [
    "from textblob.classifiers import NaiveBayesClassifier\n",
    "from textblob import TextBlob\n",
    "import random\n",
    "import time\n",
    "import os\n",
    "import sys\n",
    "import os.path\n",
    "import string\n",
    "\n",
    "# ---- for TF-IDF & NLTK\n",
    "import math\n",
    "from textblob import TextBlob as tb\n",
    "import nltk\n",
    "from nltk.corpus import wordnet as wn\n",
    "from nltk import word_tokenize, sent_tokenize\n",
    "from nltk.corpus import stopwords\n",
    "from nltk.stem import LancasterStemmer\n",
    "from nltk.stem import WordNetLemmatizer\n",
    "from nltk import pos_tag\n",
    "from pathlib import Path\n",
    "from beautifultable import BeautifulTable\n",
    "\n",
    "import re, string, unicodedata\n",
    "import contractions\n",
    "import inflect\n",
    "from bs4 import BeautifulSoup\n",
    "from tabulate import tabulate\n",
    "\n",
    "allRunsAccuracy = []\n",
    "\n",
    "import matplotlib.pyplot as plt\n",
    "import csv\n",
    "from textblob import TextBlob\n",
    "import pandas\n",
    "import sklearn\n",
    "import numpy as np\n",
    "from sklearn.feature_extraction.text import CountVectorizer, TfidfTransformer\n",
    "from sklearn.naive_bayes import MultinomialNB\n",
    "from sklearn.svm import SVC, LinearSVC\n",
    "from sklearn.metrics import classification_report, f1_score, accuracy_score, confusion_matrix\n",
    "from sklearn.pipeline import Pipeline\n",
    "from sklearn.grid_search import GridSearchCV\n",
    "from sklearn.cross_validation import StratifiedKFold, cross_val_score, train_test_split \n",
    "from sklearn.tree import DecisionTreeClassifier \n",
    "from sklearn.learning_curve import learning_curve"
   ]
  },
  {
   "cell_type": "markdown",
   "metadata": {},
   "source": [
    "#### The rest"
   ]
  },
  {
   "cell_type": "code",
   "execution_count": 115,
   "metadata": {},
   "outputs": [
    {
     "name": "stdout",
     "output_type": "stream",
     "text": [
      "  Label                                           Sentence\n",
      "0    CD  provided some conditions are satisfied,the ext...\n",
      "1    CD  but how am i supposed to find those maximum an...\n",
      "2    CD  we've actually alreaOMITTED done this in some ...\n",
      "3    CD                       here's a frour-step process \n",
      "4    AP  first,differentiate your function can find all...\n",
      "5    CD  those are places where the derivative is equal...\n",
      "6    CD  and also lists the end points if they're inclu...\n",
      "7    CD                          check those points,right \n",
      "8    AP  check the end points,check the critical points...\n",
      "9    EX                             let's work an example \n"
     ]
    }
   ],
   "source": [
    "prefix = r\"C:\\Users\\ani\"\n",
    "sentences = pandas.read_csv(prefix + r'\\Dropbox\\Stuff\\university\\data\\allMergedNoNL.csv', sep='|', quoting=csv.QUOTE_NONE,\n",
    "                           names=[\"Label\", \"Sentence\"], encoding = \"ISO-8859-1\")\n",
    "print(sentences[:10]) "
   ]
  },
  {
   "cell_type": "code",
   "execution_count": 116,
   "metadata": {},
   "outputs": [
    {
     "data": {
      "text/html": [
       "<div>\n",
       "<style scoped>\n",
       "    .dataframe tbody tr th:only-of-type {\n",
       "        vertical-align: middle;\n",
       "    }\n",
       "\n",
       "    .dataframe tbody tr th {\n",
       "        vertical-align: top;\n",
       "    }\n",
       "\n",
       "    .dataframe thead tr th {\n",
       "        text-align: left;\n",
       "    }\n",
       "\n",
       "    .dataframe thead tr:last-of-type th {\n",
       "        text-align: right;\n",
       "    }\n",
       "</style>\n",
       "<table border=\"1\" class=\"dataframe\">\n",
       "  <thead>\n",
       "    <tr>\n",
       "      <th></th>\n",
       "      <th colspan=\"4\" halign=\"left\">Sentence</th>\n",
       "    </tr>\n",
       "    <tr>\n",
       "      <th></th>\n",
       "      <th>count</th>\n",
       "      <th>unique</th>\n",
       "      <th>top</th>\n",
       "      <th>freq</th>\n",
       "    </tr>\n",
       "    <tr>\n",
       "      <th>Label</th>\n",
       "      <th></th>\n",
       "      <th></th>\n",
       "      <th></th>\n",
       "      <th></th>\n",
       "    </tr>\n",
       "  </thead>\n",
       "  <tbody>\n",
       "    <tr>\n",
       "      <th>AP</th>\n",
       "      <td>317</td>\n",
       "      <td>317</td>\n",
       "      <td>and again,here i'm going to,here i'm asking yo...</td>\n",
       "      <td>1</td>\n",
       "    </tr>\n",
       "    <tr>\n",
       "      <th>CD</th>\n",
       "      <td>6652</td>\n",
       "      <td>6639</td>\n",
       "      <td>rumble</td>\n",
       "      <td>2</td>\n",
       "    </tr>\n",
       "    <tr>\n",
       "      <th>CM</th>\n",
       "      <td>277</td>\n",
       "      <td>277</td>\n",
       "      <td>and this function is called the residual</td>\n",
       "      <td>1</td>\n",
       "    </tr>\n",
       "    <tr>\n",
       "      <th>EX</th>\n",
       "      <td>562</td>\n",
       "      <td>561</td>\n",
       "      <td>so let me show you a demo</td>\n",
       "      <td>2</td>\n",
       "    </tr>\n",
       "    <tr>\n",
       "      <th>SM</th>\n",
       "      <td>570</td>\n",
       "      <td>570</td>\n",
       "      <td>in the next video,we will have an overview of ...</td>\n",
       "      <td>1</td>\n",
       "    </tr>\n",
       "  </tbody>\n",
       "</table>\n",
       "</div>"
      ],
      "text/plain": [
       "      Sentence                                                               \n",
       "         count unique                                                top freq\n",
       "Label                                                                        \n",
       "AP         317    317  and again,here i'm going to,here i'm asking yo...    1\n",
       "CD        6652   6639                                            rumble     2\n",
       "CM         277    277          and this function is called the residual     1\n",
       "EX         562    561                         so let me show you a demo     2\n",
       "SM         570    570  in the next video,we will have an overview of ...    1"
      ]
     },
     "execution_count": 116,
     "metadata": {},
     "output_type": "execute_result"
    }
   ],
   "source": [
    "sentences.groupby('Label').describe()"
   ]
  },
  {
   "cell_type": "code",
   "execution_count": 87,
   "metadata": {},
   "outputs": [
    {
     "name": "stdout",
     "output_type": "stream",
     "text": [
      "  Label                                           Sentence  length\n",
      "0    CD  provided some conditions are satisfied,the ext...     119\n",
      "1    CD  but how am i supposed to find those maximum an...      63\n",
      "2    CD  we've actually alreaOMITTED done this in some ...     131\n",
      "3    CD                       here's a frour-step process       28\n",
      "4    AP  first,differentiate your function can find all...      67\n",
      "\n",
      "\n",
      "[\"and i'm labeling these points OMITTED sub i,so my left hand OMITTED point is OMITTED sub and my right hand OMITTED point is OMITTED sub n,and my cut points in between where i'm cutting up to partition are i over n. so,the first one here,or the one after the of anyway,is over n. the next one is over n,the next one is over n,and each of those subintervals has the same width,over n. now,i also have to choose points to sample the function at,and i'm just going to choose the right hand end point here \", \"some epsilon bigger than zero,a corresponding value of delta is going to be epsilon over NUMBER and then,i verify that if OMITTED is within NUMBER,is within delta of NUMBER,then NUMBER is within epsilon of NUMBER and that's exactly what it means to say that the limit of NUMBER is NUMBER as OMITTED approaches NUMBER for every epsilon,there's some delta so that whenever OMITTED is within delta of NUMBER,then the function NUMBER is within epsilon of you can imagine trying to do this with other functions,right \", \"they end up meeting in same location and one way of doing this is to assume you have a rain sensor disk around you and then when you see other robots in that disk instead of thinking of them as obsticles we think of them as buddies so what we are going to do is each robot is going to aim toward the center of gravity of all it's neighboors so everyone that is in that disk,disk,and because of the disk assumption or disk abstraction we just talked about,we can actually compute where the center of gravi ty is of our neighbors \", \"and the fourth one is if you do get around the obstacle there will be a point where you're going to start making progress again toward the goal location and you will probably no lee,no longer need to slide along the wall in order to make progress,so if those both tho,both of those conditions are,end up being true,then you can go ahead and switch back to your goal-seeking behavior,so which is either go to goal,or what i usually like do to is if,if i'm close to an obstacle,which i typically am because of the follow all behavior i first switch into avoid obstacles and go to goal before i switch into pure go to goal behavior \"]\n"
     ]
    },
    {
     "data": {
      "text/plain": [
       "Text(0,0.5,'Quantity')"
      ]
     },
     "execution_count": 87,
     "metadata": {},
     "output_type": "execute_result"
    },
    {
     "data": {
      "image/png": "[encoded data removed]",
      "text/plain": [
       "<matplotlib.figure.Figure at 0x1fc50cacb70>"
      ]
     },
     "metadata": {},
     "output_type": "display_data"
    }
   ],
   "source": [
    "sentences['length'] = sentences['Sentence'].map(lambda text: len(text))\n",
    "print(sentences.head())\n",
    "\n",
    "sentences.length.plot(bins=20, kind='hist')\n",
    "\n",
    "print(\"\\n\")\n",
    "sentences.length.describe()\n",
    "print(list(sentences.Sentence[sentences.length > 500]))\n",
    "\n",
    "#sentences.hist(column='length', by='Label', bins='auto',figsize=(10, 15), color=\"c\")\n",
    "plt.xlabel('Length')\n",
    "plt.ylabel('Quantity')"
   ]
  },
  {
   "cell_type": "code",
   "execution_count": 117,
   "metadata": {},
   "outputs": [
    {
     "data": {
      "text/plain": [
       "0       [provided, some, conditions, are, satisfied, t...\n",
       "1       [but, how, am, i, supposed, to, find, those, m...\n",
       "2       [we, 've, actually, alreaOMITTED, done, this, ...\n",
       "3                      [here, 's, a, frour-step, process]\n",
       "4       [first, differentiate, your, function, can, fi...\n",
       "5       [those, are, places, where, the, derivative, i...\n",
       "6       [and, also, lists, the, end, points, if, they,...\n",
       "7                           [check, those, points, right]\n",
       "8       [check, the, end, points, check, the, critical...\n",
       "9                            [let, 's, work, an, example]\n",
       "10                     [okay, let, 's, work, an, example]\n",
       "11      [let, 's, look, at, the, function, given, by, ...\n",
       "12      [but, let, 's, only, consider, this, function,...\n",
       "13      [let, 's, consider, a, maximum, minimum, value...\n",
       "14                           [and, now, i, differentiate]\n",
       "15      [yeah, the, first, step, is, to, differentiate...\n",
       "16      [so, before, i, differentiate, it, i, 'm, just...\n",
       "17      [instead, of, over, OMITTED, squared, minus, s...\n",
       "18      [it, 's, going, to, make, it, a, little, bit, ...\n",
       "19      [so, what, 's, the, derivative, of, this, func...\n",
       "20      [by, the, power, rule, and, the, chain, rule, ...\n",
       "21      [with, the, derivative, in, hand, i, can, find...\n",
       "22      [yeah, the, next, step, is, to, list, the, cri...\n",
       "23                                     [so, let, 's, see]\n",
       "24      [what, are, the, critical, points, of, this, f...\n",
       "25      [will, those, be, places, where, the, derivati...\n",
       "26      [let, 's, first, think, about, when, the, deri...\n",
       "27      [well, in, order, for, that, derivative, to, b...\n",
       "28               [when, 's, a, fraction, equal, to, zero]\n",
       "29      [well, that, occurred, exactly, when, the, num...\n",
       "                              ...                        \n",
       "8350    [i, just, gave, you, the, omegas, essentially,...\n",
       "8351    [when, you, code, it, i, highly, encourage, ju...\n",
       "8352    [and, you, want, to, solve, your, attitude, an...\n",
       "8353    [later, on, in, class, we, can, even, add, oth...\n",
       "8354    [so, when, you, were, just, asking, that, ques...\n",
       "8355    [but, are, these, is, constant, because, we, d...\n",
       "8356                          [these, are, just, tensors]\n",
       "8357    [i, mean, if, you, say, constant, i, have, to,...\n",
       "8358    [the, inertia, is, not, a, matrix, like, a, dc...\n",
       "8359           [we, could, have, picked, something, else]\n",
       "8360         [this, is, really, fundamentally, a, tensor]\n",
       "8361    [which, means, just, like, a, vector, it, when...\n",
       "8362    [so, i, just, said, look, this, been, a, compl...\n",
       "8363        [you, break, it, up, into, two, parts, right]\n",
       "8364    [here, i, can, immediately, say, this, part, i...\n",
       "8365    [and, this, derivative, body, frame, is, the, ...\n",
       "8366    [so, this, OMITTED, OMITTED, frame, derivative...\n",
       "8367    [could, then, to, get, the, inertial, derivati...\n",
       "8368    [so, this, gives, me, the, answer, but, i, 've...\n",
       "8369    [remember, when, we, 're, using, transport, th...\n",
       "8370    [it, does, n't, mean, you, have, to, write, th...\n",
       "8371    [often, we, have, that, 's, why, we, 've, chos...\n",
       "8372    [here, we, have, n't, chosen, the, OMITTED, fr...\n",
       "8373    [i, think, this, was, my, confusion, no, OMITT...\n",
       "8374                          [it, 's, constant, exactly]\n",
       "8375    [for, any, shape, with, asymmetries, and, what...\n",
       "8376                [the, only, thing, is, it, 's, rigid]\n",
       "8377    [that, 's, the, single, rigid, body, and, now,...\n",
       "8378    [you, can, see, this, looks, suspiciously, sim...\n",
       "8379    [but, then, all, this, there, 's, all, these, ...\n",
       "Name: Sentence, Length: 8380, dtype: object"
      ]
     },
     "execution_count": 117,
     "metadata": {},
     "output_type": "execute_result"
    }
   ],
   "source": [
    "#split a sent into its individual words\n",
    "def split_into_tokens(sent):\n",
    "    #sent = unicode(sent, 'utf8')  # convert bytes into proper unicode\n",
    "    return TextBlob(sent).words\n",
    "\n",
    "sentences.Sentence.apply(split_into_tokens)"
   ]
  },
  {
   "cell_type": "code",
   "execution_count": 146,
   "metadata": {},
   "outputs": [
    {
     "data": {
      "text/plain": [
       "0    [provided, some, condition, are, satisfied, th...\n",
       "1    [but, how, am, i, supposed, to, find, those, m...\n",
       "2    [we, 've, actually, alreaOMITTED, done, this, ...\n",
       "3                   [here, 's, a, frour-step, process]\n",
       "4    [first, differentiate, your, function, can, fi...\n",
       "Name: Sentence, dtype: object"
      ]
     },
     "execution_count": 146,
     "metadata": {},
     "output_type": "execute_result"
    }
   ],
   "source": [
    "# pre-processing\n",
    "def split_into_lemmas(sent):\n",
    "    words = TextBlob(sent).words\n",
    "    # for each word, take its \"base form\" = lemma \n",
    "    return [word.lemma for word in words]\n",
    "\n",
    "sentences.Sentence.head().apply(split_into_lemmas)"
   ]
  },
  {
   "cell_type": "code",
   "execution_count": 90,
   "metadata": {},
   "outputs": [
    {
     "name": "stdout",
     "output_type": "stream",
     "text": [
      "5657\n"
     ]
    }
   ],
   "source": [
    "# Data to vectors\n",
    "\n",
    "# convert each message, represented as a list of tokens (lemmas) above, \n",
    "# into a vector that machine learning models can understand\n",
    "\n",
    "bow_transformer = CountVectorizer(analyzer=split_into_lemmas).fit(sentences['Sentence'])\n",
    "print(len(bow_transformer.vocabulary_))"
   ]
  },
  {
   "cell_type": "code",
   "execution_count": 156,
   "metadata": {},
   "outputs": [
    {
     "name": "stdout",
     "output_type": "stream",
     "text": [
      "all right,now we've got ta figure out,when is the derivative equal to zero,so i'm trying to solve this \n",
      "  (0, 5)\t1\n",
      "  (0, 8)\t1\n",
      "  (0, 191)\t1\n",
      "  (0, 1339)\t1\n",
      "  (0, 1734)\t1\n",
      "  (0, 1929)\t1\n",
      "  (0, 2175)\t1\n",
      "  (0, 2413)\t1\n",
      "  (0, 2695)\t1\n",
      "  (0, 3373)\t1\n",
      "  (0, 3518)\t1\n",
      "  (0, 4301)\t1\n",
      "  (0, 4650)\t1\n",
      "  (0, 4663)\t1\n",
      "  (0, 4967)\t1\n",
      "  (0, 5048)\t1\n",
      "  (0, 5084)\t1\n",
      "  (0, 5128)\t2\n",
      "  (0, 5233)\t1\n",
      "  (0, 5478)\t1\n",
      "  (0, 5514)\t1\n",
      "  (0, 5650)\t1\n",
      "(1, 5657)\n",
      "OMITTED appears 3 times, i appears twice etc\n",
      "5657\n",
      "5421\n"
     ]
    }
   ],
   "source": [
    "message1000 = sentences['Sentence'][999]\n",
    "print(message1000)\n",
    "\n",
    "bow1000 = bow_transformer.transform([message1000])\n",
    "print(bow1000)\n",
    "print(bow1000.shape)\n",
    "print(\"OMITTED appears 3 times, i appears twice etc\")\n",
    "\n",
    "featureList = bow_transformer.get_feature_names()\n",
    "finalFeatureList = []\n",
    "\n",
    "def removeNumsFromFeatureList(featureList):\n",
    "    isNum = re.compile(\"[0-9]\")\n",
    "    hasApostrophe = re.compile(\"'\\w+\")\n",
    "        \n",
    "    for feat in featureList:\n",
    "        if isNum.match(feat): pass\n",
    "        elif hasApostrophe.match(feat): pass\n",
    "        elif \"OMITTED\" in feat.upper(): pass\n",
    "        elif \"NUMBER\" in feat.upper(): pass\n",
    "        elif (\"-\" or \"+\") in feat.upper(): pass\n",
    "        else: finalFeatureList.append(feat)\n",
    "\n",
    "print(len(featureList))\n",
    "removeNumsFromFeatureList(featureList)\n",
    "print(len(finalFeatureList))\n",
    "\n",
    "#print(bow_transformer.get_feature_names()[5214])"
   ]
  },
  {
   "cell_type": "code",
   "execution_count": 157,
   "metadata": {
    "scrolled": true
   },
   "outputs": [
    {
     "name": "stdout",
     "output_type": "stream",
     "text": [
      "sparse matrix shape: (8380, 5657)\n",
      "number of non-zeros: 117146\n",
      "sparsity: 0.25%\n",
      "(8380, 5657)\n"
     ]
    }
   ],
   "source": [
    "sentences_bow = bow_transformer.transform(sentences['Sentence'])\n",
    "print('sparse matrix shape:', sentences_bow.shape)\n",
    "print('number of non-zeros:', sentences_bow.nnz)\n",
    "print('sparsity: %.2f%%' % (100.0 * sentences_bow.nnz / (sentences_bow.shape[0] * sentences_bow.shape[1])))\n",
    "\n",
    "#after the counting, the term weighting and normalization can be done with TF-IDF, using scikit-learn's TfidfTransformer\n",
    "tfidf_transformer = TfidfTransformer().fit(sentences_bow)\n",
    "tfidf1000 = tfidf_transformer.transform(bow1000)\n",
    "#print(tfidf1451)\n",
    "\n",
    "# To transform the entire bag-of-words corpus into TF-IDF corpus at once:\n",
    "sentences_tfidf = tfidf_transformer.transform(sentences_bow)\n",
    "print(sentences_tfidf.shape)"
   ]
  },
  {
   "cell_type": "markdown",
   "metadata": {},
   "source": [
    "#### RUN THE CLASSIFIER!\n",
    "# TIME CONSUMING!"
   ]
  },
  {
   "cell_type": "code",
   "execution_count": 154,
   "metadata": {},
   "outputs": [
    {
     "name": "stdout",
     "output_type": "stream",
     "text": [
      "Wall time: 172 ms\n"
     ]
    }
   ],
   "source": [
    "# Using Multinomial Naive Bayes classifier\n",
    "%time label_classifier = MultinomialNB().fit(sentences_tfidf, sentences['Label'].fillna(\"\"))"
   ]
  },
  {
   "cell_type": "code",
   "execution_count": 163,
   "metadata": {},
   "outputs": [
    {
     "name": "stdout",
     "output_type": "stream",
     "text": [
      "Predicted: CD\n",
      "Actual: CD\n"
     ]
    }
   ],
   "source": [
    "print('Predicted:', label_classifier.predict(tfidf1000)[0])\n",
    "print('Actual:', sentences.Label[999])"
   ]
  },
  {
   "cell_type": "code",
   "execution_count": 187,
   "metadata": {},
   "outputs": [
    {
     "name": "stdout",
     "output_type": "stream",
     "text": [
      "Accuracy:\t 0.7960620525059666\n",
      "\n",
      "========Confusion matrix=========\n",
      " [[   0    0    2    0    0    0]\n",
      " [   0    3  314    0    0    0]\n",
      " [   0    0 6652    0    0    0]\n",
      " [   0    0  277    0    0    0]\n",
      " [   0    0  555    0    7    0]\n",
      " [   0    0  561    0    0    9]]\n",
      "(row=Actual, col=Predicted)\n",
      "\n",
      "_______________Multinomial Naive Bayes______________\n",
      "             precision    recall  f1-score   support\n",
      "\n",
      "                  0.00      0.00      0.00         2\n",
      "         AP       1.00      0.01      0.02       317\n",
      "         CD       0.80      1.00      0.89      6652\n",
      "         CM       0.00      0.00      0.00       277\n",
      "         EX       1.00      0.01      0.02       562\n",
      "         SM       1.00      0.02      0.03       570\n",
      "\n",
      "avg / total       0.80      0.80      0.71      8380\n",
      "\n"
     ]
    },
    {
     "name": "stderr",
     "output_type": "stream",
     "text": [
      "C:\\Users\\ani\\Anaconda3\\lib\\site-packages\\sklearn\\metrics\\classification.py:1135: UndefinedMetricWarning: Precision and F-score are ill-defined and being set to 0.0 in labels with no predicted samples.\n",
      "  'precision', 'predicted', average, warn_for)\n"
     ]
    }
   ],
   "source": [
    "all_predictions = label_classifier.predict(sentences_tfidf)\n",
    "#print(all_predictions)\n",
    "\n",
    "print('Accuracy:\\t', accuracy_score(sentences['Label'].fillna(\"\"), all_predictions))\n",
    "print('\\n========Confusion matrix=========\\n', confusion_matrix(sentences['Label'].fillna(\"\"), all_predictions))\n",
    "print('(row=Actual, col=Predicted)')\n",
    "\n",
    "print(\"\\n_______________Multinomial Naive Bayes______________\")\n",
    "print(classification_report(sentences['Label'].fillna(\"\"), all_predictions))"
   ]
  }
 ],
 "metadata": {
  "kernelspec": {
   "display_name": "Python 3",
   "language": "python",
   "name": "python3"
  },
  "language_info": {
   "codemirror_mode": {
    "name": "ipython",
    "version": 3
   },
   "file_extension": ".py",
   "mimetype": "text/x-python",
   "name": "python",
   "nbconvert_exporter": "python",
   "pygments_lexer": "ipython3",
   "version": "3.6.4"
  }
 },
 "nbformat": 4,
 "nbformat_minor": 2
}
