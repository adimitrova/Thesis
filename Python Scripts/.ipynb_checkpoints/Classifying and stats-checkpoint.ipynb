{
 "cells": [
  {
   "cell_type": "markdown",
   "metadata": {},
   "source": [
    "https://radimrehurek.com/data_science_python/"
   ]
  },
  {
   "cell_type": "markdown",
   "metadata": {
    "heading_collapsed": true
   },
   "source": [
    "#### Import modules"
   ]
  },
  {
   "cell_type": "code",
   "execution_count": 108,
   "metadata": {
    "hidden": true
   },
   "outputs": [],
   "source": [
    "from textblob.classifiers import NaiveBayesClassifier\n",
    "from textblob import TextBlob\n",
    "import random\n",
    "import time\n",
    "import os\n",
    "import sys\n",
    "import os.path\n",
    "import string\n",
    "\n",
    "# ---- for TF-IDF & NLTK\n",
    "import math\n",
    "from textblob import TextBlob as tb\n",
    "import nltk\n",
    "from nltk.corpus import wordnet as wn\n",
    "from nltk import word_tokenize, sent_tokenize\n",
    "from nltk.corpus import stopwords\n",
    "from nltk.stem import LancasterStemmer\n",
    "from nltk.stem import WordNetLemmatizer\n",
    "from nltk import pos_tag\n",
    "from pathlib import Path\n",
    "from beautifultable import BeautifulTable\n",
    "\n",
    "import re, string, unicodedata\n",
    "import contractions\n",
    "import inflect\n",
    "from bs4 import BeautifulSoup\n",
    "from tabulate import tabulate\n",
    "\n",
    "allRunsAccuracy = []\n",
    "\n",
    "import matplotlib.pyplot as plt\n",
    "import csv\n",
    "from textblob import TextBlob\n",
    "import pandas\n",
    "import sklearn\n",
    "import numpy as np\n",
    "from sklearn.feature_extraction.text import CountVectorizer, TfidfTransformer\n",
    "from sklearn.naive_bayes import MultinomialNB\n",
    "from sklearn.svm import SVC, LinearSVC\n",
    "from sklearn.metrics import classification_report, f1_score, accuracy_score, confusion_matrix\n",
    "from sklearn.pipeline import Pipeline\n",
    "from sklearn.grid_search import GridSearchCV\n",
    "from sklearn.cross_validation import StratifiedKFold, cross_val_score, train_test_split \n",
    "from sklearn.tree import DecisionTreeClassifier \n",
    "from sklearn.learning_curve import learning_curve"
   ]
  },
  {
   "cell_type": "markdown",
   "metadata": {},
   "source": [
    "#### The rest"
   ]
  },
  {
   "cell_type": "code",
   "execution_count": 170,
   "metadata": {},
   "outputs": [
    {
     "name": "stdout",
     "output_type": "stream",
     "text": [
      "  Label                                           Sentence\n",
      "0    CD  provided some conditions are satisfied,the ext...\n",
      "1    CD  but how am i supposed to find those maximum an...\n",
      "2    CD  we've actually alreaOMITTED done this in some ...\n",
      "3    CD                       here's a frour-step process \n",
      "4    AP  first,differentiate your function can find all...\n",
      "5    CD  those are places where the derivative is equal...\n",
      "6    CD  and also lists the end points if they're inclu...\n",
      "7    CD                          check those points,right \n",
      "8    AP  check the end points,check the critical points...\n",
      "9    EX                             let's work an example \n"
     ]
    }
   ],
   "source": [
    "# ADD THE FILE THAT IS NOT PREPROCESSED YET\n",
    "prefix = r\"C:\\Users\\ani\"\n",
    "sentences = pandas.read_csv(prefix + r'\\Dropbox\\Stuff\\university\\data\\250PerClass.csv', sep='|', quoting=csv.QUOTE_NONE,\n",
    "                           names=[\"Label\", \"Sentence\"], encoding = \"ISO-8859-1\")\n",
    "print(sentences[:10]) "
   ]
  },
  {
   "cell_type": "code",
   "execution_count": null,
   "metadata": {},
   "outputs": [],
   "source": [
    "trainS = []\n",
    "testS = []\n",
    "train = []\n",
    "test = []\n",
    "\n",
    "textsize = len(sentences)\n",
    "trainTestRatio = round(0.75 * textsize)\n",
    "\n",
    "def split_testTrain():\n",
    "    nrsplit = 0\n",
    "\n",
    "    print(\"Total sent: \",textsize, \" | TRAIN sent: \",trainTestRatio,\" | TEST sent: \",textsize-trainTestRatio)\n",
    "\n",
    "    while not len(sentences) == 0:\n",
    "        nrsplit += 1\n",
    "        if nrsplit <= trainTestRatio:\n",
    "            curLine = random.choice(list(sentences[\"Label\"],sentences[\"Sentence\"]))\n",
    "            print(curLine)\n",
    "            sentences.remove(curLine)\n",
    "            trainS.append(curLine) \n",
    "        elif nrsplit > trainTestRatio:\n",
    "            curLine = random.choice(sentences)\n",
    "            sentences.remove(curLine)\n",
    "            testS.append(curLine) \n",
    "\n",
    "    print(\"Sent: \",len(sentences),\" | Train: \",len(trainS),\" | Test:\",len(testS))   \n",
    "    print(\"TRAIN: \",len(trainS),\" | TEST:\",len(testS))   \n",
    "    \n",
    "    for sent in trainS:\n",
    "        parts = sent.split('|')\n",
    "        if len(parts) > 1:\n",
    "            label = parts[0]\n",
    "            sent = parts[1]\n",
    "            tup = (sent,label)\n",
    "            train.append(tup)\n",
    "        else:\n",
    "            continue\n",
    "\n",
    "    for sent in testS:\n",
    "        parts = sent.split('|')\n",
    "        if len(parts) > 1:\n",
    "            label = parts[0]\n",
    "            sent = parts[1]\n",
    "            tup = (sent,label)\n",
    "            test.append(tup)\n",
    "        else:\n",
    "            continue\n",
    "            \n",
    "split_testTrain()"
   ]
  },
  {
   "cell_type": "code",
   "execution_count": 111,
   "metadata": {},
   "outputs": [
    {
     "data": {
      "text/html": [
       "<div>\n",
       "<style scoped>\n",
       "    .dataframe tbody tr th:only-of-type {\n",
       "        vertical-align: middle;\n",
       "    }\n",
       "\n",
       "    .dataframe tbody tr th {\n",
       "        vertical-align: top;\n",
       "    }\n",
       "\n",
       "    .dataframe thead tr th {\n",
       "        text-align: left;\n",
       "    }\n",
       "\n",
       "    .dataframe thead tr:last-of-type th {\n",
       "        text-align: right;\n",
       "    }\n",
       "</style>\n",
       "<table border=\"1\" class=\"dataframe\">\n",
       "  <thead>\n",
       "    <tr>\n",
       "      <th></th>\n",
       "      <th colspan=\"4\" halign=\"left\">Sentence</th>\n",
       "    </tr>\n",
       "    <tr>\n",
       "      <th></th>\n",
       "      <th>count</th>\n",
       "      <th>unique</th>\n",
       "      <th>top</th>\n",
       "      <th>freq</th>\n",
       "    </tr>\n",
       "    <tr>\n",
       "      <th>Label</th>\n",
       "      <th></th>\n",
       "      <th></th>\n",
       "      <th></th>\n",
       "      <th></th>\n",
       "    </tr>\n",
       "  </thead>\n",
       "  <tbody>\n",
       "    <tr>\n",
       "      <th>AP</th>\n",
       "      <td>250</td>\n",
       "      <td>250</td>\n",
       "      <td>to find out whether it's if it's true basicall...</td>\n",
       "      <td>1</td>\n",
       "    </tr>\n",
       "    <tr>\n",
       "      <th>CD</th>\n",
       "      <td>250</td>\n",
       "      <td>248</td>\n",
       "      <td>NUMBER seconds after the ball was released,the...</td>\n",
       "      <td>2</td>\n",
       "    </tr>\n",
       "    <tr>\n",
       "      <th>CM</th>\n",
       "      <td>250</td>\n",
       "      <td>250</td>\n",
       "      <td>the first transform is translate,which is a ba...</td>\n",
       "      <td>1</td>\n",
       "    </tr>\n",
       "    <tr>\n",
       "      <th>EX</th>\n",
       "      <td>250</td>\n",
       "      <td>250</td>\n",
       "      <td>well,here's the graph for our funciton f. and,...</td>\n",
       "      <td>1</td>\n",
       "    </tr>\n",
       "    <tr>\n",
       "      <th>SM</th>\n",
       "      <td>250</td>\n",
       "      <td>250</td>\n",
       "      <td>so do play around with that one and we need to...</td>\n",
       "      <td>1</td>\n",
       "    </tr>\n",
       "  </tbody>\n",
       "</table>\n",
       "</div>"
      ],
      "text/plain": [
       "      Sentence                                                               \n",
       "         count unique                                                top freq\n",
       "Label                                                                        \n",
       "AP         250    250  to find out whether it's if it's true basicall...    1\n",
       "CD         250    248  NUMBER seconds after the ball was released,the...    2\n",
       "CM         250    250  the first transform is translate,which is a ba...    1\n",
       "EX         250    250  well,here's the graph for our funciton f. and,...    1\n",
       "SM         250    250  so do play around with that one and we need to...    1"
      ]
     },
     "execution_count": 111,
     "metadata": {},
     "output_type": "execute_result"
    }
   ],
   "source": [
    "sentences.groupby('Label').describe()"
   ]
  },
  {
   "cell_type": "code",
   "execution_count": 112,
   "metadata": {},
   "outputs": [
    {
     "name": "stdout",
     "output_type": "stream",
     "text": [
      "  Label                                           Sentence  length\n",
      "0    CD  provided some conditions are satisfied,the ext...     119\n",
      "1    CD  but how am i supposed to find those maximum an...      63\n",
      "2    CD  we've actually alreaOMITTED done this in some ...     131\n",
      "3    CD                       here's a frour-step process       28\n",
      "4    AP  first,differentiate your function can find all...      67\n",
      "\n",
      "\n",
      "[]\n"
     ]
    },
    {
     "data": {
      "text/plain": [
       "Text(0,0.5,'Quantity')"
      ]
     },
     "execution_count": 112,
     "metadata": {},
     "output_type": "execute_result"
    },
    {
     "data": {
      "image/png": "[encoded data removed]",
      "text/plain": [
       "<matplotlib.figure.Figure at 0x234827363c8>"
      ]
     },
     "metadata": {},
     "output_type": "display_data"
    }
   ],
   "source": [
    "sentences['length'] = sentences['Sentence'].map(lambda text: len(text))\n",
    "print(sentences.head())\n",
    "\n",
    "sentences.length.plot(bins=20, kind='hist')\n",
    "\n",
    "print(\"\\n\")\n",
    "sentences.length.describe()\n",
    "print(list(sentences.Sentence[sentences.length > 500]))\n",
    "\n",
    "#sentences.hist(column='length', by='Label', bins='auto',figsize=(10, 15), color=\"c\")\n",
    "plt.xlabel('Length')\n",
    "plt.ylabel('Quantity')"
   ]
  },
  {
   "cell_type": "code",
   "execution_count": 113,
   "metadata": {},
   "outputs": [
    {
     "data": {
      "text/plain": [
       "0       [provided, some, conditions, are, satisfied, t...\n",
       "1       [but, how, am, i, supposed, to, find, those, m...\n",
       "2       [we, 've, actually, alreaOMITTED, done, this, ...\n",
       "3                      [here, 's, a, frour-step, process]\n",
       "4       [first, differentiate, your, function, can, fi...\n",
       "5       [those, are, places, where, the, derivative, i...\n",
       "6       [and, also, lists, the, end, points, if, they,...\n",
       "7                           [check, those, points, right]\n",
       "8       [check, the, end, points, check, the, critical...\n",
       "9                            [let, 's, work, an, example]\n",
       "10                     [okay, let, 's, work, an, example]\n",
       "11      [let, 's, look, at, the, function, given, by, ...\n",
       "12      [but, let, 's, only, consider, this, function,...\n",
       "13      [let, 's, consider, a, maximum, minimum, value...\n",
       "14                           [and, now, i, differentiate]\n",
       "15      [yeah, the, first, step, is, to, differentiate...\n",
       "16      [so, before, i, differentiate, it, i, 'm, just...\n",
       "17      [instead, of, over, OMITTED, squared, minus, s...\n",
       "18      [it, 's, going, to, make, it, a, little, bit, ...\n",
       "19      [so, what, 's, the, derivative, of, this, func...\n",
       "20      [by, the, power, rule, and, the, chain, rule, ...\n",
       "21      [with, the, derivative, in, hand, i, can, find...\n",
       "22      [yeah, the, next, step, is, to, list, the, cri...\n",
       "23                                     [so, let, 's, see]\n",
       "24      [what, are, the, critical, points, of, this, f...\n",
       "25      [will, those, be, places, where, the, derivati...\n",
       "26      [let, 's, first, think, about, when, the, deri...\n",
       "27      [well, in, order, for, that, derivative, to, b...\n",
       "28               [when, 's, a, fraction, equal, to, zero]\n",
       "29      [well, that, occurred, exactly, when, the, num...\n",
       "                              ...                        \n",
       "1220    [last, the, integral, the, accumulated, error,...\n",
       "1221    [and, the, other, thing, you, want, to, see, i...\n",
       "1222    [you, can, see, there, 's, a, little, bit, but...\n",
       "1223    [and, what, you, want, to, edit, is, this, var...\n",
       "1224    [my, tips, for, this, week, are, the, same, as...\n",
       "1225    [just, make, sure, to, read, the, week, sectio...\n",
       "1226    [and, use, as, many, fprintf, statements, as, ...\n",
       "1227    [and, this, obstacle, avoidance, controller, t...\n",
       "1228    [so, when, i, tell, you, that, the, robot, is,...\n",
       "1229    [and, this, is, important, because, what, we, ...\n",
       "1230    [so, in, order, for, you, to, be, able, to, ca...\n",
       "1231    [and, once, you, 've, done, that, properly, of...\n",
       "1232    [and, then, you, have, to, figure, out, the, p...\n",
       "1233    [so, play, around, with, that, and, you, shoul...\n",
       "1234    [and, again, here, i, 'm, going, to, here, i, ...\n",
       "1235    [and, then, we, 're, just, going, to, sum, the...\n",
       "1236    [and, then, just, like, last, weekend, the, go...\n",
       "1237    [my, tips, for, this, week, are, again, to, re...\n",
       "1238    [so, the, two, techniques, that, we, 're, goin...\n",
       "1239    [and, in, blending, what, we, 're, going, to, ...\n",
       "1240    [then, what, we, 're, also, going, to, test, i...\n",
       "1241    [but, you, 're, free, to, design, the, state, ...\n",
       "1242    [now, my, tips, for, this, week, are, as, usua...\n",
       "1243                      [i, talked, about, progression]\n",
       "1244    [so, is, our, go, to, goal, vector, we, 're, a...\n",
       "1245    [and, just, a, quick, idea, what, are, these, ...\n",
       "1246             [the, first, one, is, dynamical, models]\n",
       "1247    [this, is, really, nothing, but, a, differenti...\n",
       "1248    [first, is, called, the, initial, condition, c...\n",
       "1249                       [what, are, dynamical, models]\n",
       "Name: Sentence, Length: 1250, dtype: object"
      ]
     },
     "execution_count": 113,
     "metadata": {},
     "output_type": "execute_result"
    }
   ],
   "source": [
    "#split a sent into its individual words\n",
    "def split_into_tokens(sent):\n",
    "    #sent = unicode(sent, 'utf8')  # convert bytes into proper unicode\n",
    "    return TextBlob(sent).words\n",
    "\n",
    "sentences.Sentence.apply(split_into_tokens)"
   ]
  },
  {
   "cell_type": "code",
   "execution_count": 114,
   "metadata": {},
   "outputs": [
    {
     "data": {
      "text/plain": [
       "0    [provided, some, condition, are, satisfied, th...\n",
       "1    [but, how, am, i, supposed, to, find, those, m...\n",
       "2    [we, 've, actually, alreaOMITTED, done, this, ...\n",
       "3                   [here, 's, a, frour-step, process]\n",
       "4    [first, differentiate, your, function, can, fi...\n",
       "Name: Sentence, dtype: object"
      ]
     },
     "execution_count": 114,
     "metadata": {},
     "output_type": "execute_result"
    }
   ],
   "source": [
    "# pre-processing\n",
    "def split_into_lemmas(sent):\n",
    "    words = TextBlob(sent).words\n",
    "    # for each word, take its \"base form\" = lemma \n",
    "    return [word.lemma for word in words]\n",
    "\n",
    "sentences.Sentence.head().apply(split_into_lemmas)"
   ]
  },
  {
   "cell_type": "code",
   "execution_count": 115,
   "metadata": {},
   "outputs": [
    {
     "name": "stdout",
     "output_type": "stream",
     "text": [
      "2135\n"
     ]
    }
   ],
   "source": [
    "# Data to vectors\n",
    "\n",
    "# convert each message, represented as a list of tokens (lemmas) above, \n",
    "# into a vector that machine learning models can understand\n",
    "\n",
    "bow_transformer = CountVectorizer(analyzer=split_into_lemmas).fit(sentences['Sentence'])\n",
    "print(len(bow_transformer.vocabulary_))"
   ]
  },
  {
   "cell_type": "code",
   "execution_count": 116,
   "metadata": {},
   "outputs": [
    {
     "name": "stdout",
     "output_type": "stream",
     "text": [
      "Nr of features:  2135\n",
      "Nr of features after cleaning:  2078\n"
     ]
    }
   ],
   "source": [
    "#message1000 = sentences['Sentence'][999]\n",
    "#print(message1000)\n",
    "#\n",
    "#bow1000 = bow_transformer.transform([message1000])\n",
    "#print(bow1000)\n",
    "#print(bow1000.shape)\n",
    "#print(\"OMITTED appears 3 times, i appears twice etc\")\n",
    "\n",
    "featureList = bow_transformer.get_feature_names()\n",
    "finalFeatureList = []\n",
    "\n",
    "def removeNumsFromFeatureList(featureList):\n",
    "    isNum = re.compile(\"[0-9]\")\n",
    "    hasApostrophe = re.compile(\"'\\w+\")\n",
    "        \n",
    "    for feat in featureList:\n",
    "        if isNum.match(feat): pass\n",
    "        elif hasApostrophe.match(feat): pass\n",
    "        elif \"OMITTED\" in feat.upper(): pass\n",
    "        elif \"NUMBER\" in feat.upper(): pass\n",
    "        elif (\"-\" or \"+\") in feat.upper(): pass\n",
    "        else: finalFeatureList.append(feat)\n",
    "\n",
    "print(\"Nr of features: \",len(featureList))\n",
    "removeNumsFromFeatureList(featureList)\n",
    "print(\"Nr of features after cleaning: \",len(finalFeatureList))\n",
    "\n",
    "#print(bow_transformer.get_feature_names()[5214])"
   ]
  },
  {
   "cell_type": "code",
   "execution_count": 123,
   "metadata": {
    "scrolled": true
   },
   "outputs": [
    {
     "name": "stdout",
     "output_type": "stream",
     "text": [
      "sparse matrix shape: (1250, 2135)\n",
      "number of non-zeros: 18191\n",
      "sparsity: 0.68%\n",
      "(1250, 2135)\n"
     ]
    }
   ],
   "source": [
    "sentences_bow = bow_transformer.transform(sentences['Sentence'])\n",
    "print('sparse matrix shape:', sentences_bow.shape)\n",
    "print('number of non-zeros:', sentences_bow.nnz)\n",
    "print('sparsity: %.2f%%' % (100.0 * sentences_bow.nnz / (sentences_bow.shape[0] * sentences_bow.shape[1])))\n",
    "\n",
    "#after the counting, the term weighting and normalization can be done with TF-IDF, using scikit-learn's TfidfTransformer\n",
    "tfidf_transformer = TfidfTransformer().fit(sentences_bow)\n",
    "#tfidf1000 = tfidf_transformer.transform(bow1000)\n",
    "#print(tfidf1451)\n",
    "\n",
    "# To transform the entire bag-of-words corpus into TF-IDF corpus at once:\n",
    "sentences_tfidf = tfidf_transformer.transform(sentences_bow)\n",
    "print(sentences_tfidf.shape)"
   ]
  },
  {
   "cell_type": "markdown",
   "metadata": {},
   "source": [
    "### RUN THE CLASSIFIER!"
   ]
  },
  {
   "cell_type": "code",
   "execution_count": 122,
   "metadata": {},
   "outputs": [
    {
     "name": "stdout",
     "output_type": "stream",
     "text": [
      "Wall time: 6.99 ms\n"
     ]
    }
   ],
   "source": [
    "# Using Multinomial Naive Bayes classifier\n",
    "%time label_classifier = MultinomialNB().fit(sentences_tfidf, sentences['Label'].fillna(\"\"))"
   ]
  },
  {
   "cell_type": "code",
   "execution_count": 121,
   "metadata": {},
   "outputs": [],
   "source": [
    "#print('Predicted:', label_classifier.predict(tfidf1000)[0])\n",
    "#print('Actual:', sentences.Label[999])"
   ]
  },
  {
   "cell_type": "code",
   "execution_count": 184,
   "metadata": {},
   "outputs": [
    {
     "name": "stdout",
     "output_type": "stream",
     "text": [
      "\n",
      "========Confusion matrix=========\n",
      " [[205  16   1  13  15]\n",
      " [  1 221   1  14  13]\n",
      " [ 16  18 184  11  21]\n",
      " [ 11  21   0 211   7]\n",
      " [  8  12   3  13 214]]\n",
      "(row=Actual, col=Predicted)\n",
      "\n",
      "_______________Multinomial Naive Bayes________________\n",
      "\n",
      "             precision    recall  f1-score   support\n",
      "\n",
      "         AP       0.85      0.82      0.84       250\n",
      "         CD       0.77      0.88      0.82       250\n",
      "         CM       0.97      0.74      0.84       250\n",
      "         EX       0.81      0.84      0.82       250\n",
      "         SM       0.79      0.86      0.82       250\n",
      "\n",
      "avg / total       0.84      0.83      0.83      1250\n",
      "\n",
      "Accuracy:\t 0.83\n",
      "______________________________________________________\n",
      "\n"
     ]
    }
   ],
   "source": [
    "all_predictions = label_classifier.predict(sentences_tfidf)\n",
    "#print(all_predictions)\n",
    "\n",
    "print('\\n========Confusion matrix=========\\n', confusion_matrix(sentences['Label'].fillna(\"\"), all_predictions))\n",
    "print('(row=Actual, col=Predicted)')\n",
    "\n",
    "print(\"\\n_______________Multinomial Naive Bayes________________\\n\")\n",
    "print(classification_report(sentences['Label'].fillna(\"\"), all_predictions))\n",
    "print('Accuracy:\\t {0:.2f}'.format(accuracy_score(sentences['Label'].fillna(\"\"), all_predictions)))\n",
    "print(\"______________________________________________________\\n\")"
   ]
  }
 ],
 "metadata": {
  "kernelspec": {
   "display_name": "Python 3",
   "language": "python",
   "name": "python3"
  },
  "language_info": {
   "codemirror_mode": {
    "name": "ipython",
    "version": 3
   },
   "file_extension": ".py",
   "mimetype": "text/x-python",
   "name": "python",
   "nbconvert_exporter": "python",
   "pygments_lexer": "ipython3",
   "version": "3.6.4"
  }
 },
 "nbformat": 4,
 "nbformat_minor": 2
}
