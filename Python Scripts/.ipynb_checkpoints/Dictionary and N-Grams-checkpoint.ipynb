{
 "cells": [
  {
   "cell_type": "markdown",
   "metadata": {},
   "source": [
    "### Plan of action\n",
    "- grab sentence by sentence file\n",
    "- split each sentence in n-grams (1-2-3-4)\n",
    "- compare n-grams with dictionary\n",
    "- if n-gram is contained in any of the dictionaries, grab the whole sentence and mark is as the respective \\_\\_label\\_\\_='whatever'\n",
    "- compare sentences, if they contain equivalent labels, merge them into a paragraph and put the label on it. Do until we reach a sentence with a different labels\n",
    "\n",
    "This will be the training data\n",
    "\n",
    "Test data will be 2-3 more courses I will find in sourcera and split the same way as my current data, \n",
    "will learn a classifier with it and try to classify them"
   ]
  },
  {
   "cell_type": "code",
   "execution_count": 59,
   "metadata": {},
   "outputs": [],
   "source": [
    "conceptdescr_dict = ['this research','refers to','last but not least','number one','number two','number three','drawback',\n",
    "              'advantages','disadvantages','benefits','drawbacks','defined','there are many types',\n",
    "               'important to understand','let\\'s look at','when we use the term','imagine that','refers to as',\n",
    "               'key concepts','this is a term','more specifically','helps to','is used to','makes it easier to',\n",
    "              'provide information about','when talking about','critical to understand','let\\'s take a look at',\n",
    "               'what is','crucial','can be used to','ensures','rule of thumb','consider','last but not least',\n",
    "                'topic of this','topic of today','one way to','another possibility is','next one is','problem','to address',\n",
    "                'want to do','different ways','approach is to','tries to','try to','topic is','method','task','in this way',\n",
    "                'we specify','by combining','results']\n",
    "\n",
    "conceptmention_dict = ['called','use the term','more specifically','this includes','activities surrounding','show you',\n",
    "                  'additionally','should include','types of','recommends','known as','known for','advantages to',\n",
    "                  'disadvantages to','benefits','drawbacks','plays a key role','refer to as','first one is',\n",
    "                  'we introduce','techniques','second one is','traditional','method','-based']\n",
    "\n",
    "application_dict = ['best practices','best practice','means that','practical benefit','sorts of things','good practices',\n",
    "               'best to','you should','you shouldn\\'t','may find that','can use','this is important', \n",
    "               'particularly importnant','is why','useful to','recommended that','consider','useful to']\n",
    "\n",
    "summary_dict = ['by the end of','as you know','have a good understanding','will begin by','will cover','well delve',\n",
    "           'will discuss','will be able to','will understand','to summarize','summary','take away','to conclude',\n",
    "          'as you know','introduced','be aware','we\\'ve looked at','last week we discussed','discuss how to',\n",
    "            'will describe','the goal']\n",
    "\n",
    "example_dict = ['example','there are many','many types','include','can see','hands on','includes','exemplar',\n",
    "          'prototype','sample','case','illustration','analogy','let\\'s think of','may want to','some of','most of',\n",
    "          'different types of','e.g.','for example','key aspects','key concepts','in other words',\n",
    "          'of these are','of them are','rather than','such as','pros and cons','a long list','various','for instance',\n",
    "          'it\\'s like','different ways','tried to','instead of']"
   ]
  },
  {
   "cell_type": "code",
   "execution_count": 67,
   "metadata": {},
   "outputs": [],
   "source": [
    "# Import all necessary modules for EVERYTHING here\n",
    "import os\n",
    "import sys\n",
    "import os.path\n",
    "import string\n",
    "import time\n",
    "\n",
    "import math\n",
    "from textblob import TextBlob as tb\n",
    "import nltk\n",
    "from nltk import word_tokenize, sent_tokenize\n",
    "from nltk.util import ngrams\n",
    "\n",
    "import re, string, unicodedata\n",
    "import contractions\n",
    "import inflect\n",
    "from bs4 import BeautifulSoup\n",
    "from tabulate import tabulate"
   ]
  },
  {
   "cell_type": "code",
   "execution_count": 58,
   "metadata": {},
   "outputs": [],
   "source": [
    "# 1,2,3,4 grams\n",
    "\n",
    "\"\"\"\n",
    "search for part of string in a string as:\n",
    "\n",
    "searchFor = 'THIS'.lower()\n",
    "for item in conceptmention_dict:\n",
    "    if searchFor in item:\n",
    "        print(\"found \\\"{}\\\" in \\\"{}\\\"\".format(searchFor,item))\n",
    "   \n",
    "just as a caution, if you have a string \"paratyphoid is bad\" \n",
    "and you do a if \"typhoid\" in \"paratyphoid is bad\" you will get a true\n",
    "\"\"\"\n",
    "\n",
    "searchFor = 'based'.lower()\n",
    "\n",
    "for item in conceptmention_dict:\n",
    "    if searchFor in item:\n",
    "        print(item+\" __label__=example\")"
   ]
  },
  {
   "cell_type": "code",
   "execution_count": 68,
   "metadata": {},
   "outputs": [
    {
     "data": {
      "text/plain": [
       "['our next topic',\n",
       " 'next topic is',\n",
       " 'topic is procedural',\n",
       " 'is procedural deformation',\n",
       " 'procedural deformation .',\n",
       " 'deformation . so',\n",
       " '. so ,',\n",
       " 'so , that',\n",
       " ', that what',\n",
       " 'that what we',\n",
       " 'what we introduce',\n",
       " 'we introduce here',\n",
       " 'introduce here is',\n",
       " 'here is called',\n",
       " 'is called procdef',\n",
       " 'called procdef or',\n",
       " 'procdef or local-to-global',\n",
       " 'or local-to-global deformation',\n",
       " 'local-to-global deformation for',\n",
       " 'deformation for skeleton-free',\n",
       " 'for skeleton-free character',\n",
       " 'skeleton-free character animation',\n",
       " 'character animation .',\n",
       " 'animation . so',\n",
       " '. so the',\n",
       " 'so the goal',\n",
       " 'the goal here',\n",
       " 'goal here is',\n",
       " 'here is design',\n",
       " 'is design a',\n",
       " 'design a flexible',\n",
       " 'a flexible character',\n",
       " 'flexible character animation',\n",
       " 'character animation such',\n",
       " 'animation such as',\n",
       " 'such as jelly',\n",
       " 'as jelly fish',\n",
       " 'jelly fish or',\n",
       " 'fish or worm',\n",
       " 'or worm ,',\n",
       " 'worm , or',\n",
       " ', or intestine',\n",
       " 'or intestine ,',\n",
       " 'intestine , like',\n",
       " ', like a',\n",
       " 'like a heart',\n",
       " 'a heart .']"
      ]
     },
     "execution_count": 68,
     "metadata": {},
     "output_type": "execute_result"
    }
   ],
   "source": [
    "def get_ngrams(text, n ):\n",
    "    n_grams = ngrams(word_tokenize(text), n)\n",
    "    return [ ' '.join(grams) for grams in n_grams]\n",
    "\n",
    "text = \"\"\"\n",
    "our next topic is procedural deformation.\n",
    "so, that what we introduce here is called procdef or local-to-global deformation for skeleton-free character animation.\n",
    "so the goal here is design a flexible character animation such as jelly fish or worm, or intestine, like a heart.\n",
    "\"\"\"\n",
    "get_ngrams(text,3)"
   ]
  }
 ],
 "metadata": {
  "kernelspec": {
   "display_name": "Python 3",
   "language": "python",
   "name": "python3"
  },
  "language_info": {
   "codemirror_mode": {
    "name": "ipython",
    "version": 3
   },
   "file_extension": ".py",
   "mimetype": "text/x-python",
   "name": "python",
   "nbconvert_exporter": "python",
   "pygments_lexer": "ipython3",
   "version": "3.6.4"
  }
 },
 "nbformat": 4,
 "nbformat_minor": 2
}
