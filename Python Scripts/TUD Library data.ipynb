{
 "cells": [
  {
   "cell_type": "markdown",
   "metadata": {},
   "source": [
    "### Data from TUD Library"
   ]
  },
  {
   "cell_type": "markdown",
   "metadata": {},
   "source": [
    "__From Manuel:__\n",
    "\n",
    "- The metadata I got from their OAI site\n",
    "http://oai.tudelft.nl/ir/\n",
    "\n",
    "- Sickle Documentation - http://sickle.readthedocs.io/en/latest/"
   ]
  },
  {
   "cell_type": "markdown",
   "metadata": {},
   "source": [
    " ### Theory OAI‐PMH (Open Archives Initiative Protocol for Metadata Harvesting)\n",
    "\n",
    "Currently, the basis of most interoperability efforts in the learning object repositories field, OAI‐PMH is a protocol for transferring over the web metadata about any material stored in electronic form. Compared with similar initiatives such as Z39.50 (which addresses issues such as session management, management of result sets and specification of predicates to filter out results), OAI was intentionally designed simple to reduce implementation complexity and therefore costs, facilitating its adoption. Nonetheless, this new protocol was designed for transferring large amounts of metadata, and thus provides a reasonable solution for clients that need to aggregate or index metadata\n",
    "\n",
    "Paper **Interlinking educational resources and the web of data : A survey of challenges and approaches**\n",
    "\n",
    "Alternatives\n",
    "- https://gist.github.com/lawlesst/1323535\n",
    "- https://pypi.org/project/oaiharvest/\n",
    "- https://github.com/infrae/pyoai"
   ]
  },
  {
   "cell_type": "code",
   "execution_count": 5,
   "metadata": {},
   "outputs": [
    {
     "ename": "NameError",
     "evalue": "name 'Sickle' is not defined",
     "output_type": "error",
     "traceback": [
      "\u001b[1;31m---------------------------------------------------------------------------\u001b[0m",
      "\u001b[1;31mNameError\u001b[0m                                 Traceback (most recent call last)",
      "\u001b[1;32m<ipython-input-5-646e845e2116>\u001b[0m in \u001b[0;36m<module>\u001b[1;34m()\u001b[0m\n\u001b[0;32m      3\u001b[0m \u001b[0mitems\u001b[0m \u001b[1;33m=\u001b[0m \u001b[1;33m{\u001b[0m\u001b[1;33m}\u001b[0m\u001b[1;33m\u001b[0m\u001b[0m\n\u001b[0;32m      4\u001b[0m \u001b[1;33m\u001b[0m\u001b[0m\n\u001b[1;32m----> 5\u001b[1;33m \u001b[0msickle\u001b[0m \u001b[1;33m=\u001b[0m \u001b[0mSickle\u001b[0m\u001b[1;33m(\u001b[0m\u001b[1;34m'http://oai.tudelft.nl/ir'\u001b[0m\u001b[1;33m)\u001b[0m\u001b[1;33m\u001b[0m\u001b[0m\n\u001b[0m\u001b[0;32m      6\u001b[0m \u001b[0mrecords\u001b[0m \u001b[1;33m=\u001b[0m \u001b[0msickle\u001b[0m\u001b[1;33m.\u001b[0m\u001b[0mListRecords\u001b[0m\u001b[1;33m(\u001b[0m \u001b[1;33m**\u001b[0m\u001b[1;33m{\u001b[0m\u001b[1;34m'metadataPrefix'\u001b[0m\u001b[1;33m:\u001b[0m \u001b[1;34m'oai_dc'\u001b[0m\u001b[1;33m,\u001b[0m \u001b[1;34m'ignore_deleted'\u001b[0m\u001b[1;33m:\u001b[0m \u001b[1;34m'True'\u001b[0m\u001b[1;33m}\u001b[0m\u001b[1;33m)\u001b[0m\u001b[1;33m\u001b[0m\u001b[0m\n\u001b[0;32m      7\u001b[0m \u001b[1;33m\u001b[0m\u001b[0m\n",
      "\u001b[1;31mNameError\u001b[0m: name 'Sickle' is not defined"
     ]
    }
   ],
   "source": [
    "import sickle\n",
    "\n",
    "items = {}\n",
    "\n",
    "sickle = Sickle('http://oai.tudelft.nl/ir')\n",
    "records = sickle.ListRecords( **{'metadataPrefix': 'oai_dc', 'ignore_deleted': 'True'})\n",
    "\n",
    "print('Processing metadata')\n",
    "\n",
    "for r in records:\n",
    "    uuid = ''\n",
    "    uuid = r.metadata['identifier'][0][32:]\n",
    "    items[uuid] = r.metadata"
   ]
  }
 ],
 "metadata": {
  "kernelspec": {
   "display_name": "Python 3",
   "language": "python",
   "name": "python3"
  },
  "language_info": {
   "codemirror_mode": {
    "name": "ipython",
    "version": 3
   },
   "file_extension": ".py",
   "mimetype": "text/x-python",
   "name": "python",
   "nbconvert_exporter": "python",
   "pygments_lexer": "ipython3",
   "version": "3.6.4"
  }
 },
 "nbformat": 4,
 "nbformat_minor": 2
}
