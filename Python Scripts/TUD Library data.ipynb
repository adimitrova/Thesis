{
 "cells": [
  {
   "cell_type": "markdown",
   "metadata": {},
   "source": [
    "### Data from TUD Library"
   ]
  },
  {
   "cell_type": "markdown",
   "metadata": {},
   "source": [
    "__From Manuel:__\n",
    "\n",
    "- The metadata I got from their OAI site\n",
    "http://oai.tudelft.nl/ir/\n",
    "\n",
    "- Sickle Documentation - http://sickle.readthedocs.io/en/latest/"
   ]
  },
  {
   "cell_type": "markdown",
   "metadata": {},
   "source": [
    " ### Theory OAI‐PMH (Open Archives Initiative Protocol for Metadata Harvesting)\n",
    "\n",
    "Currently, the basis of most interoperability efforts in the learning object repositories field, OAI‐PMH is a protocol for transferring over the web metadata about any material stored in electronic form. Compared with similar initiatives such as Z39.50 (which addresses issues such as session management, management of result sets and specification of predicates to filter out results), OAI was intentionally designed simple to reduce implementation complexity and therefore costs, facilitating its adoption. Nonetheless, this new protocol was designed for transferring large amounts of metadata, and thus provides a reasonable solution for clients that need to aggregate or index metadata\n",
    "\n",
    "Paper **Interlinking educational resources and the web of data : A survey of challenges and approaches**\n",
    "\n",
    "Alternatives\n",
    "- https://gist.github.com/lawlesst/1323535\n",
    "- https://pypi.org/project/oaiharvest/\n",
    "- https://github.com/infrae/pyoai\n",
    "\n",
    "Set the IOPub data rate limit: https://github.com/jupyter/notebook/issues/2287\n",
    "\n",
    "run `jupyter notebook --NotebookApp.iopub_data_rate_limit=10000000000`\n",
    "\n",
    "To change this limit, set the config variable\n",
    "`--NotebookApp.iopub_data_rate_limit`.\n",
    "\n",
    "Current values:\n",
    "\n",
    "NotebookApp.iopub_data_rate_limit=1000000.0 (bytes/sec)\n",
    "\n",
    "NotebookApp.rate_limit_window=3.0 (secs)"
   ]
  },
  {
   "cell_type": "code",
   "execution_count": 2,
   "metadata": {},
   "outputs": [],
   "source": [
    "from sickle import Sickle"
   ]
  },
  {
   "cell_type": "code",
   "execution_count": 4,
   "metadata": {},
   "outputs": [],
   "source": [
    "sickle = Sickle('http://oai.tudelft.nl/ir')\n",
    "records = sickle.ListRecords( **{'metadataPrefix': 'oai_dc', 'ignore_deleted': 'True'})\n",
    "\n",
    "oFilePath = r\"C:\\Users\\a.dimitrova\\Desktop\\Course data Thesis\\TUDelftLibMetadataPART.xml\"\n",
    "\n",
    "with open(oFilePath, 'w', encoding = \"utf-8\") as oFile:\n",
    "    for i,rec in enumerate(records):\n",
    "        #print(rec.header)\n",
    "        # extract only 1/3rd of the data as the file is too big otherwise (150 mb)\n",
    "        if i % 3 == 0:\n",
    "            oFile.write(str(rec))"
   ]
  },
  {
   "cell_type": "code",
   "execution_count": null,
   "metadata": {},
   "outputs": [
    {
     "name": "stdout",
     "output_type": "stream",
     "text": [
      "Processing metadata\n"
     ]
    }
   ],
   "source": [
    "items = {}\n",
    "\n",
    "sickle = Sickle('http://oai.tudelft.nl/ir')\n",
    "records = sickle.ListRecords( **{'metadataPrefix': 'oai_dc', 'ignore_deleted': 'True'})\n",
    "\n",
    "print('Processing metadata')\n",
    "\n",
    "for r in records:\n",
    "    uuid = ''\n",
    "    uuid = r.metadata['identifier'][0][32:]\n",
    "    items[uuid] = r.metadata\n",
    "\n",
    "print(len(items))\n",
    "print(items)"
   ]
  },
  {
   "cell_type": "code",
   "execution_count": null,
   "metadata": {},
   "outputs": [],
   "source": [
    "from oaipmh.client import Client\n",
    "from oaipmh.metadata import MetadataRegistry, oai_dc_reader\n",
    "\n",
    "URL = 'http://oai.tudelft.nl/ir'\n",
    "\n",
    "registry = MetadataRegistry()\n",
    "registry.registerReader('oai_dc', oai_dc_reader)\n",
    "client = Client(URL, registry)\n",
    "\n",
    "for record in client.listRecords(metadataPrefix='oai_dc'):\n",
    "   print(record)"
   ]
  }
 ],
 "metadata": {
  "kernelspec": {
   "display_name": "Python 3",
   "language": "python",
   "name": "python3"
  },
  "language_info": {
   "codemirror_mode": {
    "name": "ipython",
    "version": 3
   },
   "file_extension": ".py",
   "mimetype": "text/x-python",
   "name": "python",
   "nbconvert_exporter": "python",
   "pygments_lexer": "ipython3",
   "version": "3.6.4"
  }
 },
 "nbformat": 4,
 "nbformat_minor": 2
}
