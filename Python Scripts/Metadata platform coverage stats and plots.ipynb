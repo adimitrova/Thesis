{
 "cells": [
  {
   "cell_type": "code",
   "execution_count": 15,
   "metadata": {},
   "outputs": [],
   "source": [
    "from texttable import Texttable\n",
    "import pandas as pd\n",
    "import matplotlib.pyplot as plt\n",
    "\n",
    "from sklearn import svm, datasets\n",
    "from sklearn.metrics import roc_curve, auc\n",
    "from sklearn.model_selection import train_test_split\n",
    "from sklearn.multiclass import OneVsRestClassifier"
   ]
  },
  {
   "cell_type": "markdown",
   "metadata": {},
   "source": [
    "## Stats Metadata"
   ]
  },
  {
   "cell_type": "code",
   "execution_count": null,
   "metadata": {},
   "outputs": [],
   "source": [
    "totalD,totalT,totalE,totalU,totalA = 12,12,12,4,6\n",
    "totalAll = totalD+totalT+totalE+totalU\n",
    "\n",
    "edxD, edxT, edxE, edxU, edxA = 7,7,3,2,2\n",
    "edxTotal = edxD+edxT+edxE+edxU+edxA\n",
    "edxA_cov = (edxA / totalA) * 100\n",
    "edxD_cov = (edxD / totalD) * 100\n",
    "edxT_cov = (edxT / totalT) * 100\n",
    "edxE_cov = (edxE / totalE) * 100\n",
    "edxU_cov = (edxU / totalU) * 100\n",
    "edxAll_cov = (edxTotal / totalAll) * 100\n",
    "\n",
    "tudD, tudT, tudE, tudU, tudA = 2,4,0,0,4\n",
    "tudTotal = tudD + tudT + tudE + tudU + tudA\n",
    "tudA_cov = (tudA / totalA) * 100\n",
    "tudD_cov = (tudD / totalD) * 100\n",
    "tudT_cov = (tudT / totalT) * 100\n",
    "tudE_cov = (tudE / totalE) * 100\n",
    "tudU_cov = (tudU / totalU) * 100\n",
    "tudAll_cov = (tudTotal / totalAll) * 100\n",
    "\n",
    "udemyD, udemyT, udemyE, udemyU, udemyA = 6,4,7,0,3\n",
    "udemyTotal = udemyD + udemyT + udemyE + udemyU + udemyA\n",
    "udemyA_cov = (udemyA / totalA) * 100\n",
    "udemyD_cov = (udemyD / totalD) * 100\n",
    "udemyT_cov = (udemyT / totalT) * 100\n",
    "udemyE_cov = (udemyE / totalE) * 100\n",
    "udemyU_cov = (udemyU / totalU) * 100\n",
    "udemyAll_cov = (udemyTotal / totalAll) * 100\n",
    "\n",
    "udacityD, udacityT, udacityE, udacityU, udacityA = 4,4,4,0,1\n",
    "udacityTotal = udacityD + udacityT + udacityE + udacityU + udacityA\n",
    "udacityA_cov = (udacityA / totalA) * 100\n",
    "udacityD_cov = (udacityD / totalD) * 100\n",
    "udacityT_cov = (udacityT / totalT) * 100\n",
    "udacityE_cov = (udacityE / totalE) * 100\n",
    "udacityU_cov = (udacityU / totalU) * 100\n",
    "udacityAll_cov = (udacityTotal / totalAll) * 100\n",
    "\n",
    "lyndaD, lyndaT, lyndaE, lyndaU, lyndaA = 5,3,4,0,4\n",
    "lyndaTotal = lyndaD + lyndaT + lyndaE + lyndaU + lyndaA\n",
    "lyndaA_cov = (lyndaA / totalA) * 100\n",
    "lyndaD_cov = (lyndaD / totalD) * 100\n",
    "lyndaT_cov = (lyndaT / totalT) * 100\n",
    "lyndaE_cov = (lyndaE / totalE) * 100\n",
    "lyndaU_cov = (lyndaU / totalU) * 100\n",
    "lyndaAll_cov = (lyndaTotal / totalAll) * 100\n",
    "\n",
    "coursD, coursT, coursE, coursU, coursA = 7,4,5,1,1\n",
    "coursTotal = coursD + coursT + coursE + coursU + coursA\n",
    "coursA_cov = (coursA / totalA) * 100\n",
    "coursD_cov = (coursD / totalD) * 100\n",
    "coursT_cov = (coursT / totalT) * 100\n",
    "coursE_cov = (coursE / totalE) * 100\n",
    "coursU_cov = (coursU / totalU) * 100\n",
    "coursAll_cov = (coursTotal / totalAll) * 100\n",
    "\n",
    "khanD, khanT, khanE, khanU, khanA = 4,7,2,4,3\n",
    "khanTotal = khanD + khanT + khanE + khanU + khanA\n",
    "khanA_cov = (khanA / totalA) * 100\n",
    "khanD_cov = (khanD / totalD) * 100\n",
    "khanT_cov = (khanT / totalT) * 100\n",
    "khanE_cov = (khanE / totalE) * 100\n",
    "khanU_cov = (khanU / totalU) * 100\n",
    "khanAll_cov = (khanTotal / totalAll) * 100\n",
    "\n",
    "table = Texttable()\n",
    "table.set_cols_align([\"c\", \"c\", \"c\", \"c\", \"c\", \"c\", \"c\"])\n",
    "table.set_cols_width([15,13,13,13,14,13,13])\n",
    "table.add_rows([['Platform', 'Descriptional','Technical','Educational','Administrative','User-related','Average'],\n",
    "                ['TUDelft Library','{0:.2f} %'.format(tudD_cov),'{0:.2f} %'.format(tudT_cov),'{0:.2f} %'.format(tudE_cov),'{0:.2f} %'.format(tudA_cov),'{0:.2f} %'.format(tudU_cov),'{0:.2f} %'.format(tudAll_cov)],\n",
    "                ['eDX','{0:.2f} %'.format(edxD_cov),'{0:.2f} %'.format(edxT_cov),'{0:.2f} %'.format(edxE_cov),'{0:.2f} %'.format(edxA_cov),'{0:.2f} %'.format(edxU_cov),'{0:.2f} %'.format(edxAll_cov)],\n",
    "                ['Udemy','{0:.2f} %'.format(udemyD_cov),'{0:.2f} %'.format(udemyT_cov),'{0:.2f} %'.format(udemyE_cov),'{0:.2f} %'.format(udemyA_cov),'{0:.2f} %'.format(udemyU_cov),'{0:.2f} %'.format(udemyAll_cov)],\n",
    "                ['Udacity','{0:.2f} %'.format(udacityD_cov),'{0:.2f} %'.format(udacityT_cov),'{0:.2f} %'.format(udacityE_cov),'{0:.2f} %'.format(udacityA_cov),'{0:.2f} %'.format(udacityU_cov),'{0:.2f} %'.format(udacityAll_cov)],\n",
    "                ['Lynda','{0:.2f} %'.format(lyndaD_cov),'{0:.2f} %'.format(lyndaT_cov),'{0:.2f} %'.format(lyndaE_cov),'{0:.2f} %'.format(lyndaA_cov),'{0:.2f} %'.format(lyndaU_cov),'{0:.2f} %'.format(lyndaAll_cov)],\n",
    "                ['Coursera','{0:.2f} %'.format(coursD_cov),'{0:.2f} %'.format(coursT_cov),'{0:.2f} %'.format(coursE_cov),'{0:.2f} %'.format(coursA_cov),'{0:.2f} %'.format(coursU_cov),'{0:.2f} %'.format(coursAll_cov)],\n",
    "                ['Khan Academy','{0:.2f} %'.format(khanD_cov),'{0:.2f} %'.format(khanT_cov),'{0:.2f} %'.format(khanE_cov),'{0:.2f} %'.format(khanA_cov),'{0:.2f} %'.format(khanU_cov),'{0:.2f} %'.format(khanAll_cov)],])\n",
    "#print(table.draw())   \n",
    "\n",
    "imagepath = r\"C:\\Users\\ani\\Github\\Thesis\\Python Scripts\\plots\""
   ]
  },
  {
   "cell_type": "code",
   "execution_count": null,
   "metadata": {
    "scrolled": true
   },
   "outputs": [],
   "source": [
    "# All Platforms average\n",
    "platform = ['TUDelft Library','eDX','Udemy','Udacity','Lynda','Coursera','Khan Academy']\n",
    "data = [int(tudAll_cov),int(edxAll_cov),int(udacityAll_cov),int(udacityAll_cov),int(lyndaAll_cov),int(coursAll_cov),int(khanAll_cov)]\n",
    "\n",
    "data_ser = pd.Series(data, index=platform)\n",
    "data_ser.plot(x='coverage',kind='barh',xlim=(0,100),figsize=(10, 5),title=\"Coverage by platform\")\n",
    "\n",
    "plt.xlabel('% Coverage <ALL>')\n",
    "plt.ylabel('Platform')\n",
    "plt.savefig(imagepath+'\\\\platformCoverage.png',bbox_inches=\"tight\")"
   ]
  },
  {
   "cell_type": "code",
   "execution_count": null,
   "metadata": {
    "scrolled": true
   },
   "outputs": [],
   "source": [
    "#TuDelft\n",
    "mdtype = ['Descriptive','Technical','Educational','Administrative','User-related','Average']\n",
    "data = [tudD_cov,tudT_cov,tudE_cov,tudA_cov,tudU_cov,tudAll_cov]\n",
    "\n",
    "data_ser = pd.Series(data, index=mdtype)\n",
    "data_ser.plot(x='coverage',kind='barh',xlim=(0,100),figsize=(10, 5),title=\"TU Delft Library\")\n",
    "\n",
    "plt.xlabel('% Coverage')\n",
    "plt.ylabel('Type of Metadata')\n",
    "plt.savefig(imagepath+'\\\\tudTypes.png',bbox_inches=\"tight\")"
   ]
  },
  {
   "cell_type": "code",
   "execution_count": null,
   "metadata": {},
   "outputs": [],
   "source": [
    "#edx\n",
    "mdtype = ['Descriptive','Technical','Educational','Administrative','User-related','Average']\n",
    "data = [edxD_cov,edxT_cov,edxE_cov,edxA_cov,edxU_cov,edxAll_cov]\n",
    "\n",
    "data_ser = pd.Series(data, index=mdtype)\n",
    "data_ser.plot(x='coverage',kind='barh',xlim=(0,100),figsize=(10, 5),title=\"edX\")\n",
    "\n",
    "plt.xlabel('% Coverage')\n",
    "plt.ylabel('Type of Metadata')\n",
    "plt.savefig(imagepath+'\\\\edxTypes.png',bbox_inches=\"tight\")"
   ]
  },
  {
   "cell_type": "code",
   "execution_count": null,
   "metadata": {},
   "outputs": [],
   "source": [
    "#udemy\n",
    "mdtype = ['Descriptive','Technical','Educational','Administrative','User-related','Average']\n",
    "data = [udemyD_cov,udemyT_cov,udemyE_cov,udemyA_cov,udemyU_cov,udemyAll_cov]\n",
    "\n",
    "data_ser = pd.Series(data, index=mdtype)\n",
    "data_ser.plot(x='coverage',kind='barh',xlim=(0,100),figsize=(10, 5),title=\"Udemy\")\n",
    "plt.xlabel('% Coverage')\n",
    "plt.ylabel('Type of Metadata')\n",
    "plt.savefig(imagepath+'\\\\udemyTypes.png',bbox_inches=\"tight\")"
   ]
  },
  {
   "cell_type": "code",
   "execution_count": null,
   "metadata": {},
   "outputs": [],
   "source": [
    "#Udacity\n",
    "mdtype = ['Descriptive','Technical','Educational','Administrative','User-related','Average']\n",
    "data = [udacityD_cov,udacityT_cov,udacityE_cov,udacityA_cov,udacityU_cov,udacityAll_cov]\n",
    "\n",
    "data_ser = pd.Series(data, index=mdtype)\n",
    "data_ser.plot(x='coverage',kind='barh',xlim=(0,100),figsize=(10, 5),title=\"Udacity\")\n",
    "\n",
    "plt.xlabel('% Coverage')\n",
    "plt.ylabel('Type of Metadata')\n",
    "plt.savefig(imagepath+'\\\\udacityTypes.png',bbox_inches=\"tight\")"
   ]
  },
  {
   "cell_type": "code",
   "execution_count": null,
   "metadata": {
    "scrolled": true
   },
   "outputs": [],
   "source": [
    "#Lynda\n",
    "mdtype = ['Descriptive','Technical','Educational','Administrative','User-related','Average']\n",
    "data = [lyndaD_cov,lyndaT_cov,lyndaE_cov,lyndaA_cov,lyndaU_cov,lyndaAll_cov]\n",
    "\n",
    "data_ser = pd.Series(data, index=mdtype)\n",
    "data_ser.plot(x='coverage',kind='barh',xlim=(0,100),figsize=(10, 5),title=\"Lynda\")\n",
    "\n",
    "plt.xlabel('% Coverage')\n",
    "plt.ylabel('Type of Metadata')\n",
    "plt.savefig(imagepath+'\\\\lyndaTypes.png',bbox_inches=\"tight\")"
   ]
  },
  {
   "cell_type": "code",
   "execution_count": null,
   "metadata": {},
   "outputs": [],
   "source": [
    "#Coursera\n",
    "mdtype = ['Descriptive','Technical','Educational','Administrative','User-related','Average']\n",
    "data = [coursD_cov,coursT_cov,coursE_cov,coursA_cov,coursU_cov,coursAll_cov]\n",
    "\n",
    "data_ser = pd.Series(data, index=mdtype)\n",
    "data_ser.plot(x='coverage',kind='barh',xlim=(0,100),figsize=(10, 5),title=\"Coursera\")\n",
    "\n",
    "plt.xlabel('% Coverage')\n",
    "plt.ylabel('Type of Metadata')\n",
    "plt.savefig(imagepath+'\\\\CourseraTypes.png',bbox_inches=\"tight\")"
   ]
  },
  {
   "cell_type": "code",
   "execution_count": null,
   "metadata": {
    "scrolled": true
   },
   "outputs": [],
   "source": [
    "# Khan Academy\n",
    "mdtype = ['Descriptive','Technical','Educational','Administrative','User-related','Average']\n",
    "data = [khanD_cov,khanT_cov,khanE_cov,khanA_cov,khanU_cov,khanAll_cov]\n",
    "\n",
    "data_ser = pd.Series(data, index=mdtype)\n",
    "data_ser.plot(x='coverage',kind='barh',xlim=(0,100),figsize=(10, 5),title=\"Khan Academy\")\n",
    "\n",
    "plt.xlabel('% Coverage')\n",
    "plt.ylabel('Type of Metadata')\n",
    "plt.savefig(imagepath+'\\\\khanTypes.png',bbox_inches=\"tight\")"
   ]
  },
  {
   "cell_type": "markdown",
   "metadata": {
    "heading_collapsed": true
   },
   "source": [
    "### ----------------------------------------- by type -------------------------------------------"
   ]
  },
  {
   "cell_type": "code",
   "execution_count": null,
   "metadata": {
    "hidden": true
   },
   "outputs": [],
   "source": [
    "def avg(listOfItems):\n",
    "    return sum(listOfItems, 0.0) / len(listOfItems)"
   ]
  },
  {
   "cell_type": "code",
   "execution_count": null,
   "metadata": {
    "hidden": true
   },
   "outputs": [],
   "source": [
    "# Descriptive\n",
    "mdtype = ['Descriptive','Technical','Educational','Administrative','User-related']\n",
    "descr = (tudD_cov,edxD_cov,udacityD_cov,udemyD_cov,lyndaD_cov,coursD_cov,khanD_cov)\n",
    "tech = (tudT_cov,edxT_cov,udacityT_cov,udemyT_cov,lyndaT_cov,coursT_cov,khanT_cov)\n",
    "adm = (tudA_cov,edxA_cov,udacityA_cov,udemyA_cov,lyndaA_cov,coursA_cov,khanA_cov)\n",
    "edu = (tudE_cov,edxE_cov,udacityE_cov,udemyE_cov,lyndaE_cov,coursE_cov,khanE_cov)\n",
    "usr = (tudU_cov,edxU_cov,udacityU_cov,udemyU_cov,lyndaU_cov,coursU_cov,khanU_cov)\n",
    "data = [avg(descr),avg(tech),avg(edu),avg(adm),avg(usr)]\n",
    "\n",
    "data_ser = pd.Series(data, index=mdtype)\n",
    "data_ser.plot(x='coverage',kind='barh',xlim=(0,100),figsize=(10, 5),title=\"Coverage by type\")\n",
    "\n",
    "plt.xlabel('% Coverage')\n",
    "plt.ylabel('Type of Metadata')\n",
    "plt.savefig(imagepath+'\\\\byTypeCovH.png',bbox_inches=\"tight\")"
   ]
  },
  {
   "cell_type": "markdown",
   "metadata": {},
   "source": [
    "## Stats - intent mining classification with RULES"
   ]
  },
  {
   "cell_type": "code",
   "execution_count": 3,
   "metadata": {},
   "outputs": [
    {
     "name": "stdout",
     "output_type": "stream",
     "text": [
      "+-----------------+---------------+---------------+---------------+----------------+\n",
      "|                 |      TP       |      TN       |      FP       |       FN       |\n",
      "+=================+===============+===============+===============+================+\n",
      "|       CM        |      55       |     8036      |      42       |      249       |\n",
      "+-----------------+---------------+---------------+---------------+----------------+\n",
      "|       CD        |     4740      |     1244      |      517      |      1881      |\n",
      "+-----------------+---------------+---------------+---------------+----------------+\n",
      "|       AP        |      95       |     7316      |      748      |      223       |\n",
      "+-----------------+---------------+---------------+---------------+----------------+\n",
      "|       SM        |      251      |     7216      |      596      |      319       |\n",
      "+-----------------+---------------+---------------+---------------+----------------+\n",
      "|       EX        |      283      |     6761      |     1055      |      283       |\n",
      "+-----------------+---------------+---------------+---------------+----------------+\n"
     ]
    }
   ],
   "source": [
    "CM_tp,CM_tn,CM_fp,CM_fn = 55,8036,42,249\n",
    "CD_tp,CD_tn,CD_fp,CD_fn = 4740,1244,517,1881\n",
    "AP_tp,AP_tn,AP_fp,AP_fn = 95,7316,748,223\n",
    "SM_tp,SM_tn,SM_fp,SM_fn = 251,7216,596,319\n",
    "EX_tp,EX_tn,EX_fp,EX_fn = 283,6761,1055,283\n",
    "\n",
    "CM_prec, CM_rec, CM_f1, CM_acc = 0.57,0.18,0.27,0.97\n",
    "CD_prec, CD_rec, CD_f1, CD_acc = 0.90,0.72,0.80,0.71\n",
    "AP_prec, AP_rec, AP_f1, AP_acc = 0.11,0.30,0.16,0.88\n",
    "SM_prec, SM_rec, SM_f1, SM_acc = 0.30,0.44,0.35,0.89\n",
    "EX_prec, EX_rec, EX_f1, EX_acc = 0.21,0.50,0.30,0.84\n",
    "\n",
    "prec_avg = (CM_prec+CD_prec+AP_prec+SM_prec+EX_prec) / 5\n",
    "rec_avg = (CM_rec+CD_rec+AP_rec+SM_rec+EX_rec) / 5\n",
    "f1_avg = (CM_f1+CD_f1+AP_f1+SM_f1+EX_f1) / 5\n",
    "acc_avg = (CM_acc+CD_acc+AP_acc+SM_acc+EX_acc) / 5\n",
    "\n",
    "table = Texttable()\n",
    "table.set_cols_align([\"c\", \"c\", \"c\", \"c\", \"c\"])\n",
    "table.set_cols_width([15,13,13,13,14])\n",
    "table.add_rows([['', 'TP','TN','FP','FN'],\n",
    "                ['CM',CM_tp,CM_tn,CM_fp,CM_fn],\n",
    "                ['CD',CD_tp,CD_tn,CD_fp,CD_fn],\n",
    "                ['AP',AP_tp,AP_tn,AP_fp,AP_fn],\n",
    "                ['SM',SM_tp,SM_tn,SM_fp,SM_fn],\n",
    "                ['EX',EX_tp,EX_tn,EX_fp,EX_fn]])\n",
    "print(table.draw())   \n",
    "\n",
    "imagepath = r\"C:\\Users\\ani\\Desktop\\Course data Thesis\\PLOTS\""
   ]
  },
  {
   "cell_type": "code",
   "execution_count": null,
   "metadata": {},
   "outputs": [],
   "source": [
    "header = ['Precision','Recall','F1','Accuracy']\n",
    "data = [CM_prec, CM_rec, CM_f1, CM_acc]\n",
    "\n",
    "data_ser = pd.Series(data, index=header)\n",
    "data_ser.plot(x='coverage',kind='barh',xlim=(0,1),figsize=(5, 5),title=\"CM_Stats\")\n",
    "\n",
    "plt.savefig(imagepath+'\\\\CM_Stats.png',bbox_inches=\"tight\")"
   ]
  },
  {
   "cell_type": "code",
   "execution_count": null,
   "metadata": {},
   "outputs": [],
   "source": [
    "header = ['Precision','Recall','F1','Accuracy']\n",
    "data = [CD_prec, CD_rec, CD_f1, CD_acc]\n",
    "\n",
    "data_ser = pd.Series(data, index=header)\n",
    "data_ser.plot(x='coverage',kind='barh',xlim=(0,1),figsize=(5, 5),title=\"CD_Stats\")\n",
    "\n",
    "plt.savefig(imagepath+'\\\\CD_Stats.png',bbox_inches=\"tight\")"
   ]
  },
  {
   "cell_type": "code",
   "execution_count": null,
   "metadata": {},
   "outputs": [],
   "source": [
    "header = ['Precision','Recall','F1','Accuracy']\n",
    "data = [CD_prec, CD_rec, CD_f1, CD_acc]\n",
    "\n",
    "data_ser = pd.Series(data, index=header)\n",
    "data_ser.plot(x='coverage',kind='barh',xlim=(0,1),figsize=(5, 5),title=\"CD_Stats\")\n",
    "\n",
    "plt.savefig(imagepath+'\\\\CD_Stats.png',bbox_inches=\"tight\")"
   ]
  },
  {
   "cell_type": "code",
   "execution_count": null,
   "metadata": {},
   "outputs": [],
   "source": [
    "header = ['Precision','Recall','F1','Accuracy']\n",
    "data = [AP_prec, AP_rec, AP_f1, AP_acc]\n",
    "\n",
    "data_ser = pd.Series(data, index=header)\n",
    "data_ser.plot(x='coverage',kind='barh',xlim=(0,1),figsize=(5, 5),title=\"AP_Stats\")\n",
    "\n",
    "plt.savefig(imagepath+'\\\\AP_Stats.png',bbox_inches=\"tight\")"
   ]
  },
  {
   "cell_type": "code",
   "execution_count": null,
   "metadata": {},
   "outputs": [],
   "source": [
    "header = ['Precision','Recall','F1','Accuracy']\n",
    "data = [SM_prec, SM_rec, SM_f1, SM_acc]\n",
    "\n",
    "data_ser = pd.Series(data, index=header)\n",
    "data_ser.plot(x='coverage',kind='barh',xlim=(0,1),figsize=(5, 5),title=\"SM_Stats\")\n",
    "\n",
    "plt.savefig(imagepath+'\\\\SM_Stats.png',bbox_inches=\"tight\")"
   ]
  },
  {
   "cell_type": "code",
   "execution_count": null,
   "metadata": {},
   "outputs": [],
   "source": [
    "header = ['Precision','Recall','F1','Accuracy']\n",
    "data = [EX_prec, EX_rec, EX_f1, EX_acc]\n",
    "\n",
    "data_ser = pd.Series(data, index=header)\n",
    "data_ser.plot(x='coverage',kind='barh',xlim=(0,1),figsize=(5, 5),title=\"EX_Stats\")\n",
    "\n",
    "plt.savefig(imagepath+'\\\\EX_Stats.png',bbox_inches=\"tight\")"
   ]
  },
  {
   "cell_type": "code",
   "execution_count": null,
   "metadata": {},
   "outputs": [],
   "source": [
    "header = ['Precision','Recall','F1','Accuracy']\n",
    "data = [prec_avg,rec_avg,f1_avg,acc_avg]\n",
    "\n",
    "data_ser = pd.Series(data, index=header)\n",
    "data_ser.plot(kind='barh',xlim=(0,1),figsize=(5, 5),title=\"Avg_All_Stats\")\n",
    "\n",
    "plt.savefig(imagepath+'\\\\Avg_All_Stats_square.png',bbox_inches=\"tight\")"
   ]
  },
  {
   "cell_type": "code",
   "execution_count": 11,
   "metadata": {},
   "outputs": [
    {
     "ename": "TypeError",
     "evalue": "data type not understood",
     "output_type": "error",
     "traceback": [
      "\u001b[1;31m---------------------------------------------------------------------------\u001b[0m",
      "\u001b[1;31mTypeError\u001b[0m                                 Traceback (most recent call last)",
      "\u001b[1;32m<ipython-input-11-ea1b15ebf200>\u001b[0m in \u001b[0;36m<module>\u001b[1;34m()\u001b[0m\n\u001b[0;32m     10\u001b[0m \u001b[1;33m\u001b[0m\u001b[0m\n\u001b[0;32m     11\u001b[0m \u001b[1;33m\u001b[0m\u001b[0m\n\u001b[1;32m---> 12\u001b[1;33m \u001b[0minfo\u001b[0m \u001b[1;33m=\u001b[0m \u001b[0mpd\u001b[0m\u001b[1;33m.\u001b[0m\u001b[0mSeries\u001b[0m\u001b[1;33m(\u001b[0m\u001b[1;33m[\u001b[0m\u001b[0mCM_tp\u001b[0m\u001b[1;33m,\u001b[0m\u001b[0mCM_tn\u001b[0m\u001b[1;33m,\u001b[0m\u001b[0mCM_fp\u001b[0m\u001b[1;33m,\u001b[0m\u001b[0mCM_fn\u001b[0m\u001b[1;33m]\u001b[0m\u001b[1;33m,\u001b[0m\u001b[1;33m[\u001b[0m\u001b[0mCD_tp\u001b[0m\u001b[1;33m,\u001b[0m\u001b[0mCD_tn\u001b[0m\u001b[1;33m,\u001b[0m\u001b[0mCD_fp\u001b[0m\u001b[1;33m,\u001b[0m\u001b[0mCD_fn\u001b[0m\u001b[1;33m]\u001b[0m\u001b[1;33m,\u001b[0m\u001b[1;33m[\u001b[0m\u001b[0mAP_tp\u001b[0m\u001b[1;33m,\u001b[0m\u001b[0mAP_tn\u001b[0m\u001b[1;33m,\u001b[0m\u001b[0mAP_fp\u001b[0m\u001b[1;33m,\u001b[0m\u001b[0mAP_fn\u001b[0m\u001b[1;33m]\u001b[0m\u001b[1;33m,\u001b[0m\u001b[1;33m[\u001b[0m\u001b[0mSM_tp\u001b[0m\u001b[1;33m,\u001b[0m\u001b[0mSM_tn\u001b[0m\u001b[1;33m,\u001b[0m\u001b[0mSM_fp\u001b[0m\u001b[1;33m,\u001b[0m\u001b[0mSM_fn\u001b[0m\u001b[1;33m]\u001b[0m\u001b[1;33m,\u001b[0m\u001b[1;33m[\u001b[0m\u001b[0mEX_tp\u001b[0m\u001b[1;33m,\u001b[0m\u001b[0mEX_tn\u001b[0m\u001b[1;33m,\u001b[0m\u001b[0mEX_fp\u001b[0m\u001b[1;33m,\u001b[0m\u001b[0mEX_fn\u001b[0m\u001b[1;33m]\u001b[0m\u001b[1;33m)\u001b[0m\u001b[1;33m\u001b[0m\u001b[0m\n\u001b[0m\u001b[0;32m     13\u001b[0m \u001b[1;33m\u001b[0m\u001b[0m\n\u001b[0;32m     14\u001b[0m \u001b[0mheader\u001b[0m \u001b[1;33m=\u001b[0m \u001b[1;33m[\u001b[0m\u001b[1;34m'Precision'\u001b[0m\u001b[1;33m,\u001b[0m\u001b[1;34m'Recall'\u001b[0m\u001b[1;33m]\u001b[0m\u001b[1;33m\u001b[0m\u001b[0m\n",
      "\u001b[1;32m~\\Anaconda3\\lib\\site-packages\\pandas\\core\\series.py\u001b[0m in \u001b[0;36m__init__\u001b[1;34m(self, data, index, dtype, name, copy, fastpath)\u001b[0m\n\u001b[0;32m    175\u001b[0m                 \u001b[0mdata\u001b[0m \u001b[1;33m=\u001b[0m \u001b[1;33m{\u001b[0m\u001b[1;33m}\u001b[0m\u001b[1;33m\u001b[0m\u001b[0m\n\u001b[0;32m    176\u001b[0m             \u001b[1;32mif\u001b[0m \u001b[0mdtype\u001b[0m \u001b[1;32mis\u001b[0m \u001b[1;32mnot\u001b[0m \u001b[1;32mNone\u001b[0m\u001b[1;33m:\u001b[0m\u001b[1;33m\u001b[0m\u001b[0m\n\u001b[1;32m--> 177\u001b[1;33m                 \u001b[0mdtype\u001b[0m \u001b[1;33m=\u001b[0m \u001b[0mself\u001b[0m\u001b[1;33m.\u001b[0m\u001b[0m_validate_dtype\u001b[0m\u001b[1;33m(\u001b[0m\u001b[0mdtype\u001b[0m\u001b[1;33m)\u001b[0m\u001b[1;33m\u001b[0m\u001b[0m\n\u001b[0m\u001b[0;32m    178\u001b[0m \u001b[1;33m\u001b[0m\u001b[0m\n\u001b[0;32m    179\u001b[0m             \u001b[1;32mif\u001b[0m \u001b[0misinstance\u001b[0m\u001b[1;33m(\u001b[0m\u001b[0mdata\u001b[0m\u001b[1;33m,\u001b[0m \u001b[0mMultiIndex\u001b[0m\u001b[1;33m)\u001b[0m\u001b[1;33m:\u001b[0m\u001b[1;33m\u001b[0m\u001b[0m\n",
      "\u001b[1;32m~\\Anaconda3\\lib\\site-packages\\pandas\\core\\generic.py\u001b[0m in \u001b[0;36m_validate_dtype\u001b[1;34m(self, dtype)\u001b[0m\n\u001b[0;32m    150\u001b[0m \u001b[1;33m\u001b[0m\u001b[0m\n\u001b[0;32m    151\u001b[0m         \u001b[1;32mif\u001b[0m \u001b[0mdtype\u001b[0m \u001b[1;32mis\u001b[0m \u001b[1;32mnot\u001b[0m \u001b[1;32mNone\u001b[0m\u001b[1;33m:\u001b[0m\u001b[1;33m\u001b[0m\u001b[0m\n\u001b[1;32m--> 152\u001b[1;33m             \u001b[0mdtype\u001b[0m \u001b[1;33m=\u001b[0m \u001b[0mpandas_dtype\u001b[0m\u001b[1;33m(\u001b[0m\u001b[0mdtype\u001b[0m\u001b[1;33m)\u001b[0m\u001b[1;33m\u001b[0m\u001b[0m\n\u001b[0m\u001b[0;32m    153\u001b[0m \u001b[1;33m\u001b[0m\u001b[0m\n\u001b[0;32m    154\u001b[0m             \u001b[1;31m# a compound dtype\u001b[0m\u001b[1;33m\u001b[0m\u001b[1;33m\u001b[0m\u001b[0m\n",
      "\u001b[1;32m~\\Anaconda3\\lib\\site-packages\\pandas\\core\\dtypes\\common.py\u001b[0m in \u001b[0;36mpandas_dtype\u001b[1;34m(dtype)\u001b[0m\n\u001b[0;32m   1949\u001b[0m \u001b[1;33m\u001b[0m\u001b[0m\n\u001b[0;32m   1950\u001b[0m     \u001b[1;32mtry\u001b[0m\u001b[1;33m:\u001b[0m\u001b[1;33m\u001b[0m\u001b[0m\n\u001b[1;32m-> 1951\u001b[1;33m         \u001b[0mnpdtype\u001b[0m \u001b[1;33m=\u001b[0m \u001b[0mnp\u001b[0m\u001b[1;33m.\u001b[0m\u001b[0mdtype\u001b[0m\u001b[1;33m(\u001b[0m\u001b[0mdtype\u001b[0m\u001b[1;33m)\u001b[0m\u001b[1;33m\u001b[0m\u001b[0m\n\u001b[0m\u001b[0;32m   1952\u001b[0m     \u001b[1;32mexcept\u001b[0m \u001b[1;33m(\u001b[0m\u001b[0mTypeError\u001b[0m\u001b[1;33m,\u001b[0m \u001b[0mValueError\u001b[0m\u001b[1;33m)\u001b[0m\u001b[1;33m:\u001b[0m\u001b[1;33m\u001b[0m\u001b[0m\n\u001b[0;32m   1953\u001b[0m         \u001b[1;32mraise\u001b[0m\u001b[1;33m\u001b[0m\u001b[0m\n",
      "\u001b[1;31mTypeError\u001b[0m: data type not understood"
     ]
    }
   ],
   "source": [
    "roc = roc_curve(CM_tp,pos_label=\"CM\")"
   ]
  }
 ],
 "metadata": {
  "kernelspec": {
   "display_name": "Python 3",
   "language": "python",
   "name": "python3"
  },
  "language_info": {
   "codemirror_mode": {
    "name": "ipython",
    "version": 3
   },
   "file_extension": ".py",
   "mimetype": "text/x-python",
   "name": "python",
   "nbconvert_exporter": "python",
   "pygments_lexer": "ipython3",
   "version": "3.6.4"
  }
 },
 "nbformat": 4,
 "nbformat_minor": 2
}
