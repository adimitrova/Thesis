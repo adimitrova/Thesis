{
 "cells": [
  {
   "cell_type": "markdown",
   "metadata": {},
   "source": [
    "https://stevenloria.com/simple-text-classification/"
   ]
  },
  {
   "cell_type": "code",
   "execution_count": 5,
   "metadata": {},
   "outputs": [],
   "source": [
    "from textblob.classifiers import NaiveBayesClassifier\n",
    "from textblob import TextBlob\n",
    "import random\n",
    "import time\n",
    "\n",
    "allRunsAccuracy = []"
   ]
  },
  {
   "cell_type": "code",
   "execution_count": 6,
   "metadata": {
    "scrolled": true
   },
   "outputs": [
    {
     "name": "stdout",
     "output_type": "stream",
     "text": [
      "#Sent Train:  6668  | #Sent Test:  2223\n",
      "Sent:  0  | Train:  6668  | Test: 2223\n"
     ]
    }
   ],
   "source": [
    "#file = open(r\"C:\\Users\\ani\\Desktop\\Course data Thesis\\Intent Mining ALL files\\allMerged.txt\", 'r', encoding = \"ISO-8859-1\")\n",
    "file = open(r\"C:\\Users\\a.dimitrova\\Desktop\\Course data Thesis\\INTENT MINING\\allMerged.txt\", 'r', encoding = \"ISO-8859-1\")\n",
    "sentences = file.read().split('\\n')\n",
    "text = \"\"\n",
    "\n",
    "for sent in sentences:\n",
    "    text += sent+\"\\n\"\n",
    "\n",
    "sentences = text.split(\"\\n\")\n",
    "\n",
    "nrsplit = 0\n",
    "textsize = len(sentences)\n",
    "trainTestRatio = round(0.75 * textsize)\n",
    "\n",
    "print(\"#Sent Train: \",trainTestRatio,\" | #Sent Test: \",textsize-trainTestRatio)\n",
    "\n",
    "trainS = []\n",
    "testS = []\n",
    "\n",
    "while not len(sentences) == 0:\n",
    "    nrsplit += 1\n",
    "    if nrsplit <= trainTestRatio:\n",
    "        curLine = random.choice(sentences)\n",
    "        sentences.remove(curLine)\n",
    "        trainS.append(curLine) \n",
    "    elif nrsplit > trainTestRatio:\n",
    "        curLine = random.choice(sentences)\n",
    "        sentences.remove(curLine)\n",
    "        testS.append(curLine) \n",
    "        \n",
    "\n",
    "print(\"Sent: \",len(sentences),\" | Train: \",len(trainS),\" | Test:\",len(testS))   \n",
    "\n",
    "train = []\n",
    "test = []\n",
    "\n",
    "for sent in trainS:\n",
    "    parts = sent.split('|')\n",
    "    if len(parts) > 1:\n",
    "        label = parts[0]\n",
    "        sent = parts[1]\n",
    "        tup = (sent,label)\n",
    "        train.append(tup)\n",
    "    else:\n",
    "        continue\n",
    "\n",
    "for sent in testS:\n",
    "    parts = sent.split('|')\n",
    "    if len(parts) > 1:\n",
    "        label = parts[0]\n",
    "        sent = parts[1]\n",
    "        tup = (sent,label)\n",
    "        test.append(tup)\n",
    "    else:\n",
    "        continue\n",
    "    \n",
    "    \n",
    "### ------------------ END SPLITING TEST / TRAIN with my own data"
   ]
  },
  {
   "cell_type": "markdown",
   "metadata": {},
   "source": [
    "### Takes about 5 min to train and output"
   ]
  },
  {
   "cell_type": "code",
   "execution_count": 7,
   "metadata": {},
   "outputs": [
    {
     "name": "stdout",
     "output_type": "stream",
     "text": [
      "\n",
      "Accuracy: 78.08 %\n",
      "Most Informative Features\n",
      "       contains(protect) = True               AD : CD     =   1493.7 : 1.0\n",
      "    contains(researcher) = True               AD : CD     =   1493.7 : 1.0\n",
      "        contains(backup) = True               AD : CD     =    829.8 : 1.0\n",
      "       contains(project) = True               AD : CD     =    829.8 : 1.0\n",
      "     contains(beginning) = True               AD : CD     =    497.9 : 1.0\n",
      "       contains(against) = True               AD : CD     =    497.9 : 1.0\n",
      "       contains(storage) = True               AD : CD     =    439.3 : 1.0\n",
      "   contains(appropriate) = True               AD : CD     =    439.3 : 1.0\n",
      "          contains(loss) = True               AD : CD     =    439.3 : 1.0\n",
      "            contains(wo) = True                  : CD     =    439.3 : 1.0\n",
      "          contains(help) = True               AD : CD     =    355.6 : 1.0\n",
      "         contains(place) = True               AD : CD     =    257.5 : 1.0\n",
      "           contains(ask) = True                  : SM     =    220.0 : 1.0\n",
      "        contains(though) = True                  : SM     =    220.0 : 1.0\n",
      "    contains(strategies) = True               AD : EX     =    214.0 : 1.0\n",
      "     contains(integrate) = True                  : EX     =    214.0 : 1.0\n",
      "          contains(data) = True               AD : NL     =    193.0 : 1.0\n",
      "         contains(maybe) = True                  : NL     =    193.0 : 1.0\n",
      "     contains(important) = True                  : CD     =    135.8 : 1.0\n",
      "          contains(even) = True                  : EX     =    128.4 : 1.0\n",
      "           contains(has) = True               AD : EX     =    128.4 : 1.0\n",
      "        contains(course) = True                  : EX     =    128.4 : 1.0\n",
      "         contains(model) = True                  : CD     =    122.4 : 1.0\n",
      "          contains(from) = True               AD : NL     =    115.8 : 1.0\n",
      "          contains(okay) = True                  : CM     =    103.0 : 1.0\n",
      "      contains(instance) = True               EX : CD     =     89.2 : 1.0\n",
      "          contains(will) = True               AD : NL     =     82.7 : 1.0\n",
      "           contains(say) = True                  : NL     =     82.7 : 1.0\n",
      "       contains(instead) = True                  : CD     =     78.6 : 1.0\n",
      "   contains(identifiers) = True               CM : CD     =     72.5 : 1.0\n",
      "       contains(example) = True               EX : CD     =     71.7 : 1.0\n",
      "        contains(lesson) = True               SM : CD     =     65.6 : 1.0\n",
      "         contains(hello) = True               NL : CD     =     64.5 : 1.0\n",
      "      contains(bouncing) = True               CM : CD     =     56.4 : 1.0\n",
      "         contains(music) = True               NL : CD     =     55.9 : 1.0\n",
      "          contains(your) = True                  : NL     =     52.6 : 1.0\n",
      "            contains(if) = True               AD : NL     =     52.6 : 1.0\n",
      "        contains(opened) = True               AP : CD     =     50.3 : 1.0\n",
      "     contains(practices) = True               AP : CD     =     50.3 : 1.0\n",
      "     contains(summarize) = True               SM : CD     =     49.0 : 1.0\n",
      "        contains(basics) = True               SM : CD     =     49.0 : 1.0\n",
      "           contains(n't) = True                  : CM     =     44.1 : 1.0\n",
      "     contains(protocols) = True               SM : CD     =     43.0 : 1.0\n",
      "   contains(researchers) = True               AP : CD     =     41.1 : 1.0\n",
      "      contains(connects) = True               CM : CD     =     40.3 : 1.0\n",
      "       contains(central) = True               CM : CD     =     40.3 : 1.0\n",
      "         contains(reset) = True               CM : CD     =     40.3 : 1.0\n",
      "      contains(blending) = True               CM : CD     =     40.3 : 1.0\n",
      "    contains(techniques) = True               CM : CD     =     40.3 : 1.0\n",
      "      contains(topology) = True               CM : CD     =     38.0 : 1.0\n"
     ]
    },
    {
     "ename": "TypeError",
     "evalue": "must be str, not float",
     "output_type": "error",
     "traceback": [
      "\u001b[1;31m---------------------------------------------------------------------------\u001b[0m",
      "\u001b[1;31mTypeError\u001b[0m                                 Traceback (most recent call last)",
      "\u001b[1;32m<ipython-input-7-549df65fb3c7>\u001b[0m in \u001b[0;36m<module>\u001b[1;34m()\u001b[0m\n\u001b[0;32m     35\u001b[0m         \u001b[0mbayes\u001b[0m\u001b[1;33m.\u001b[0m\u001b[0mshow_informative_features\u001b[0m\u001b[1;33m(\u001b[0m\u001b[1;36m50\u001b[0m\u001b[1;33m)\u001b[0m\u001b[1;33m\u001b[0m\u001b[0m\n\u001b[0;32m     36\u001b[0m         \u001b[0mendIter\u001b[0m \u001b[1;33m=\u001b[0m \u001b[0mtime\u001b[0m\u001b[1;33m.\u001b[0m\u001b[0mtime\u001b[0m\u001b[1;33m(\u001b[0m\u001b[1;33m)\u001b[0m\u001b[1;33m\u001b[0m\u001b[0m\n\u001b[1;32m---> 37\u001b[1;33m         \u001b[0moFile\u001b[0m\u001b[1;33m.\u001b[0m\u001b[0mwrite\u001b[0m\u001b[1;33m(\u001b[0m\u001b[1;34m\"Iteration execution time: \"\u001b[0m\u001b[1;33m+\u001b[0m\u001b[1;33m(\u001b[0m\u001b[0mendIter\u001b[0m \u001b[1;33m-\u001b[0m \u001b[0mstartIter\u001b[0m\u001b[1;33m)\u001b[0m\u001b[1;33m/\u001b[0m\u001b[1;36m60\u001b[0m\u001b[1;33m+\u001b[0m\u001b[1;34m\"\\n\"\u001b[0m\u001b[1;33m)\u001b[0m\u001b[1;33m\u001b[0m\u001b[0m\n\u001b[0m\u001b[0;32m     38\u001b[0m         \u001b[0mruns\u001b[0m \u001b[1;33m+=\u001b[0m \u001b[1;36m1\u001b[0m\u001b[1;33m\u001b[0m\u001b[0m\n\u001b[0;32m     39\u001b[0m \u001b[1;33m\u001b[0m\u001b[0m\n",
      "\u001b[1;31mTypeError\u001b[0m: must be str, not float"
     ]
    }
   ],
   "source": [
    "### ------------------ Naive Bayes train\n",
    "start = time.time()\n",
    "runs = 0\n",
    "\n",
    "while(runs <= 10):\n",
    "    startIter = time.time()\n",
    "    with open(r\"C:\\Users\\a.dimitrova\\Desktop\\Course data Thesis\\INTENT MINING\\NBayeslog.txt\", \"a\", encoding = \"utf-8\") as oFile:\n",
    "        bayes = NaiveBayesClassifier(train)\n",
    "\n",
    "        # Compute accuracy\n",
    "        accuracy = bayes.accuracy(test)*100\n",
    "        allRunsAccuracy.append(accuracy)\n",
    "        oFile.write(\"Accuracy: {0:.2f} %\\n\".format(accuracy))\n",
    "        print(\"\\nAccuracy: {0:.2f} %\".format(bayes.accuracy(test)*100))\n",
    "\n",
    "        # Show 50 most informative features\n",
    "        # This cannot be saved in the output file as it return None\n",
    "        bayes.show_informative_features(50)\n",
    "        endIter = time.time()\n",
    "        #oFile.write(\"Iteration execution time: \"+(endIter - startIter)/60+\"\\n\")\n",
    "        runs += 1\n",
    "        \n",
    "end = time.time()\n",
    "print(\"Runs: \",len(allRunsAccuracy))\n",
    "print(\"Execution time: {0:.2f} min\".format((end - start)/60))"
   ]
  },
  {
   "cell_type": "code",
   "execution_count": 17,
   "metadata": {},
   "outputs": [
    {
     "name": "stdout",
     "output_type": "stream",
     "text": [
      "Accuracy: 83.33 %\n",
      "Most Informative Features\n",
      "          contains(this) = True              neg : pos    =      2.3 : 1.0\n",
      "          contains(this) = False             pos : neg    =      1.8 : 1.0\n",
      "          contains(This) = False             neg : pos    =      1.6 : 1.0\n",
      "            contains(an) = False             neg : pos    =      1.6 : 1.0\n",
      "             contains(I) = False             pos : neg    =      1.4 : 1.0\n",
      "Execution time: 0.018 sec | 0.00030 min\n"
     ]
    }
   ],
   "source": [
    "from textblob.classifiers import NaiveBayesClassifier\n",
    "from textblob import TextBlob\n",
    "start = time.time()\n",
    "\n",
    "train = [\n",
    "    ('I love this sandwich.', 'pos'),\n",
    "    ('This is an amazing place!', 'pos'),\n",
    "    ('I feel very good about these beers.', 'pos'),\n",
    "    ('This is my best work.', 'pos'),\n",
    "    (\"What an awesome view\", 'pos'),\n",
    "    ('I do not like this restaurant', 'neg'),\n",
    "    ('I am tired of this stuff.', 'neg'),\n",
    "    (\"I can't deal with this\", 'neg'),\n",
    "    ('He is my sworn enemy!', 'neg'),\n",
    "    ('My boss is horrible.', 'neg')\n",
    "]\n",
    "test = [\n",
    "    ('The beer was good.', 'pos'),\n",
    "    ('I do not enjoy my job', 'neg'),\n",
    "    (\"I ain't feeling dandy today.\", 'neg'),\n",
    "    (\"I feel amazing!\", 'pos'),\n",
    "    ('Gary is a friend of mine.', 'pos'),\n",
    "    (\"I can't believe I'm doing this.\", 'neg')\n",
    "]\n",
    "\n",
    "with open(r\"C:\\Users\\ani\\Desktop\\Course data Thesis\\NBayeslog.txt\",\"a\",encoding = \"utf-8\") as oFile:\n",
    "    cl = NaiveBayesClassifier(train)\n",
    "\n",
    "    # Compute accuracy\n",
    "    accuracy = cl.accuracy(test)*100\n",
    "    oFile.write(\"Accuracy: {0:.2f} % \\n\".format(accuracy))\n",
    "    print(\"Accuracy: {0:.2f} %\".format(cl.accuracy(test)*100))\n",
    "\n",
    "    # Show 5 most informative features\n",
    "    cl.show_informative_features(5)\n",
    "    \n",
    "end = time.time()\n",
    "print(\"Execution time: {0:.3f} sec | {1:.5f} min\".format((end - start),(end - start)/60))"
   ]
  }
 ],
 "metadata": {
  "kernelspec": {
   "display_name": "Python 3",
   "language": "python",
   "name": "python3"
  },
  "language_info": {
   "codemirror_mode": {
    "name": "ipython",
    "version": 3
   },
   "file_extension": ".py",
   "mimetype": "text/x-python",
   "name": "python",
   "nbconvert_exporter": "python",
   "pygments_lexer": "ipython3",
   "version": "3.6.4"
  }
 },
 "nbformat": 4,
 "nbformat_minor": 2
}
