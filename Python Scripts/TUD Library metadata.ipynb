{
 "cells": [
  {
   "cell_type": "markdown",
   "metadata": {},
   "source": [
    "### Data from TUD Library"
   ]
  },
  {
   "cell_type": "markdown",
   "metadata": {},
   "source": [
    "__From Manuel:__\n",
    "\n",
    "- The metadata I got from their OAI site\n",
    "http://oai.tudelft.nl/ir/\n",
    "\n",
    "- Sickle Documentation - http://sickle.readthedocs.io/en/latest/\n",
    "\n",
    "- Another OAI link - https://books.bk.tudelft.nl/index.php/press/oai\n",
    "- All OAI repositories: http://www.openarchives.org/Register/BrowseSites\n",
    "- MERLOT: https://www.merlot.org/merlot/index.htm\n",
    "\n"
   ]
  },
  {
   "cell_type": "markdown",
   "metadata": {},
   "source": [
    " ### Theory OAI‐PMH (Open Archives Initiative Protocol for Metadata Harvesting)\n",
    "\n",
    "Currently, the basis of most interoperability efforts in the learning object repositories field, OAI‐PMH is a protocol for transferring over the web metadata about any material stored in electronic form. Compared with similar initiatives such as Z39.50 (which addresses issues such as session management, management of result sets and specification of predicates to filter out results), OAI was intentionally designed simple to reduce implementation complexity and therefore costs, facilitating its adoption. Nonetheless, this new protocol was designed for transferring large amounts of metadata, and thus provides a reasonable solution for clients that need to aggregate or index metadata\n",
    "\n",
    "Paper **Interlinking educational resources and the web of data : A survey of challenges and approaches**\n",
    "\n",
    "Alternatives\n",
    "- https://gist.github.com/lawlesst/1323535\n",
    "- https://pypi.org/project/oaiharvest/\n",
    "- https://github.com/infrae/pyoai\n",
    "\n",
    "Set the IOPub data rate limit: https://github.com/jupyter/notebook/issues/2287\n",
    "\n",
    "run `jupyter notebook --NotebookApp.iopub_data_rate_limit=10000000000`\n",
    "\n",
    "To change this limit, set the config variable\n",
    "`--NotebookApp.iopub_data_rate_limit`.\n",
    "\n",
    "Current values:\n",
    "\n",
    "NotebookApp.iopub_data_rate_limit=1000000.0 (bytes/sec)\n",
    "\n",
    "NotebookApp.rate_limit_window=3.0 (secs)"
   ]
  },
  {
   "cell_type": "code",
   "execution_count": 1,
   "metadata": {},
   "outputs": [],
   "source": [
    "from sickle import Sickle"
   ]
  },
  {
   "cell_type": "code",
   "execution_count": 3,
   "metadata": {},
   "outputs": [],
   "source": [
    "sickle = Sickle('https://books.bk.tudelft.nl/index.php/press/oai')\n",
    "records = sickle.ListRecords( **{'metadataPrefix': 'oai_dc', 'ignore_deleted': 'True'})\n",
    "\n",
    "oFilePath = r\"C:\\Users\\ani\\Desktop\\Course data Thesis\\TUDelftBooks.xml\"\n",
    "\n",
    "with open(oFilePath, 'w', encoding = \"utf-8\") as oFile:\n",
    "    for i,rec in enumerate(records):\n",
    "        #print(rec.header)\n",
    "        # extract only 1/3rd of the data as the file is too big otherwise (150 mb)\n",
    "        #if i % 60 == 0:\n",
    "            #oFile.write(str(rec))\n",
    "        oFile.write(str(rec))"
   ]
  },
  {
   "cell_type": "code",
   "execution_count": null,
   "metadata": {},
   "outputs": [
    {
     "name": "stdout",
     "output_type": "stream",
     "text": [
      "Processing metadata\n"
     ]
    }
   ],
   "source": [
    "items = {}\n",
    "\n",
    "sickle = Sickle('http://oai.tudelft.nl/ir')\n",
    "records = sickle.ListRecords( **{'metadataPrefix': 'oai_dc', 'ignore_deleted': 'True'})\n",
    "\n",
    "print('Processing metadata')\n",
    "\n",
    "for r in records:\n",
    "    uuid = ''\n",
    "    uuid = r.metadata['identifier'][0][32:]\n",
    "    items[uuid] = r.metadata\n",
    "\n",
    "print(len(items))\n",
    "print(items)"
   ]
  },
  {
   "cell_type": "code",
   "execution_count": null,
   "metadata": {},
   "outputs": [],
   "source": [
    "from oaipmh.client import Client\n",
    "from oaipmh.metadata import MetadataRegistry, oai_dc_reader\n",
    "\n",
    "URL = 'http://oai.tudelft.nl/ir'\n",
    "\n",
    "registry = MetadataRegistry()\n",
    "registry.registerReader('oai_dc', oai_dc_reader)\n",
    "client = Client(URL, registry)\n",
    "\n",
    "for record in client.listRecords(metadataPrefix='oai_dc'):\n",
    "   print(record)"
   ]
  },
  {
   "cell_type": "markdown",
   "metadata": {},
   "source": [
    "## TU Delft Library Metadata 1 Record\n",
    "\n",
    "` <record xmlns=\"http://www.openarchives.org/OAI/2.0/\" xmlns:xsi=\"http://www.w3.org/2001/XMLSchema-instance\">\n",
    "\t<header>\n",
    "\t<identifier>oai:tudelft.nl:uuid:00036dbe-54d3-432a-a78f-83cd66211b5e</identifier>\n",
    "\t<datestamp>2017-10-18T22:57:59Z</datestamp>\n",
    "\t<setSpec>A-set</setSpec>\n",
    "\t</header>\n",
    "\n",
    "\t<metadata>\n",
    "\t\t<oai_dc:dc xmlns:oai_dc=\"http://www.openarchives.org/OAI/2.0/oai_dc/\" xmlns:dc=\"http://purl.org/dc/elements/1.1/\" xmlns:xsi=\"http://www.w3.org/2001/XMLSchema-instance\" xsi:schemaLocation=\"http://www.openarchives.org/OAI/2.0/oai_dc/ http://www.openarchives.org/OAI/2.0/oai_dc.xsd\">\n",
    "\t\t<dc:title>Een exploratief onderzoek naar arbeidsmigranten en veiligheid in drie Europese landen</dc:title><dc:creator>Guldenmund, F.W. (author)\n",
    "\t\t</dc:creator><dc:creator>Cleal, B. (author)</dc:creator>\n",
    "\t\t<dc:creator>Mearns, K. (author)</dc:creator>\n",
    "\t\t<dc:description>Het aantal ongevallen met verzuim van arbeidsmigranten of ‘nieuwkomers’ stijgt de laatste jaren. Onder andere naar aanleiding hiervan is er in opdracht van het Ministerie van Sociale Zaken en Werkgelegenheid een studie uitgevoerd naar de arbeidsveiligheid van deze groep. Drie Europese landen (Denemarken, Verenigd Koninkrijk, Nederland) namen deel aan de studie. Speciale aandacht ging uit naar de relatie tussen veiligheid en de nationaliteit van de migranten. Met behulp van vierenveertig interviews, een vragenlijstonderzoek in elf landen en Deense ongevalsdata wordt een beeld geschetst van de situatie van arbeidsmigranten in de drie landen. Hoewel nog veel materiaal anekdotisch is, kan geconcludeerd worden dat het om een kwetsbare groep gaat. Zo lang veel migranten ongeregistreerd aan het werk gaan in het buitenland, en de nationale ongevallen databases niet uitgebreider en systematischer gecodeerd worden, blijft echter de omvang van het probleem vooralsnog onduidelijk.</dc:description>\n",
    "\t\t<dc:description>Values and Technology</dc:description>\n",
    "\t\t<dc:description>Technology, Policy and Management</dc:description>\n",
    "\t\t<dc:publisher>Nederlandse Vereniging voor Arbeidshygiene</dc:publisher>\n",
    "\t\t<dc:date>2012-06-01</dc:date>\n",
    "\t\t<dc:type>journal article</dc:type>\n",
    "\t\t<dc:type>Text</dc:type>\n",
    "\t\t<dc:identifier>http://resolver.tudelft.nl/uuid:00036dbe-54d3-432a-a78f-83cd66211b5e</dc:identifier>\n",
    "\t\t<dc:language>nl</dc:language>\n",
    "\t\t<dc:relation>Tijdschrift voor Toegepaste Arbowetenschappen, 26 (3/4), 2012--0923-618X</dc:relation>\n",
    "\t\t<dc:rights>(c) 2012 Auteurs</dc:rights></oai_dc:dc>\n",
    "\t</metadata>\n",
    "</record> `"
   ]
  },
  {
   "cell_type": "markdown",
   "metadata": {},
   "source": [
    "## DC Elements\n",
    "\n",
    "- title\n",
    "- location\n",
    "- creator\n",
    "- description\n",
    "- publisher\n",
    "- date\n",
    "- type\n",
    "- identifier\n",
    "- language\n",
    "- relation\n",
    "- rights"
   ]
  },
  {
   "cell_type": "markdown",
   "metadata": {},
   "source": [
    "### TUDelft Books 1 record\n",
    "\n",
    "`<record xmlns=\"http://www.openarchives.org/OAI/2.0/\" xmlns:xsi=\"http://www.w3.org/2001/XMLSchema-instance\">\n",
    "    <header>\n",
    "        <identifier>oai:books.bk.tudelft.nl:publicationFormat/4</identifier>\n",
    "        <datestamp>2013-03-02T12:44:41Z</datestamp>\n",
    "        <setSpec>press:DASH</setSpec>\n",
    "    </header>\n",
    "    <metadata>\n",
    "        <oai_dc:dc xmlns:oai_dc=\"http://www.openarchives.org/OAI/2.0/oai_dc/\" xmlns:dc=\"http://purl.org/dc/elements/1.1/\" xmlns:xsi=\"http://www.w3.org/2001/XMLSchema-instance\" xsi:schemaLocation=\"http://www.openarchives.org/OAI/2.0/oai_dc/  http://www.openarchives.org/OAI/2.0/oai_dc.xsd\">\n",
    "            <dc:title xml:lang=\"en-US\">DASH 07 - The Eco House: Typologies of Space, Production and Lifestyles</dc:title>\n",
    "            <dc:creator>van Gameren, Dick; TU Delft, Architecture and the Built Environment</dc:creator>\n",
    "            <dc:creator>van den Heuvel, Dirk; TU Delft, Architecture and the Built Environment</dc:creator>\n",
    "            <dc:description xml:lang=\"en-US\">Construction is responsible for about 20 per cent of total carbon dioxide emissions and 30 per cent of energy demand; this ranks it alongside the chemical and transport industries among the biggest polluters. Sustainability is therefore one of the most significant issues for designers and architects, as well as a challenging field for innovation and research.DASHgoes in search of the ideal eco house: from solar houses to Superuse, from Cradle-to- Cradle to support-infill systems and precise prefab-technology.\n",
    "DASH The Eco House examines the history and the future of the sustainable home. This includes attention to basic principles (passive solar energy, semi-climate and ventilation) and material-use concepts. Essays by Daniel A. Barber, Machiel van Dorst, Jacques Vink, and Piet Vollaard provide not only a critical analysis of the current state of affairs, but also an inspirational exploration of possibilities for the future. Drop City pioneer Steve Baer looks back on the Construction of hisZome House and Jean-Philippe Vassal talks about his vision on architecture and sustainability. With extensive documentation of trendsetting homes by such architects as Frank Lloyd Wright, Ralph Erskine, Frei Otto, Lacaton &amp;amp; Vassal, Carlos Weeber, DAAD Architecten and 2012Architecten.\n",
    "&amp;nbsp;</dc:description>\n",
    "            <dc:publisher xml:lang=\"en-US\">BK BOOKS</dc:publisher>\n",
    "            <dc:date>2017-08-10</dc:date>\n",
    "            <dc:type xml:lang=\"en-US\">Book</dc:type>\n",
    "            <dc:type xml:lang=\"en-US\">text</dc:type>\n",
    "            <dc:format>Paperback / softback (BC)\n",
    "\t\t\t</dc:format>\n",
    "            <dc:identifier>https://books.bk.tudelft.nl/index.php/press/catalog/book/4</dc:identifier>\n",
    "            <dc:identifier>9789056628536</dc:identifier>\n",
    "            <dc:source xml:lang=\"en-US\">BK BOOKS; </dc:source>\n",
    "            <dc:rights xml:lang=\"en-US\">For sale with exclusive rights in the specified countries or territories (sales restriction applies) (07)\n",
    "\t\t\t</dc:rights>\n",
    "        </oai_dc:dc>\n",
    "    </metadata>\n",
    "</record>`"
   ]
  },
  {
   "cell_type": "markdown",
   "metadata": {},
   "source": [
    "### MERLOT\n",
    "\n",
    "Material Types\n",
    "Learning materials in MERLOT can be categorized into 22 different material Types.\n",
    "\n",
    "- Animation: Visually and dynamically presents concepts, models, processes, and/or phenomena in space or time. Users can control their pace and movement through the material typically, but they cannot determine and/or influence the initial conditions or their outcomes/results.\n",
    "- Assessment Tool: Forms, templates, and technologies for measuring teaching and/or learning performance\n",
    "- Assignment: Activities or lesson plans designed to enable students to learn skills and knowledge.\n",
    "- Case Study: A narrative resource describing a complex interaction of real life factors to help illustrate the impact and/or interactions of concepts and factors in depth\n",
    "- Collection: A meaningful organization of learning resources such as web sites, documents, apps, etc. that provides users an easier way to discover the materials.\n",
    "- Development Tool: Software development applications platforms for authoring technology-based resources (e.g. web sites, learning objects, apps.)\n",
    "- Drill and Practice: Requires users to respond repeatedly to questions or stimuli presented in a variety of sequences. Users practice on their own, at their own pace, to develop their ability to reliably perform and demonstrate the target knowledge and skills.\n",
    "- ePortfolio: A collection of electronic materials assembled and managed by a user. These may include text, electronic files, images, multimedia, blog entries, and links. E-portfolios are both demonstrations of the user’s abilities and platforms for self-expression, and, if they are online, they can be maintained dynamically over time. An e-portfolio can be seen as a type of learning record that provides actual evidence of achievement.\n",
    "- Hybrid/Blended Course: The organization and presentation of course curriculum required to deliver a complete course that blends online and face-to-face teaching and learning activities.\n",
    "- Learning Object Repository: A searchable database of at least 100 online resources that is available on the Internet and whose search result displays an ordered list of items with a descriptive metadata. A webpage with a list of links is not a learning object repository\n",
    "- Online Course: The organization and presentation of course curriculum required to deliver a complete course fully online\n",
    "- Online Course Module: A component or section of a course curriculum that can be presented fully online and independent from the complete course.\n",
    "- Open (Access) Journal – Article: A journal or article in a journal that is free of cost from the end user and has a Creative Commons, public domain, or other public use license agreement.\n",
    "- Open (Access) Textbook: An online textbook offered by its author(s) with Creative Commons, public domain, or other public use license agreement allowing use of the ebook at no additional cost.\n",
    "- Presentation: Teaching materials (text and multimedia) used present curriculum and concepts.\n",
    "- Quiz/Test: Any assessment device intended to evaluate the knowledge and/or skills of learners\n",
    "- Reference Material: Material with no specific instructional objectives, similar to that found in the reference area of a library. Subject specific directories to other sites, texts, or general information are examples.\n",
    "- Simulation: Approximates a real or virtual experience in which users’ actions affect the outcomes of tasks they have to complete. Learners determine and input initial conditions that generate output that is different from and changed by the initial conditions.\n",
    "- Social Networking Tool: Websites and apps that allows users to communicate with others connected in an electronic network of self-identified user groups for the purpose of sharing information, calls for actions, reactions, etc.\n",
    "- Syllabus: A document or website that outlines the requirements and expectations for completing a course of study.\n",
    "- Tutorial: Users navigate through a set of scaffolded learning activities designed to meet stated learning objectives, structured to impart specific concepts or skills, and organized sequentially to integrate conceptual presentation, demonstration, practice and testing. Feedback on learner performance is an essential component of a tutorial.\n",
    "- Workshop and Training Material: Materials best used in a workshop setting for the purpose of professional development.\n",
    "\n",
    "### MERLOT metadata (partial)\n",
    "\n",
    "- Material Type\n",
    "- Author\n",
    "- Date Created\n",
    "- Date Modified\n",
    "- Date added to MERLOT\n",
    "- Title\n",
    "- ID\n",
    "- Material type\n",
    "- Submitter\n",
    "- Primary Audience\n",
    "    - Role (educational, student etc)\n",
    "- Technical format\n",
    "    - Applet / Video / Wiki / Image / HTML / Text / PDF etc\n",
    "- Language\n",
    "- Cost\n",
    "- Disciplines\n",
    "- Keywords\n",
    "- Material_description\n",
    "- Rate\n",
    "- Quality\n",
    "    - Peer review rating\n",
    "        - ratingCount\n",
    "        - ratingValue\n",
    "        - bestRating\n",
    "        - worstRating\n",
    "    - User rating\n",
    "        - ratingCount\n",
    "        - ratingValue\n",
    "        - bestRating\n",
    "        - worstRating\n",
    "- URL (ID)\n",
    "- Media (URL)\n",
    "- Accessibility\n",
    "- Mobile Compatibility\n",
    "- Creative Commons\n",
    "    - useRightsUrl\n",
    "    - license\n",
    "- Similar material discriplines"
   ]
  }
 ],
 "metadata": {
  "kernelspec": {
   "display_name": "Python 3",
   "language": "python",
   "name": "python3"
  },
  "language_info": {
   "codemirror_mode": {
    "name": "ipython",
    "version": 3
   },
   "file_extension": ".py",
   "mimetype": "text/x-python",
   "name": "python",
   "nbconvert_exporter": "python",
   "pygments_lexer": "ipython3",
   "version": "3.6.4"
  }
 },
 "nbformat": 4,
 "nbformat_minor": 2
}
